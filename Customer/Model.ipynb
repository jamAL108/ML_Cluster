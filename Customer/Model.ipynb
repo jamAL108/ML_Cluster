{
 "cells": [
  {
   "cell_type": "code",
   "execution_count": 167,
   "id": "33a1b9cf",
   "metadata": {},
   "outputs": [],
   "source": [
    "import numpy as np\n",
    "import pandas as pd\n",
    "import warnings\n",
    "warnings.filterwarnings(\"ignore\")\n",
    "import plotly.graph_objects as go\n",
    "from plotly.subplots import make_subplots\n",
    "import plotly.express as px\n",
    "import seaborn as sns\n",
    "import matplotlib.pyplot as plt"
   ]
  },
  {
   "cell_type": "code",
   "execution_count": 168,
   "id": "fb191ca6",
   "metadata": {},
   "outputs": [],
   "source": [
    "df = pd.read_csv(\"segmentation data.csv\")"
   ]
  },
  {
   "cell_type": "code",
   "execution_count": 169,
   "id": "c87237cd",
   "metadata": {},
   "outputs": [
    {
     "data": {
      "text/html": [
       "<div>\n",
       "<style scoped>\n",
       "    .dataframe tbody tr th:only-of-type {\n",
       "        vertical-align: middle;\n",
       "    }\n",
       "\n",
       "    .dataframe tbody tr th {\n",
       "        vertical-align: top;\n",
       "    }\n",
       "\n",
       "    .dataframe thead th {\n",
       "        text-align: right;\n",
       "    }\n",
       "</style>\n",
       "<table border=\"1\" class=\"dataframe\">\n",
       "  <thead>\n",
       "    <tr style=\"text-align: right;\">\n",
       "      <th></th>\n",
       "      <th>ID</th>\n",
       "      <th>Sex</th>\n",
       "      <th>Marital status</th>\n",
       "      <th>Age</th>\n",
       "      <th>Education</th>\n",
       "      <th>Income</th>\n",
       "      <th>Occupation</th>\n",
       "      <th>Settlement size</th>\n",
       "    </tr>\n",
       "  </thead>\n",
       "  <tbody>\n",
       "    <tr>\n",
       "      <th>0</th>\n",
       "      <td>100000001</td>\n",
       "      <td>0</td>\n",
       "      <td>0</td>\n",
       "      <td>67</td>\n",
       "      <td>2</td>\n",
       "      <td>124670</td>\n",
       "      <td>1</td>\n",
       "      <td>2</td>\n",
       "    </tr>\n",
       "    <tr>\n",
       "      <th>1</th>\n",
       "      <td>100000002</td>\n",
       "      <td>1</td>\n",
       "      <td>1</td>\n",
       "      <td>22</td>\n",
       "      <td>1</td>\n",
       "      <td>150773</td>\n",
       "      <td>1</td>\n",
       "      <td>2</td>\n",
       "    </tr>\n",
       "    <tr>\n",
       "      <th>2</th>\n",
       "      <td>100000003</td>\n",
       "      <td>0</td>\n",
       "      <td>0</td>\n",
       "      <td>49</td>\n",
       "      <td>1</td>\n",
       "      <td>89210</td>\n",
       "      <td>0</td>\n",
       "      <td>0</td>\n",
       "    </tr>\n",
       "    <tr>\n",
       "      <th>3</th>\n",
       "      <td>100000004</td>\n",
       "      <td>0</td>\n",
       "      <td>0</td>\n",
       "      <td>45</td>\n",
       "      <td>1</td>\n",
       "      <td>171565</td>\n",
       "      <td>1</td>\n",
       "      <td>1</td>\n",
       "    </tr>\n",
       "    <tr>\n",
       "      <th>4</th>\n",
       "      <td>100000005</td>\n",
       "      <td>0</td>\n",
       "      <td>0</td>\n",
       "      <td>53</td>\n",
       "      <td>1</td>\n",
       "      <td>149031</td>\n",
       "      <td>1</td>\n",
       "      <td>1</td>\n",
       "    </tr>\n",
       "  </tbody>\n",
       "</table>\n",
       "</div>"
      ],
      "text/plain": [
       "          ID  Sex  Marital status  Age  Education  Income  Occupation  \\\n",
       "0  100000001    0               0   67          2  124670           1   \n",
       "1  100000002    1               1   22          1  150773           1   \n",
       "2  100000003    0               0   49          1   89210           0   \n",
       "3  100000004    0               0   45          1  171565           1   \n",
       "4  100000005    0               0   53          1  149031           1   \n",
       "\n",
       "   Settlement size  \n",
       "0                2  \n",
       "1                2  \n",
       "2                0  \n",
       "3                1  \n",
       "4                1  "
      ]
     },
     "execution_count": 169,
     "metadata": {},
     "output_type": "execute_result"
    }
   ],
   "source": [
    "df.head()"
   ]
  },
  {
   "cell_type": "code",
   "execution_count": 170,
   "id": "49175675",
   "metadata": {},
   "outputs": [],
   "source": [
    "df.drop(columns=['ID'],inplace=True)"
   ]
  },
  {
   "cell_type": "code",
   "execution_count": 171,
   "id": "f9846cb7",
   "metadata": {},
   "outputs": [
    {
     "data": {
      "text/html": [
       "<div>\n",
       "<style scoped>\n",
       "    .dataframe tbody tr th:only-of-type {\n",
       "        vertical-align: middle;\n",
       "    }\n",
       "\n",
       "    .dataframe tbody tr th {\n",
       "        vertical-align: top;\n",
       "    }\n",
       "\n",
       "    .dataframe thead th {\n",
       "        text-align: right;\n",
       "    }\n",
       "</style>\n",
       "<table border=\"1\" class=\"dataframe\">\n",
       "  <thead>\n",
       "    <tr style=\"text-align: right;\">\n",
       "      <th></th>\n",
       "      <th>Sex</th>\n",
       "      <th>Marital status</th>\n",
       "      <th>Age</th>\n",
       "      <th>Education</th>\n",
       "      <th>Income</th>\n",
       "      <th>Occupation</th>\n",
       "      <th>Settlement size</th>\n",
       "    </tr>\n",
       "  </thead>\n",
       "  <tbody>\n",
       "    <tr>\n",
       "      <th>0</th>\n",
       "      <td>0</td>\n",
       "      <td>0</td>\n",
       "      <td>67</td>\n",
       "      <td>2</td>\n",
       "      <td>124670</td>\n",
       "      <td>1</td>\n",
       "      <td>2</td>\n",
       "    </tr>\n",
       "    <tr>\n",
       "      <th>1</th>\n",
       "      <td>1</td>\n",
       "      <td>1</td>\n",
       "      <td>22</td>\n",
       "      <td>1</td>\n",
       "      <td>150773</td>\n",
       "      <td>1</td>\n",
       "      <td>2</td>\n",
       "    </tr>\n",
       "    <tr>\n",
       "      <th>2</th>\n",
       "      <td>0</td>\n",
       "      <td>0</td>\n",
       "      <td>49</td>\n",
       "      <td>1</td>\n",
       "      <td>89210</td>\n",
       "      <td>0</td>\n",
       "      <td>0</td>\n",
       "    </tr>\n",
       "    <tr>\n",
       "      <th>3</th>\n",
       "      <td>0</td>\n",
       "      <td>0</td>\n",
       "      <td>45</td>\n",
       "      <td>1</td>\n",
       "      <td>171565</td>\n",
       "      <td>1</td>\n",
       "      <td>1</td>\n",
       "    </tr>\n",
       "    <tr>\n",
       "      <th>4</th>\n",
       "      <td>0</td>\n",
       "      <td>0</td>\n",
       "      <td>53</td>\n",
       "      <td>1</td>\n",
       "      <td>149031</td>\n",
       "      <td>1</td>\n",
       "      <td>1</td>\n",
       "    </tr>\n",
       "  </tbody>\n",
       "</table>\n",
       "</div>"
      ],
      "text/plain": [
       "   Sex  Marital status  Age  Education  Income  Occupation  Settlement size\n",
       "0    0               0   67          2  124670           1                2\n",
       "1    1               1   22          1  150773           1                2\n",
       "2    0               0   49          1   89210           0                0\n",
       "3    0               0   45          1  171565           1                1\n",
       "4    0               0   53          1  149031           1                1"
      ]
     },
     "execution_count": 171,
     "metadata": {},
     "output_type": "execute_result"
    }
   ],
   "source": [
    "df.head()"
   ]
  },
  {
   "cell_type": "code",
   "execution_count": 172,
   "id": "26584d6e",
   "metadata": {},
   "outputs": [
    {
     "data": {
      "text/plain": [
       "(2000, 7)"
      ]
     },
     "execution_count": 172,
     "metadata": {},
     "output_type": "execute_result"
    }
   ],
   "source": [
    "df.shape"
   ]
  },
  {
   "cell_type": "code",
   "execution_count": 173,
   "id": "01e503a5",
   "metadata": {},
   "outputs": [
    {
     "data": {
      "image/png": "[encoded data removed]",
      "text/plain": [
       "<Figure size 2000x800 with 1 Axes>"
      ]
     },
     "metadata": {},
     "output_type": "display_data"
    }
   ],
   "source": [
    "plt.figure(figsize=(20,8))\n",
    "sns.countplot(data=df,x='Age')\n",
    "plt.show()"
   ]
  },
  {
   "cell_type": "code",
   "execution_count": 174,
   "id": "8a2f6196",
   "metadata": {},
   "outputs": [
    {
     "name": "stdout",
     "output_type": "stream",
     "text": [
      "1 1\n",
      "1 2\n",
      "2 1\n",
      "2 2\n",
      "3 1\n"
     ]
    },
    {
     "data": {
      "application/vnd.plotly.v1+json": {
       "config": {
        "plotlyServerURL": "https://plot.ly"
       },
       "data": [
        {
         "marker": {
          "color": [
           "rgb(211, 242, 163)",
           "rgb(151, 225, 150)",
           "rgb(108, 192, 139)",
           "rgb(76, 155, 130)",
           "rgb(33, 122, 121)",
           "rgb(16, 89, 101)",
           "rgb(7, 64, 80)"
          ],
          "line": {
           "color": "black",
           "width": 1.5
          }
         },
         "name": "Sex",
         "opacity": 0.8,
         "text": [
          914,
          1086
         ],
         "textfont": {
          "size": 10
         },
         "textposition": "inside",
         "type": "bar",
         "x": [
          "1",
          "0"
         ],
         "xaxis": "x",
         "y": [
          914,
          1086
         ],
         "yaxis": "y"
        },
        {
         "marker": {
          "color": [
           "rgb(211, 242, 163)",
           "rgb(151, 225, 150)",
           "rgb(108, 192, 139)",
           "rgb(76, 155, 130)",
           "rgb(33, 122, 121)",
           "rgb(16, 89, 101)",
           "rgb(7, 64, 80)"
          ],
          "line": {
           "color": "black",
           "width": 1.5
          }
         },
         "name": "Marital Status",
         "opacity": 0.8,
         "text": [
          993,
          1007
         ],
         "textfont": {
          "size": 10
         },
         "textposition": "inside",
         "type": "bar",
         "x": [
          "1",
          "0"
         ],
         "xaxis": "x2",
         "y": [
          993,
          1007
         ],
         "yaxis": "y2"
        },
        {
         "marker": {
          "color": [
           "rgb(211, 242, 163)",
           "rgb(151, 225, 150)",
           "rgb(108, 192, 139)",
           "rgb(76, 155, 130)",
           "rgb(33, 122, 121)",
           "rgb(16, 89, 101)",
           "rgb(7, 64, 80)"
          ],
          "line": {
           "color": "black",
           "width": 1.5
          }
         },
         "name": "Education",
         "opacity": 0.8,
         "text": [
          36,
          287,
          291,
          1386
         ],
         "textfont": {
          "size": 10
         },
         "textposition": "inside",
         "type": "bar",
         "x": [
          "3",
          "0",
          "2",
          "1"
         ],
         "xaxis": "x3",
         "y": [
          36,
          287,
          291,
          1386
         ],
         "yaxis": "y3"
        },
        {
         "marker": {
          "color": [
           "rgb(211, 242, 163)",
           "rgb(151, 225, 150)",
           "rgb(108, 192, 139)",
           "rgb(76, 155, 130)",
           "rgb(33, 122, 121)",
           "rgb(16, 89, 101)",
           "rgb(7, 64, 80)"
          ],
          "line": {
           "color": "black",
           "width": 1.5
          }
         },
         "name": "Occupation",
         "opacity": 0.8,
         "text": [
          254,
          633,
          1113
         ],
         "textfont": {
          "size": 10
         },
         "textposition": "inside",
         "type": "bar",
         "x": [
          "2",
          "0",
          "1"
         ],
         "xaxis": "x4",
         "y": [
          254,
          633,
          1113
         ],
         "yaxis": "y4"
        },
        {
         "marker": {
          "color": [
           "rgb(211, 242, 163)",
           "rgb(151, 225, 150)",
           "rgb(108, 192, 139)",
           "rgb(76, 155, 130)",
           "rgb(33, 122, 121)",
           "rgb(16, 89, 101)",
           "rgb(7, 64, 80)"
          ],
          "line": {
           "color": "black",
           "width": 1.5
          }
         },
         "name": "Settlement Size",
         "opacity": 0.8,
         "text": [
          467,
          544,
          989
         ],
         "textfont": {
          "size": 10
         },
         "textposition": "inside",
         "type": "bar",
         "x": [
          "2",
          "1",
          "0"
         ],
         "xaxis": "x5",
         "y": [
          467,
          544,
          989
         ],
         "yaxis": "y5"
        }
       ],
       "layout": {
        "height": 800,
        "template": {
         "data": {
          "bar": [
           {
            "error_x": {
             "color": "rgb(36,36,36)"
            },
            "error_y": {
             "color": "rgb(36,36,36)"
            },
            "marker": {
             "line": {
              "color": "white",
              "width": 0.5
             },
             "pattern": {
              "fillmode": "overlay",
              "size": 10,
              "solidity": 0.2
             }
            },
            "type": "bar"
           }
          ],
          "barpolar": [
           {
            "marker": {
             "line": {
              "color": "white",
              "width": 0.5
             },
             "pattern": {
              "fillmode": "overlay",
              "size": 10,
              "solidity": 0.2
             }
            },
            "type": "barpolar"
           }
          ],
          "carpet": [
           {
            "aaxis": {
             "endlinecolor": "rgb(36,36,36)",
             "gridcolor": "white",
             "linecolor": "white",
             "minorgridcolor": "white",
             "startlinecolor": "rgb(36,36,36)"
            },
            "baxis": {
             "endlinecolor": "rgb(36,36,36)",
             "gridcolor": "white",
             "linecolor": "white",
             "minorgridcolor": "white",
             "startlinecolor": "rgb(36,36,36)"
            },
            "type": "carpet"
           }
          ],
          "choropleth": [
           {
            "colorbar": {
             "outlinewidth": 1,
             "tickcolor": "rgb(36,36,36)",
             "ticks": "outside"
            },
            "type": "choropleth"
           }
          ],
          "contour": [
           {
            "colorbar": {
             "outlinewidth": 1,
             "tickcolor": "rgb(36,36,36)",
             "ticks": "outside"
            },
            "colorscale": [
             [
              0,
              "#440154"
             ],
             [
              0.1111111111111111,
              "#482878"
             ],
             [
              0.2222222222222222,
              "#3e4989"
             ],
             [
              0.3333333333333333,
              "#31688e"
             ],
             [
              0.4444444444444444,
              "#26828e"
             ],
             [
              0.5555555555555556,
              "#1f9e89"
             ],
             [
              0.6666666666666666,
              "#35b779"
             ],
             [
              0.7777777777777778,
              "#6ece58"
             ],
             [
              0.8888888888888888,
              "#b5de2b"
             ],
             [
              1,
              "#fde725"
             ]
            ],
            "type": "contour"
           }
          ],
          "contourcarpet": [
           {
            "colorbar": {
             "outlinewidth": 1,
             "tickcolor": "rgb(36,36,36)",
             "ticks": "outside"
            },
            "type": "contourcarpet"
           }
          ],
          "heatmap": [
           {
            "colorbar": {
             "outlinewidth": 1,
             "tickcolor": "rgb(36,36,36)",
             "ticks": "outside"
            },
            "colorscale": [
             [
              0,
              "#440154"
             ],
             [
              0.1111111111111111,
              "#482878"
             ],
             [
              0.2222222222222222,
              "#3e4989"
             ],
             [
              0.3333333333333333,
              "#31688e"
             ],
             [
              0.4444444444444444,
              "#26828e"
             ],
             [
              0.5555555555555556,
              "#1f9e89"
             ],
             [
              0.6666666666666666,
              "#35b779"
             ],
             [
              0.7777777777777778,
              "#6ece58"
             ],
             [
              0.8888888888888888,
              "#b5de2b"
             ],
             [
              1,
              "#fde725"
             ]
            ],
            "type": "heatmap"
           }
          ],
          "heatmapgl": [
           {
            "colorbar": {
             "outlinewidth": 1,
             "tickcolor": "rgb(36,36,36)",
             "ticks": "outside"
            },
            "colorscale": [
             [
              0,
              "#440154"
             ],
             [
              0.1111111111111111,
              "#482878"
             ],
             [
              0.2222222222222222,
              "#3e4989"
             ],
             [
              0.3333333333333333,
              "#31688e"
             ],
             [
              0.4444444444444444,
              "#26828e"
             ],
             [
              0.5555555555555556,
              "#1f9e89"
             ],
             [
              0.6666666666666666,
              "#35b779"
             ],
             [
              0.7777777777777778,
              "#6ece58"
             ],
             [
              0.8888888888888888,
              "#b5de2b"
             ],
             [
              1,
              "#fde725"
             ]
            ],
            "type": "heatmapgl"
           }
          ],
          "histogram": [
           {
            "marker": {
             "line": {
              "color": "white",
              "width": 0.6
             }
            },
            "type": "histogram"
           }
          ],
          "histogram2d": [
           {
            "colorbar": {
             "outlinewidth": 1,
             "tickcolor": "rgb(36,36,36)",
             "ticks": "outside"
            },
            "colorscale": [
             [
              0,
              "#440154"
             ],
             [
              0.1111111111111111,
              "#482878"
             ],
             [
              0.2222222222222222,
              "#3e4989"
             ],
             [
              0.3333333333333333,
              "#31688e"
             ],
             [
              0.4444444444444444,
              "#26828e"
             ],
             [
              0.5555555555555556,
              "#1f9e89"
             ],
             [
              0.6666666666666666,
              "#35b779"
             ],
             [
              0.7777777777777778,
              "#6ece58"
             ],
             [
              0.8888888888888888,
              "#b5de2b"
             ],
             [
              1,
              "#fde725"
             ]
            ],
            "type": "histogram2d"
           }
          ],
          "histogram2dcontour": [
           {
            "colorbar": {
             "outlinewidth": 1,
             "tickcolor": "rgb(36,36,36)",
             "ticks": "outside"
            },
            "colorscale": [
             [
              0,
              "#440154"
             ],
             [
              0.1111111111111111,
              "#482878"
             ],
             [
              0.2222222222222222,
              "#3e4989"
             ],
             [
              0.3333333333333333,
              "#31688e"
             ],
             [
              0.4444444444444444,
              "#26828e"
             ],
             [
              0.5555555555555556,
              "#1f9e89"
             ],
             [
              0.6666666666666666,
              "#35b779"
             ],
             [
              0.7777777777777778,
              "#6ece58"
             ],
             [
              0.8888888888888888,
              "#b5de2b"
             ],
             [
              1,
              "#fde725"
             ]
            ],
            "type": "histogram2dcontour"
           }
          ],
          "mesh3d": [
           {
            "colorbar": {
             "outlinewidth": 1,
             "tickcolor": "rgb(36,36,36)",
             "ticks": "outside"
            },
            "type": "mesh3d"
           }
          ],
          "parcoords": [
           {
            "line": {
             "colorbar": {
              "outlinewidth": 1,
              "tickcolor": "rgb(36,36,36)",
              "ticks": "outside"
             }
            },
            "type": "parcoords"
           }
          ],
          "pie": [
           {
            "automargin": true,
            "type": "pie"
           }
          ],
          "scatter": [
           {
            "fillpattern": {
             "fillmode": "overlay",
             "size": 10,
             "solidity": 0.2
            },
            "type": "scatter"
           }
          ],
          "scatter3d": [
           {
            "line": {
             "colorbar": {
              "outlinewidth": 1,
              "tickcolor": "rgb(36,36,36)",
              "ticks": "outside"
             }
            },
            "marker": {
             "colorbar": {
              "outlinewidth": 1,
              "tickcolor": "rgb(36,36,36)",
              "ticks": "outside"
             }
            },
            "type": "scatter3d"
           }
          ],
          "scattercarpet": [
           {
            "marker": {
             "colorbar": {
              "outlinewidth": 1,
              "tickcolor": "rgb(36,36,36)",
              "ticks": "outside"
             }
            },
            "type": "scattercarpet"
           }
          ],
          "scattergeo": [
           {
            "marker": {
             "colorbar": {
              "outlinewidth": 1,
              "tickcolor": "rgb(36,36,36)",
              "ticks": "outside"
             }
            },
            "type": "scattergeo"
           }
          ],
          "scattergl": [
           {
            "marker": {
             "colorbar": {
              "outlinewidth": 1,
              "tickcolor": "rgb(36,36,36)",
              "ticks": "outside"
             }
            },
            "type": "scattergl"
           }
          ],
          "scattermapbox": [
           {
            "marker": {
             "colorbar": {
              "outlinewidth": 1,
              "tickcolor": "rgb(36,36,36)",
              "ticks": "outside"
             }
            },
            "type": "scattermapbox"
           }
          ],
          "scatterpolar": [
           {
            "marker": {
             "colorbar": {
              "outlinewidth": 1,
              "tickcolor": "rgb(36,36,36)",
              "ticks": "outside"
             }
            },
            "type": "scatterpolar"
           }
          ],
          "scatterpolargl": [
           {
            "marker": {
             "colorbar": {
              "outlinewidth": 1,
              "tickcolor": "rgb(36,36,36)",
              "ticks": "outside"
             }
            },
            "type": "scatterpolargl"
           }
          ],
          "scatterternary": [
           {
            "marker": {
             "colorbar": {
              "outlinewidth": 1,
              "tickcolor": "rgb(36,36,36)",
              "ticks": "outside"
             }
            },
            "type": "scatterternary"
           }
          ],
          "surface": [
           {
            "colorbar": {
             "outlinewidth": 1,
             "tickcolor": "rgb(36,36,36)",
             "ticks": "outside"
            },
            "colorscale": [
             [
              0,
              "#440154"
             ],
             [
              0.1111111111111111,
              "#482878"
             ],
             [
              0.2222222222222222,
              "#3e4989"
             ],
             [
              0.3333333333333333,
              "#31688e"
             ],
             [
              0.4444444444444444,
              "#26828e"
             ],
             [
              0.5555555555555556,
              "#1f9e89"
             ],
             [
              0.6666666666666666,
              "#35b779"
             ],
             [
              0.7777777777777778,
              "#6ece58"
             ],
             [
              0.8888888888888888,
              "#b5de2b"
             ],
             [
              1,
              "#fde725"
             ]
            ],
            "type": "surface"
           }
          ],
          "table": [
           {
            "cells": {
             "fill": {
              "color": "rgb(237,237,237)"
             },
             "line": {
              "color": "white"
             }
            },
            "header": {
             "fill": {
              "color": "rgb(217,217,217)"
             },
             "line": {
              "color": "white"
             }
            },
            "type": "table"
           }
          ]
         },
         "layout": {
          "annotationdefaults": {
           "arrowhead": 0,
           "arrowwidth": 1
          },
          "autotypenumbers": "strict",
          "coloraxis": {
           "colorbar": {
            "outlinewidth": 1,
            "tickcolor": "rgb(36,36,36)",
            "ticks": "outside"
           }
          },
          "colorscale": {
           "diverging": [
            [
             0,
             "rgb(103,0,31)"
            ],
            [
             0.1,
             "rgb(178,24,43)"
            ],
            [
             0.2,
             "rgb(214,96,77)"
            ],
            [
             0.3,
             "rgb(244,165,130)"
            ],
            [
             0.4,
             "rgb(253,219,199)"
            ],
            [
             0.5,
             "rgb(247,247,247)"
            ],
            [
             0.6,
             "rgb(209,229,240)"
            ],
            [
             0.7,
             "rgb(146,197,222)"
            ],
            [
             0.8,
             "rgb(67,147,195)"
            ],
            [
             0.9,
             "rgb(33,102,172)"
            ],
            [
             1,
             "rgb(5,48,97)"
            ]
           ],
           "sequential": [
            [
             0,
             "#440154"
            ],
            [
             0.1111111111111111,
             "#482878"
            ],
            [
             0.2222222222222222,
             "#3e4989"
            ],
            [
             0.3333333333333333,
             "#31688e"
            ],
            [
             0.4444444444444444,
             "#26828e"
            ],
            [
             0.5555555555555556,
             "#1f9e89"
            ],
            [
             0.6666666666666666,
             "#35b779"
            ],
            [
             0.7777777777777778,
             "#6ece58"
            ],
            [
             0.8888888888888888,
             "#b5de2b"
            ],
            [
             1,
             "#fde725"
            ]
           ],
           "sequentialminus": [
            [
             0,
             "#440154"
            ],
            [
             0.1111111111111111,
             "#482878"
            ],
            [
             0.2222222222222222,
             "#3e4989"
            ],
            [
             0.3333333333333333,
             "#31688e"
            ],
            [
             0.4444444444444444,
             "#26828e"
            ],
            [
             0.5555555555555556,
             "#1f9e89"
            ],
            [
             0.6666666666666666,
             "#35b779"
            ],
            [
             0.7777777777777778,
             "#6ece58"
            ],
            [
             0.8888888888888888,
             "#b5de2b"
            ],
            [
             1,
             "#fde725"
            ]
           ]
          },
          "colorway": [
           "#1F77B4",
           "#FF7F0E",
           "#2CA02C",
           "#D62728",
           "#9467BD",
           "#8C564B",
           "#E377C2",
           "#7F7F7F",
           "#BCBD22",
           "#17BECF"
          ],
          "font": {
           "color": "rgb(36,36,36)"
          },
          "geo": {
           "bgcolor": "white",
           "lakecolor": "white",
           "landcolor": "white",
           "showlakes": true,
           "showland": true,
           "subunitcolor": "white"
          },
          "hoverlabel": {
           "align": "left"
          },
          "hovermode": "closest",
          "mapbox": {
           "style": "light"
          },
          "paper_bgcolor": "white",
          "plot_bgcolor": "white",
          "polar": {
           "angularaxis": {
            "gridcolor": "rgb(232,232,232)",
            "linecolor": "rgb(36,36,36)",
            "showgrid": false,
            "showline": true,
            "ticks": "outside"
           },
           "bgcolor": "white",
           "radialaxis": {
            "gridcolor": "rgb(232,232,232)",
            "linecolor": "rgb(36,36,36)",
            "showgrid": false,
            "showline": true,
            "ticks": "outside"
           }
          },
          "scene": {
           "xaxis": {
            "backgroundcolor": "white",
            "gridcolor": "rgb(232,232,232)",
            "gridwidth": 2,
            "linecolor": "rgb(36,36,36)",
            "showbackground": true,
            "showgrid": false,
            "showline": true,
            "ticks": "outside",
            "zeroline": false,
            "zerolinecolor": "rgb(36,36,36)"
           },
           "yaxis": {
            "backgroundcolor": "white",
            "gridcolor": "rgb(232,232,232)",
            "gridwidth": 2,
            "linecolor": "rgb(36,36,36)",
            "showbackground": true,
            "showgrid": false,
            "showline": true,
            "ticks": "outside",
            "zeroline": false,
            "zerolinecolor": "rgb(36,36,36)"
           },
           "zaxis": {
            "backgroundcolor": "white",
            "gridcolor": "rgb(232,232,232)",
            "gridwidth": 2,
            "linecolor": "rgb(36,36,36)",
            "showbackground": true,
            "showgrid": false,
            "showline": true,
            "ticks": "outside",
            "zeroline": false,
            "zerolinecolor": "rgb(36,36,36)"
           }
          },
          "shapedefaults": {
           "fillcolor": "black",
           "line": {
            "width": 0
           },
           "opacity": 0.3
          },
          "ternary": {
           "aaxis": {
            "gridcolor": "rgb(232,232,232)",
            "linecolor": "rgb(36,36,36)",
            "showgrid": false,
            "showline": true,
            "ticks": "outside"
           },
           "baxis": {
            "gridcolor": "rgb(232,232,232)",
            "linecolor": "rgb(36,36,36)",
            "showgrid": false,
            "showline": true,
            "ticks": "outside"
           },
           "bgcolor": "white",
           "caxis": {
            "gridcolor": "rgb(232,232,232)",
            "linecolor": "rgb(36,36,36)",
            "showgrid": false,
            "showline": true,
            "ticks": "outside"
           }
          },
          "title": {
           "x": 0.05
          },
          "xaxis": {
           "automargin": true,
           "gridcolor": "rgb(232,232,232)",
           "linecolor": "rgb(36,36,36)",
           "showgrid": false,
           "showline": true,
           "ticks": "outside",
           "title": {
            "standoff": 15
           },
           "zeroline": false,
           "zerolinecolor": "rgb(36,36,36)"
          },
          "yaxis": {
           "automargin": true,
           "gridcolor": "rgb(232,232,232)",
           "linecolor": "rgb(36,36,36)",
           "showgrid": false,
           "showline": true,
           "ticks": "outside",
           "title": {
            "standoff": 15
           },
           "zeroline": false,
           "zerolinecolor": "rgb(36,36,36)"
          }
         }
        },
        "title": {
         "text": "Categorical Variable Distribution"
        },
        "xaxis": {
         "anchor": "y",
         "domain": [
          0,
          0.45
         ]
        },
        "xaxis2": {
         "anchor": "y2",
         "domain": [
          0.55,
          1
         ]
        },
        "xaxis3": {
         "anchor": "y3",
         "domain": [
          0,
          0.45
         ]
        },
        "xaxis4": {
         "anchor": "y4",
         "domain": [
          0.55,
          1
         ]
        },
        "xaxis5": {
         "anchor": "y5",
         "domain": [
          0,
          0.45
         ]
        },
        "xaxis6": {
         "anchor": "y6",
         "domain": [
          0.55,
          1
         ]
        },
        "yaxis": {
         "anchor": "x",
         "domain": [
          0.7333333333333333,
          1
         ]
        },
        "yaxis2": {
         "anchor": "x2",
         "domain": [
          0.7333333333333333,
          1
         ]
        },
        "yaxis3": {
         "anchor": "x3",
         "domain": [
          0.36666666666666664,
          0.6333333333333333
         ]
        },
        "yaxis4": {
         "anchor": "x4",
         "domain": [
          0.36666666666666664,
          0.6333333333333333
         ]
        },
        "yaxis5": {
         "anchor": "x5",
         "domain": [
          0,
          0.26666666666666666
         ]
        },
        "yaxis6": {
         "anchor": "x6",
         "domain": [
          0,
          0.26666666666666666
         ]
        }
       }
      },
      "text/html": [
       "<div>                            <div id=\"18eb54e3-3b55-46d5-8082-b30620ff7dfb\" class=\"plotly-graph-div\" style=\"height:800px; width:100%;\"></div>            <script type=\"text/javascript\">                require([\"plotly\"], function(Plotly) {                    window.PLOTLYENV=window.PLOTLYENV || {};                                    if (document.getElementById(\"18eb54e3-3b55-46d5-8082-b30620ff7dfb\")) {                    Plotly.newPlot(                        \"18eb54e3-3b55-46d5-8082-b30620ff7dfb\",                        [{\"marker\":{\"color\":[\"rgb(211, 242, 163)\",\"rgb(151, 225, 150)\",\"rgb(108, 192, 139)\",\"rgb(76, 155, 130)\",\"rgb(33, 122, 121)\",\"rgb(16, 89, 101)\",\"rgb(7, 64, 80)\"],\"line\":{\"color\":\"black\",\"width\":1.5}},\"name\":\"Sex\",\"text\":[914.0,1086.0],\"textfont\":{\"size\":10},\"textposition\":\"inside\",\"x\":[\"1\",\"0\"],\"y\":[914,1086],\"type\":\"bar\",\"xaxis\":\"x\",\"yaxis\":\"y\",\"opacity\":0.8},{\"marker\":{\"color\":[\"rgb(211, 242, 163)\",\"rgb(151, 225, 150)\",\"rgb(108, 192, 139)\",\"rgb(76, 155, 130)\",\"rgb(33, 122, 121)\",\"rgb(16, 89, 101)\",\"rgb(7, 64, 80)\"],\"line\":{\"color\":\"black\",\"width\":1.5}},\"name\":\"Marital Status\",\"text\":[993.0,1007.0],\"textfont\":{\"size\":10},\"textposition\":\"inside\",\"x\":[\"1\",\"0\"],\"y\":[993,1007],\"type\":\"bar\",\"xaxis\":\"x2\",\"yaxis\":\"y2\",\"opacity\":0.8},{\"marker\":{\"color\":[\"rgb(211, 242, 163)\",\"rgb(151, 225, 150)\",\"rgb(108, 192, 139)\",\"rgb(76, 155, 130)\",\"rgb(33, 122, 121)\",\"rgb(16, 89, 101)\",\"rgb(7, 64, 80)\"],\"line\":{\"color\":\"black\",\"width\":1.5}},\"name\":\"Education\",\"text\":[36.0,287.0,291.0,1386.0],\"textfont\":{\"size\":10},\"textposition\":\"inside\",\"x\":[\"3\",\"0\",\"2\",\"1\"],\"y\":[36,287,291,1386],\"type\":\"bar\",\"xaxis\":\"x3\",\"yaxis\":\"y3\",\"opacity\":0.8},{\"marker\":{\"color\":[\"rgb(211, 242, 163)\",\"rgb(151, 225, 150)\",\"rgb(108, 192, 139)\",\"rgb(76, 155, 130)\",\"rgb(33, 122, 121)\",\"rgb(16, 89, 101)\",\"rgb(7, 64, 80)\"],\"line\":{\"color\":\"black\",\"width\":1.5}},\"name\":\"Occupation\",\"text\":[254.0,633.0,1113.0],\"textfont\":{\"size\":10},\"textposition\":\"inside\",\"x\":[\"2\",\"0\",\"1\"],\"y\":[254,633,1113],\"type\":\"bar\",\"xaxis\":\"x4\",\"yaxis\":\"y4\",\"opacity\":0.8},{\"marker\":{\"color\":[\"rgb(211, 242, 163)\",\"rgb(151, 225, 150)\",\"rgb(108, 192, 139)\",\"rgb(76, 155, 130)\",\"rgb(33, 122, 121)\",\"rgb(16, 89, 101)\",\"rgb(7, 64, 80)\"],\"line\":{\"color\":\"black\",\"width\":1.5}},\"name\":\"Settlement Size\",\"text\":[467.0,544.0,989.0],\"textfont\":{\"size\":10},\"textposition\":\"inside\",\"x\":[\"2\",\"1\",\"0\"],\"y\":[467,544,989],\"type\":\"bar\",\"xaxis\":\"x5\",\"yaxis\":\"y5\",\"opacity\":0.8}],                        {\"template\":{\"data\":{\"barpolar\":[{\"marker\":{\"line\":{\"color\":\"white\",\"width\":0.5},\"pattern\":{\"fillmode\":\"overlay\",\"size\":10,\"solidity\":0.2}},\"type\":\"barpolar\"}],\"bar\":[{\"error_x\":{\"color\":\"rgb(36,36,36)\"},\"error_y\":{\"color\":\"rgb(36,36,36)\"},\"marker\":{\"line\":{\"color\":\"white\",\"width\":0.5},\"pattern\":{\"fillmode\":\"overlay\",\"size\":10,\"solidity\":0.2}},\"type\":\"bar\"}],\"carpet\":[{\"aaxis\":{\"endlinecolor\":\"rgb(36,36,36)\",\"gridcolor\":\"white\",\"linecolor\":\"white\",\"minorgridcolor\":\"white\",\"startlinecolor\":\"rgb(36,36,36)\"},\"baxis\":{\"endlinecolor\":\"rgb(36,36,36)\",\"gridcolor\":\"white\",\"linecolor\":\"white\",\"minorgridcolor\":\"white\",\"startlinecolor\":\"rgb(36,36,36)\"},\"type\":\"carpet\"}],\"choropleth\":[{\"colorbar\":{\"outlinewidth\":1,\"tickcolor\":\"rgb(36,36,36)\",\"ticks\":\"outside\"},\"type\":\"choropleth\"}],\"contourcarpet\":[{\"colorbar\":{\"outlinewidth\":1,\"tickcolor\":\"rgb(36,36,36)\",\"ticks\":\"outside\"},\"type\":\"contourcarpet\"}],\"contour\":[{\"colorbar\":{\"outlinewidth\":1,\"tickcolor\":\"rgb(36,36,36)\",\"ticks\":\"outside\"},\"colorscale\":[[0.0,\"#440154\"],[0.1111111111111111,\"#482878\"],[0.2222222222222222,\"#3e4989\"],[0.3333333333333333,\"#31688e\"],[0.4444444444444444,\"#26828e\"],[0.5555555555555556,\"#1f9e89\"],[0.6666666666666666,\"#35b779\"],[0.7777777777777778,\"#6ece58\"],[0.8888888888888888,\"#b5de2b\"],[1.0,\"#fde725\"]],\"type\":\"contour\"}],\"heatmapgl\":[{\"colorbar\":{\"outlinewidth\":1,\"tickcolor\":\"rgb(36,36,36)\",\"ticks\":\"outside\"},\"colorscale\":[[0.0,\"#440154\"],[0.1111111111111111,\"#482878\"],[0.2222222222222222,\"#3e4989\"],[0.3333333333333333,\"#31688e\"],[0.4444444444444444,\"#26828e\"],[0.5555555555555556,\"#1f9e89\"],[0.6666666666666666,\"#35b779\"],[0.7777777777777778,\"#6ece58\"],[0.8888888888888888,\"#b5de2b\"],[1.0,\"#fde725\"]],\"type\":\"heatmapgl\"}],\"heatmap\":[{\"colorbar\":{\"outlinewidth\":1,\"tickcolor\":\"rgb(36,36,36)\",\"ticks\":\"outside\"},\"colorscale\":[[0.0,\"#440154\"],[0.1111111111111111,\"#482878\"],[0.2222222222222222,\"#3e4989\"],[0.3333333333333333,\"#31688e\"],[0.4444444444444444,\"#26828e\"],[0.5555555555555556,\"#1f9e89\"],[0.6666666666666666,\"#35b779\"],[0.7777777777777778,\"#6ece58\"],[0.8888888888888888,\"#b5de2b\"],[1.0,\"#fde725\"]],\"type\":\"heatmap\"}],\"histogram2dcontour\":[{\"colorbar\":{\"outlinewidth\":1,\"tickcolor\":\"rgb(36,36,36)\",\"ticks\":\"outside\"},\"colorscale\":[[0.0,\"#440154\"],[0.1111111111111111,\"#482878\"],[0.2222222222222222,\"#3e4989\"],[0.3333333333333333,\"#31688e\"],[0.4444444444444444,\"#26828e\"],[0.5555555555555556,\"#1f9e89\"],[0.6666666666666666,\"#35b779\"],[0.7777777777777778,\"#6ece58\"],[0.8888888888888888,\"#b5de2b\"],[1.0,\"#fde725\"]],\"type\":\"histogram2dcontour\"}],\"histogram2d\":[{\"colorbar\":{\"outlinewidth\":1,\"tickcolor\":\"rgb(36,36,36)\",\"ticks\":\"outside\"},\"colorscale\":[[0.0,\"#440154\"],[0.1111111111111111,\"#482878\"],[0.2222222222222222,\"#3e4989\"],[0.3333333333333333,\"#31688e\"],[0.4444444444444444,\"#26828e\"],[0.5555555555555556,\"#1f9e89\"],[0.6666666666666666,\"#35b779\"],[0.7777777777777778,\"#6ece58\"],[0.8888888888888888,\"#b5de2b\"],[1.0,\"#fde725\"]],\"type\":\"histogram2d\"}],\"histogram\":[{\"marker\":{\"line\":{\"color\":\"white\",\"width\":0.6}},\"type\":\"histogram\"}],\"mesh3d\":[{\"colorbar\":{\"outlinewidth\":1,\"tickcolor\":\"rgb(36,36,36)\",\"ticks\":\"outside\"},\"type\":\"mesh3d\"}],\"parcoords\":[{\"line\":{\"colorbar\":{\"outlinewidth\":1,\"tickcolor\":\"rgb(36,36,36)\",\"ticks\":\"outside\"}},\"type\":\"parcoords\"}],\"pie\":[{\"automargin\":true,\"type\":\"pie\"}],\"scatter3d\":[{\"line\":{\"colorbar\":{\"outlinewidth\":1,\"tickcolor\":\"rgb(36,36,36)\",\"ticks\":\"outside\"}},\"marker\":{\"colorbar\":{\"outlinewidth\":1,\"tickcolor\":\"rgb(36,36,36)\",\"ticks\":\"outside\"}},\"type\":\"scatter3d\"}],\"scattercarpet\":[{\"marker\":{\"colorbar\":{\"outlinewidth\":1,\"tickcolor\":\"rgb(36,36,36)\",\"ticks\":\"outside\"}},\"type\":\"scattercarpet\"}],\"scattergeo\":[{\"marker\":{\"colorbar\":{\"outlinewidth\":1,\"tickcolor\":\"rgb(36,36,36)\",\"ticks\":\"outside\"}},\"type\":\"scattergeo\"}],\"scattergl\":[{\"marker\":{\"colorbar\":{\"outlinewidth\":1,\"tickcolor\":\"rgb(36,36,36)\",\"ticks\":\"outside\"}},\"type\":\"scattergl\"}],\"scattermapbox\":[{\"marker\":{\"colorbar\":{\"outlinewidth\":1,\"tickcolor\":\"rgb(36,36,36)\",\"ticks\":\"outside\"}},\"type\":\"scattermapbox\"}],\"scatterpolargl\":[{\"marker\":{\"colorbar\":{\"outlinewidth\":1,\"tickcolor\":\"rgb(36,36,36)\",\"ticks\":\"outside\"}},\"type\":\"scatterpolargl\"}],\"scatterpolar\":[{\"marker\":{\"colorbar\":{\"outlinewidth\":1,\"tickcolor\":\"rgb(36,36,36)\",\"ticks\":\"outside\"}},\"type\":\"scatterpolar\"}],\"scatter\":[{\"fillpattern\":{\"fillmode\":\"overlay\",\"size\":10,\"solidity\":0.2},\"type\":\"scatter\"}],\"scatterternary\":[{\"marker\":{\"colorbar\":{\"outlinewidth\":1,\"tickcolor\":\"rgb(36,36,36)\",\"ticks\":\"outside\"}},\"type\":\"scatterternary\"}],\"surface\":[{\"colorbar\":{\"outlinewidth\":1,\"tickcolor\":\"rgb(36,36,36)\",\"ticks\":\"outside\"},\"colorscale\":[[0.0,\"#440154\"],[0.1111111111111111,\"#482878\"],[0.2222222222222222,\"#3e4989\"],[0.3333333333333333,\"#31688e\"],[0.4444444444444444,\"#26828e\"],[0.5555555555555556,\"#1f9e89\"],[0.6666666666666666,\"#35b779\"],[0.7777777777777778,\"#6ece58\"],[0.8888888888888888,\"#b5de2b\"],[1.0,\"#fde725\"]],\"type\":\"surface\"}],\"table\":[{\"cells\":{\"fill\":{\"color\":\"rgb(237,237,237)\"},\"line\":{\"color\":\"white\"}},\"header\":{\"fill\":{\"color\":\"rgb(217,217,217)\"},\"line\":{\"color\":\"white\"}},\"type\":\"table\"}]},\"layout\":{\"annotationdefaults\":{\"arrowhead\":0,\"arrowwidth\":1},\"autotypenumbers\":\"strict\",\"coloraxis\":{\"colorbar\":{\"outlinewidth\":1,\"tickcolor\":\"rgb(36,36,36)\",\"ticks\":\"outside\"}},\"colorscale\":{\"diverging\":[[0.0,\"rgb(103,0,31)\"],[0.1,\"rgb(178,24,43)\"],[0.2,\"rgb(214,96,77)\"],[0.3,\"rgb(244,165,130)\"],[0.4,\"rgb(253,219,199)\"],[0.5,\"rgb(247,247,247)\"],[0.6,\"rgb(209,229,240)\"],[0.7,\"rgb(146,197,222)\"],[0.8,\"rgb(67,147,195)\"],[0.9,\"rgb(33,102,172)\"],[1.0,\"rgb(5,48,97)\"]],\"sequential\":[[0.0,\"#440154\"],[0.1111111111111111,\"#482878\"],[0.2222222222222222,\"#3e4989\"],[0.3333333333333333,\"#31688e\"],[0.4444444444444444,\"#26828e\"],[0.5555555555555556,\"#1f9e89\"],[0.6666666666666666,\"#35b779\"],[0.7777777777777778,\"#6ece58\"],[0.8888888888888888,\"#b5de2b\"],[1.0,\"#fde725\"]],\"sequentialminus\":[[0.0,\"#440154\"],[0.1111111111111111,\"#482878\"],[0.2222222222222222,\"#3e4989\"],[0.3333333333333333,\"#31688e\"],[0.4444444444444444,\"#26828e\"],[0.5555555555555556,\"#1f9e89\"],[0.6666666666666666,\"#35b779\"],[0.7777777777777778,\"#6ece58\"],[0.8888888888888888,\"#b5de2b\"],[1.0,\"#fde725\"]]},\"colorway\":[\"#1F77B4\",\"#FF7F0E\",\"#2CA02C\",\"#D62728\",\"#9467BD\",\"#8C564B\",\"#E377C2\",\"#7F7F7F\",\"#BCBD22\",\"#17BECF\"],\"font\":{\"color\":\"rgb(36,36,36)\"},\"geo\":{\"bgcolor\":\"white\",\"lakecolor\":\"white\",\"landcolor\":\"white\",\"showlakes\":true,\"showland\":true,\"subunitcolor\":\"white\"},\"hoverlabel\":{\"align\":\"left\"},\"hovermode\":\"closest\",\"mapbox\":{\"style\":\"light\"},\"paper_bgcolor\":\"white\",\"plot_bgcolor\":\"white\",\"polar\":{\"angularaxis\":{\"gridcolor\":\"rgb(232,232,232)\",\"linecolor\":\"rgb(36,36,36)\",\"showgrid\":false,\"showline\":true,\"ticks\":\"outside\"},\"bgcolor\":\"white\",\"radialaxis\":{\"gridcolor\":\"rgb(232,232,232)\",\"linecolor\":\"rgb(36,36,36)\",\"showgrid\":false,\"showline\":true,\"ticks\":\"outside\"}},\"scene\":{\"xaxis\":{\"backgroundcolor\":\"white\",\"gridcolor\":\"rgb(232,232,232)\",\"gridwidth\":2,\"linecolor\":\"rgb(36,36,36)\",\"showbackground\":true,\"showgrid\":false,\"showline\":true,\"ticks\":\"outside\",\"zeroline\":false,\"zerolinecolor\":\"rgb(36,36,36)\"},\"yaxis\":{\"backgroundcolor\":\"white\",\"gridcolor\":\"rgb(232,232,232)\",\"gridwidth\":2,\"linecolor\":\"rgb(36,36,36)\",\"showbackground\":true,\"showgrid\":false,\"showline\":true,\"ticks\":\"outside\",\"zeroline\":false,\"zerolinecolor\":\"rgb(36,36,36)\"},\"zaxis\":{\"backgroundcolor\":\"white\",\"gridcolor\":\"rgb(232,232,232)\",\"gridwidth\":2,\"linecolor\":\"rgb(36,36,36)\",\"showbackground\":true,\"showgrid\":false,\"showline\":true,\"ticks\":\"outside\",\"zeroline\":false,\"zerolinecolor\":\"rgb(36,36,36)\"}},\"shapedefaults\":{\"fillcolor\":\"black\",\"line\":{\"width\":0},\"opacity\":0.3},\"ternary\":{\"aaxis\":{\"gridcolor\":\"rgb(232,232,232)\",\"linecolor\":\"rgb(36,36,36)\",\"showgrid\":false,\"showline\":true,\"ticks\":\"outside\"},\"baxis\":{\"gridcolor\":\"rgb(232,232,232)\",\"linecolor\":\"rgb(36,36,36)\",\"showgrid\":false,\"showline\":true,\"ticks\":\"outside\"},\"bgcolor\":\"white\",\"caxis\":{\"gridcolor\":\"rgb(232,232,232)\",\"linecolor\":\"rgb(36,36,36)\",\"showgrid\":false,\"showline\":true,\"ticks\":\"outside\"}},\"title\":{\"x\":0.05},\"xaxis\":{\"automargin\":true,\"gridcolor\":\"rgb(232,232,232)\",\"linecolor\":\"rgb(36,36,36)\",\"showgrid\":false,\"showline\":true,\"ticks\":\"outside\",\"title\":{\"standoff\":15},\"zeroline\":false,\"zerolinecolor\":\"rgb(36,36,36)\"},\"yaxis\":{\"automargin\":true,\"gridcolor\":\"rgb(232,232,232)\",\"linecolor\":\"rgb(36,36,36)\",\"showgrid\":false,\"showline\":true,\"ticks\":\"outside\",\"title\":{\"standoff\":15},\"zeroline\":false,\"zerolinecolor\":\"rgb(36,36,36)\"}}},\"xaxis\":{\"anchor\":\"y\",\"domain\":[0.0,0.45]},\"yaxis\":{\"anchor\":\"x\",\"domain\":[0.7333333333333333,1.0]},\"xaxis2\":{\"anchor\":\"y2\",\"domain\":[0.55,1.0]},\"yaxis2\":{\"anchor\":\"x2\",\"domain\":[0.7333333333333333,1.0]},\"xaxis3\":{\"anchor\":\"y3\",\"domain\":[0.0,0.45]},\"yaxis3\":{\"anchor\":\"x3\",\"domain\":[0.36666666666666664,0.6333333333333333]},\"xaxis4\":{\"anchor\":\"y4\",\"domain\":[0.55,1.0]},\"yaxis4\":{\"anchor\":\"x4\",\"domain\":[0.36666666666666664,0.6333333333333333]},\"xaxis5\":{\"anchor\":\"y5\",\"domain\":[0.0,0.45]},\"yaxis5\":{\"anchor\":\"x5\",\"domain\":[0.0,0.26666666666666666]},\"xaxis6\":{\"anchor\":\"y6\",\"domain\":[0.55,1.0]},\"yaxis6\":{\"anchor\":\"x6\",\"domain\":[0.0,0.26666666666666666]},\"title\":{\"text\":\"Categorical Variable Distribution\"},\"height\":800},                        {\"responsive\": true}                    ).then(function(){\n",
       "                            \n",
       "var gd = document.getElementById('18eb54e3-3b55-46d5-8082-b30620ff7dfb');\n",
       "var x = new MutationObserver(function (mutations, observer) {{\n",
       "        var display = window.getComputedStyle(gd).display;\n",
       "        if (!display || display === 'none') {{\n",
       "            console.log([gd, 'removed!']);\n",
       "            Plotly.purge(gd);\n",
       "            observer.disconnect();\n",
       "        }}\n",
       "}});\n",
       "\n",
       "// Listen for the removal of the full notebook cells\n",
       "var notebookContainer = gd.closest('#notebook-container');\n",
       "if (notebookContainer) {{\n",
       "    x.observe(notebookContainer, {childList: true});\n",
       "}}\n",
       "\n",
       "// Listen for the clearing of the current output cell\n",
       "var outputEl = gd.closest('.output');\n",
       "if (outputEl) {{\n",
       "    x.observe(outputEl, {childList: true});\n",
       "}}\n",
       "\n",
       "                        })                };                });            </script>        </div>"
      ]
     },
     "metadata": {},
     "output_type": "display_data"
    }
   ],
   "source": [
    "n_rows = 3\n",
    "n_cols = 2\n",
    "\n",
    "fig = make_subplots(rows=n_rows , cols=n_cols)\n",
    "sex_counts=df['Sex'].value_counts().sort_values(ascending=True)\n",
    "marital_counts=df['Marital status'].value_counts().sort_values(ascending=True)\n",
    "education_counts =df['Education'].value_counts().sort_values(ascending=True)\n",
    "occupation_counts=df['Occupation'].value_counts().sort_values(ascending=True)\n",
    "settlement_counts=df['Settlement size'].value_counts().sort_values(ascending=True)\n",
    "categorical_lst = [sex_counts,marital_counts,education_counts,occupation_counts,settlement_counts]\n",
    "categorical_labels = ['Sex', 'Marital Status', 'Education', 'Occupation', 'Settlement Size']\n",
    "\n",
    "for i,col in enumerate(categorical_labels):\n",
    "    fig.add_trace(\n",
    "        go.Bar(\n",
    "            x=categorical_lst[i].index.astype('str'),\n",
    "            y=categorical_lst[i].values,\n",
    "            name=col,\n",
    "            text=np.round(categorical_lst[i].values,3),\n",
    "            textposition='inside',\n",
    "            marker_color=px.colors.sequential.Emrld,\n",
    "            textfont=dict(size=10)),\n",
    "        row=int(i/n_cols)+1, col=int(i%n_cols)+1\n",
    "    )\n",
    "    print(int(i/n_cols)+1,int(i%n_cols)+1)\n",
    "fig.update_layout(\n",
    "    height=800,\n",
    "    title_text=\"Categorical Variable Distribution\", \n",
    "    template='simple_white')\n",
    "fig.update_traces(marker_line_color='black', \n",
    "                  marker_line_width=1.5, \n",
    "                  opacity=0.8)\n",
    "fig.show()"
   ]
  },
  {
   "cell_type": "code",
   "execution_count": 175,
   "id": "8ea12fbd",
   "metadata": {},
   "outputs": [
    {
     "data": {
      "application/vnd.plotly.v1+json": {
       "config": {
        "plotlyServerURL": "https://plot.ly"
       },
       "data": [
        {
         "marker": {
          "color": "darkgreen",
          "line": {
           "color": "black",
           "width": 1.5
          }
         },
         "name": "Age Histogram",
         "opacity": 0.8,
         "type": "histogram",
         "x": [
          67,
          22,
          49,
          45,
          53,
          35,
          53,
          35,
          61,
          28,
          25,
          24,
          22,
          60,
          28,
          32,
          53,
          25,
          44,
          31,
          48,
          44,
          48,
          44,
          26,
          36,
          39,
          42,
          34,
          63,
          36,
          27,
          30,
          57,
          33,
          25,
          31,
          37,
          37,
          24,
          30,
          26,
          44,
          24,
          58,
          35,
          39,
          23,
          39,
          28,
          29,
          30,
          25,
          31,
          57,
          26,
          52,
          31,
          23,
          23,
          27,
          50,
          61,
          25,
          26,
          48,
          29,
          22,
          37,
          25,
          30,
          46,
          51,
          41,
          40,
          66,
          34,
          51,
          39,
          22,
          44,
          47,
          24,
          58,
          52,
          29,
          27,
          47,
          30,
          28,
          56,
          54,
          33,
          20,
          54,
          58,
          61,
          34,
          36,
          36,
          41,
          24,
          24,
          35,
          26,
          39,
          39,
          32,
          30,
          35,
          31,
          23,
          28,
          25,
          35,
          47,
          30,
          27,
          23,
          36,
          25,
          41,
          24,
          63,
          27,
          30,
          40,
          30,
          34,
          29,
          24,
          29,
          27,
          47,
          21,
          38,
          27,
          66,
          35,
          44,
          27,
          30,
          27,
          22,
          23,
          30,
          39,
          51,
          28,
          46,
          42,
          38,
          24,
          29,
          36,
          20,
          48,
          45,
          38,
          34,
          36,
          30,
          36,
          70,
          36,
          32,
          33,
          20,
          25,
          31,
          33,
          26,
          34,
          33,
          26,
          53,
          42,
          52,
          31,
          65,
          28,
          30,
          40,
          50,
          36,
          31,
          74,
          68,
          20,
          33,
          54,
          34,
          36,
          29,
          21,
          34,
          28,
          27,
          36,
          40,
          52,
          27,
          26,
          21,
          38,
          38,
          43,
          26,
          21,
          55,
          33,
          45,
          50,
          66,
          51,
          39,
          31,
          23,
          24,
          64,
          26,
          23,
          30,
          32,
          30,
          27,
          27,
          53,
          22,
          22,
          26,
          51,
          35,
          25,
          42,
          30,
          23,
          61,
          35,
          39,
          29,
          51,
          24,
          27,
          35,
          25,
          52,
          35,
          26,
          22,
          39,
          46,
          24,
          35,
          24,
          27,
          35,
          29,
          23,
          57,
          27,
          55,
          36,
          57,
          32,
          37,
          36,
          38,
          45,
          25,
          32,
          37,
          36,
          28,
          34,
          32,
          26,
          49,
          32,
          29,
          23,
          50,
          49,
          63,
          37,
          35,
          26,
          31,
          49,
          48,
          26,
          28,
          44,
          56,
          46,
          26,
          20,
          45,
          43,
          32,
          54,
          42,
          37,
          49,
          44,
          33,
          24,
          33,
          24,
          22,
          40,
          25,
          26,
          25,
          29,
          31,
          38,
          48,
          32,
          27,
          28,
          32,
          34,
          28,
          36,
          39,
          49,
          34,
          31,
          28,
          75,
          30,
          24,
          24,
          23,
          44,
          23,
          24,
          28,
          31,
          24,
          26,
          25,
          33,
          37,
          43,
          23,
          23,
          34,
          32,
          23,
          29,
          38,
          28,
          46,
          23,
          49,
          26,
          28,
          23,
          61,
          37,
          36,
          21,
          25,
          36,
          27,
          22,
          42,
          40,
          36,
          33,
          23,
          63,
          60,
          37,
          34,
          36,
          57,
          52,
          39,
          38,
          25,
          26,
          26,
          25,
          21,
          40,
          27,
          27,
          30,
          19,
          39,
          31,
          31,
          32,
          55,
          46,
          46,
          43,
          39,
          28,
          27,
          27,
          43,
          22,
          43,
          27,
          26,
          28,
          20,
          35,
          42,
          40,
          35,
          35,
          33,
          23,
          31,
          33,
          20,
          30,
          47,
          34,
          25,
          21,
          29,
          46,
          20,
          55,
          74,
          29,
          36,
          33,
          25,
          25,
          23,
          37,
          65,
          26,
          39,
          30,
          29,
          41,
          30,
          41,
          34,
          35,
          55,
          61,
          30,
          29,
          34,
          35,
          31,
          29,
          36,
          35,
          27,
          32,
          37,
          36,
          34,
          38,
          34,
          63,
          29,
          32,
          26,
          35,
          22,
          23,
          28,
          36,
          33,
          26,
          24,
          25,
          39,
          44,
          23,
          26,
          57,
          30,
          44,
          47,
          52,
          62,
          35,
          26,
          26,
          42,
          27,
          38,
          39,
          20,
          29,
          40,
          32,
          28,
          27,
          42,
          49,
          38,
          24,
          27,
          36,
          34,
          28,
          45,
          26,
          32,
          26,
          20,
          54,
          37,
          40,
          23,
          43,
          36,
          44,
          24,
          53,
          23,
          26,
          30,
          31,
          42,
          31,
          41,
          32,
          28,
          41,
          26,
          25,
          33,
          75,
          37,
          42,
          45,
          23,
          60,
          31,
          34,
          61,
          43,
          37,
          32,
          24,
          35,
          23,
          45,
          34,
          27,
          67,
          22,
          28,
          29,
          27,
          31,
          49,
          24,
          29,
          37,
          37,
          23,
          36,
          34,
          41,
          31,
          23,
          38,
          26,
          22,
          27,
          24,
          27,
          33,
          27,
          27,
          30,
          49,
          26,
          33,
          52,
          20,
          36,
          21,
          47,
          60,
          58,
          42,
          36,
          20,
          40,
          32,
          23,
          36,
          31,
          32,
          45,
          30,
          34,
          28,
          23,
          22,
          74,
          50,
          33,
          45,
          22,
          48,
          29,
          22,
          22,
          48,
          27,
          37,
          21,
          49,
          27,
          32,
          38,
          22,
          65,
          35,
          41,
          29,
          36,
          64,
          28,
          44,
          23,
          19,
          25,
          47,
          28,
          21,
          34,
          26,
          27,
          38,
          40,
          33,
          32,
          27,
          32,
          26,
          38,
          40,
          50,
          37,
          45,
          42,
          35,
          22,
          41,
          37,
          28,
          41,
          23,
          23,
          50,
          35,
          50,
          27,
          34,
          27,
          43,
          47,
          27,
          31,
          42,
          24,
          41,
          26,
          33,
          24,
          64,
          26,
          56,
          37,
          33,
          47,
          31,
          34,
          27,
          30,
          35,
          31,
          25,
          25,
          29,
          44,
          28,
          50,
          29,
          38,
          24,
          40,
          29,
          46,
          47,
          41,
          32,
          35,
          24,
          25,
          25,
          37,
          32,
          35,
          46,
          25,
          27,
          63,
          40,
          32,
          31,
          31,
          34,
          24,
          24,
          66,
          21,
          41,
          47,
          25,
          59,
          36,
          33,
          21,
          44,
          28,
          37,
          29,
          23,
          35,
          45,
          26,
          32,
          23,
          41,
          22,
          30,
          28,
          23,
          37,
          26,
          33,
          49,
          23,
          23,
          25,
          55,
          32,
          74,
          39,
          31,
          35,
          59,
          24,
          24,
          30,
          27,
          40,
          31,
          31,
          28,
          63,
          26,
          25,
          36,
          52,
          66,
          25,
          37,
          25,
          38,
          67,
          25,
          60,
          31,
          23,
          60,
          35,
          40,
          38,
          50,
          27,
          39,
          41,
          27,
          51,
          32,
          22,
          51,
          22,
          54,
          35,
          54,
          48,
          24,
          35,
          24,
          24,
          26,
          65,
          55,
          26,
          26,
          28,
          24,
          54,
          46,
          54,
          62,
          24,
          43,
          26,
          27,
          24,
          41,
          47,
          35,
          30,
          33,
          36,
          47,
          38,
          44,
          23,
          29,
          42,
          25,
          48,
          21,
          23,
          63,
          46,
          29,
          28,
          23,
          50,
          47,
          35,
          68,
          28,
          59,
          57,
          33,
          43,
          35,
          32,
          45,
          33,
          40,
          28,
          29,
          26,
          27,
          28,
          35,
          32,
          25,
          20,
          27,
          42,
          37,
          24,
          40,
          46,
          26,
          24,
          29,
          40,
          36,
          28,
          27,
          36,
          38,
          48,
          36,
          65,
          43,
          53,
          34,
          23,
          34,
          40,
          43,
          46,
          38,
          34,
          29,
          31,
          28,
          35,
          33,
          42,
          43,
          44,
          42,
          40,
          36,
          20,
          24,
          27,
          46,
          33,
          34,
          25,
          25,
          28,
          31,
          32,
          32,
          68,
          33,
          39,
          28,
          37,
          22,
          30,
          55,
          46,
          21,
          39,
          58,
          43,
          24,
          22,
          30,
          42,
          23,
          30,
          28,
          30,
          42,
          46,
          45,
          31,
          31,
          42,
          46,
          30,
          30,
          38,
          43,
          31,
          40,
          24,
          28,
          26,
          29,
          57,
          49,
          37,
          45,
          30,
          30,
          47,
          29,
          35,
          22,
          26,
          23,
          54,
          29,
          40,
          22,
          43,
          29,
          36,
          33,
          57,
          64,
          42,
          47,
          25,
          49,
          33,
          28,
          26,
          30,
          25,
          33,
          64,
          29,
          48,
          37,
          34,
          23,
          30,
          50,
          31,
          40,
          38,
          23,
          27,
          63,
          66,
          43,
          44,
          65,
          73,
          60,
          62,
          58,
          43,
          64,
          37,
          46,
          57,
          51,
          32,
          64,
          68,
          55,
          73,
          34,
          44,
          58,
          65,
          56,
          42,
          65,
          72,
          45,
          68,
          60,
          30,
          63,
          57,
          46,
          70,
          65,
          63,
          54,
          49,
          64,
          61,
          57,
          42,
          62,
          41,
          51,
          38,
          56,
          43,
          48,
          61,
          48,
          68,
          62,
          56,
          53,
          33,
          60,
          47,
          25,
          64,
          73,
          66,
          76,
          60,
          57,
          30,
          43,
          57,
          51,
          61,
          64,
          41,
          43,
          67,
          71,
          59,
          60,
          60,
          45,
          63,
          38,
          46,
          55,
          50,
          30,
          63,
          67,
          54,
          71,
          32,
          45,
          65,
          62,
          28,
          65,
          57,
          48,
          71,
          38,
          40,
          49,
          32,
          45,
          40,
          66,
          38,
          20,
          48,
          46,
          32,
          54,
          24,
          27,
          57,
          38,
          40,
          20,
          36,
          47,
          64,
          42,
          44,
          30,
          37,
          42,
          62,
          49,
          52,
          36,
          49,
          42,
          38,
          50,
          34,
          43,
          40,
          56,
          41,
          30,
          28,
          64,
          67,
          37,
          31,
          32,
          52,
          31,
          36,
          32,
          51,
          47,
          34,
          46,
          42,
          39,
          50,
          42,
          36,
          18,
          35,
          38,
          39,
          24,
          41,
          36,
          37,
          45,
          41,
          36,
          38,
          38,
          53,
          35,
          48,
          36,
          22,
          35,
          42,
          39,
          31,
          33,
          31,
          42,
          61,
          38,
          33,
          48,
          31,
          52,
          27,
          40,
          34,
          26,
          30,
          53,
          45,
          32,
          35,
          26,
          30,
          37,
          32,
          40,
          44,
          43,
          51,
          37,
          33,
          32,
          35,
          30,
          35,
          40,
          37,
          37,
          37,
          53,
          34,
          51,
          26,
          34,
          51,
          33,
          32,
          39,
          53,
          34,
          37,
          28,
          25,
          36,
          36,
          35,
          21,
          29,
          60,
          45,
          56,
          30,
          52,
          26,
          43,
          34,
          22,
          42,
          38,
          29,
          44,
          29,
          44,
          38,
          26,
          53,
          43,
          33,
          52,
          26,
          38,
          47,
          26,
          36,
          36,
          57,
          31,
          45,
          40,
          21,
          46,
          35,
          31,
          51,
          21,
          48,
          48,
          68,
          45,
          35,
          22,
          44,
          52,
          48,
          33,
          35,
          64,
          58,
          24,
          40,
          49,
          31,
          46,
          46,
          49,
          29,
          37,
          33,
          71,
          35,
          40,
          27,
          61,
          29,
          33,
          56,
          27,
          22,
          19,
          28,
          24,
          27,
          30,
          26,
          26,
          23,
          28,
          67,
          27,
          32,
          24,
          28,
          48,
          32,
          25,
          57,
          28,
          24,
          25,
          31,
          33,
          50,
          58,
          27,
          48,
          22,
          40,
          32,
          25,
          27,
          27,
          23,
          32,
          25,
          46,
          21,
          29,
          31,
          26,
          23,
          38,
          35,
          27,
          22,
          52,
          19,
          23,
          42,
          27,
          39,
          50,
          36,
          25,
          27,
          30,
          22,
          27,
          31,
          29,
          34,
          33,
          26,
          36,
          26,
          39,
          44,
          46,
          31,
          26,
          22,
          48,
          27,
          30,
          27,
          36,
          31,
          21,
          26,
          24,
          29,
          32,
          45,
          58,
          25,
          67,
          53,
          24,
          20,
          71,
          31,
          27,
          36,
          25,
          41,
          30,
          32,
          29,
          27,
          32,
          25,
          24,
          63,
          42,
          22,
          46,
          24,
          30,
          44,
          25,
          27,
          27,
          34,
          18,
          25,
          21,
          26,
          27,
          25,
          30,
          66,
          25,
          43,
          35,
          70,
          35,
          26,
          29,
          22,
          26,
          36,
          35,
          28,
          24,
          34,
          25,
          54,
          46,
          42,
          45,
          48,
          21,
          31,
          35,
          36,
          32,
          26,
          34,
          65,
          50,
          39,
          52,
          36,
          29,
          36,
          36,
          27,
          36,
          26,
          57,
          27,
          58,
          27,
          49,
          43,
          45,
          27,
          34,
          21,
          54,
          43,
          25,
          57,
          26,
          30,
          58,
          25,
          23,
          22,
          21,
          20,
          22,
          27,
          24,
          23,
          26,
          28,
          64,
          26,
          31,
          28,
          25,
          49,
          33,
          27,
          59,
          28,
          24,
          26,
          33,
          37,
          46,
          62,
          26,
          49,
          25,
          37,
          31,
          25,
          21,
          27,
          29,
          30,
          26,
          40,
          23,
          31,
          29,
          22,
          26,
          39,
          35,
          26,
          28,
          56,
          22,
          26,
          41,
          29,
          42,
          50,
          33,
          28,
          27,
          27,
          28,
          24,
          28,
          32,
          32,
          30,
          29,
          37,
          24,
          36,
          40,
          51,
          33,
          31,
          29,
          48,
          25,
          28,
          23,
          32,
          34,
          23,
          25,
          25,
          27,
          29,
          46,
          61,
          25,
          67,
          49,
          21,
          19,
          67,
          31,
          27,
          37,
          27,
          36,
          24,
          31,
          29,
          28,
          34,
          26,
          21,
          63,
          38,
          20,
          44,
          31,
          33,
          49,
          26,
          28,
          30,
          36,
          27,
          23,
          31,
          27,
          25,
          23,
          27,
          38,
          44,
          42,
          25,
          40,
          24,
          39,
          24,
          50,
          28,
          36,
          36,
          40,
          31,
          27,
          35,
          51,
          26,
          33,
          27,
          38,
          30,
          28,
          23,
          23,
          26,
          21,
          36,
          24,
          41,
          42,
          27,
          40,
          34,
          40,
          33,
          49,
          28,
          26,
          40,
          47,
          41,
          29,
          37,
          31,
          35,
          35,
          29,
          37,
          37,
          26,
          28,
          23,
          38,
          30,
          45,
          24,
          35,
          41,
          30,
          30,
          26,
          25,
          23,
          27,
          26,
          25,
          27,
          42,
          35,
          25,
          26,
          38,
          28,
          33,
          40,
          23,
          25,
          28,
          41,
          50,
          23,
          26,
          22,
          37,
          38,
          22,
          30,
          38,
          36,
          41,
          29,
          31,
          31,
          21,
          32,
          35,
          29,
          34,
          38,
          33,
          28,
          28,
          21,
          29,
          26,
          40,
          25,
          20,
          23,
          27,
          36,
          25,
          25,
          34,
          24,
          36,
          40,
          39,
          42,
          35,
          27,
          27,
          23,
          32,
          28,
          22,
          31,
          22,
          23,
          35,
          26,
          28,
          54,
          49,
          38,
          47,
          49,
          30,
          32,
          24,
          25,
          33,
          34,
          24,
          36,
          41,
          33,
          26,
          36,
          35,
          29,
          26,
          31,
          26,
          47,
          20,
          45,
          36,
          31,
          41,
          31,
          27,
          32,
          43,
          32,
          29,
          37,
          35,
          23,
          40,
          26,
          28,
          40,
          26,
          23,
          26,
          26,
          49,
          26,
          35,
          24,
          46,
          26,
          47,
          27,
          41,
          29,
          28,
          33,
          50,
          32,
          31,
          52,
          53,
          34,
          22,
          33,
          32,
          45,
          25,
          41,
          36,
          27,
          40,
          37,
          35,
          34,
          28,
          44,
          27,
          50,
          18,
          25,
          40,
          28,
          23,
          35,
          28,
          23,
          34,
          29,
          35,
          32,
          46,
          27,
          25,
          27,
          24,
          33,
          24,
          28,
          35,
          30,
          43,
          21,
          24,
          34,
          26,
          37,
          32,
          33,
          28,
          30,
          26,
          25,
          33,
          30,
          26,
          23,
          25,
          40,
          46,
          43,
          22,
          39,
          27,
          40,
          24,
          52,
          30,
          34,
          38,
          39,
          29,
          25,
          35,
          53,
          26,
          33,
          29,
          39,
          29,
          26,
          24,
          21,
          26,
          20,
          35,
          24,
          40,
          44,
          29,
          39,
          35,
          42,
          32,
          48,
          26,
          26,
          42,
          48,
          42,
          27,
          37,
          33,
          33,
          37,
          31,
          39,
          40,
          28,
          26,
          24,
          40,
          29,
          43,
          23,
          34,
          42,
          33,
          32,
          26,
          23,
          26,
          27,
          24,
          27,
          26,
          42,
          37,
          26,
          24,
          39,
          26,
          35,
          38,
          24,
          26,
          25,
          40,
          48,
          22,
          25,
          24,
          39,
          39,
          21,
          27,
          40,
          37,
          42,
          31,
          31,
          30,
          23,
          33,
          37,
          29,
          31,
          39,
          33,
          26,
          27,
          20,
          27,
          26,
          40,
          24,
          22,
          24,
          27,
          35,
          27,
          25,
          34,
          24,
          34,
          42,
          38,
          42,
          35,
          27,
          25,
          23,
          34,
          28,
          21,
          32,
          21,
          25,
          35,
          25,
          31,
          54,
          51,
          38,
          45,
          47,
          27,
          31,
          24,
          25
         ],
         "xaxis": "x",
         "yaxis": "y"
        },
        {
         "marker": {
          "color": "darkgreen",
          "line": {
           "color": "black",
           "width": 1.5
          }
         },
         "name": "Age Box",
         "opacity": 0.8,
         "type": "box",
         "x": [
          67,
          22,
          49,
          45,
          53,
          35,
          53,
          35,
          61,
          28,
          25,
          24,
          22,
          60,
          28,
          32,
          53,
          25,
          44,
          31,
          48,
          44,
          48,
          44,
          26,
          36,
          39,
          42,
          34,
          63,
          36,
          27,
          30,
          57,
          33,
          25,
          31,
          37,
          37,
          24,
          30,
          26,
          44,
          24,
          58,
          35,
          39,
          23,
          39,
          28,
          29,
          30,
          25,
          31,
          57,
          26,
          52,
          31,
          23,
          23,
          27,
          50,
          61,
          25,
          26,
          48,
          29,
          22,
          37,
          25,
          30,
          46,
          51,
          41,
          40,
          66,
          34,
          51,
          39,
          22,
          44,
          47,
          24,
          58,
          52,
          29,
          27,
          47,
          30,
          28,
          56,
          54,
          33,
          20,
          54,
          58,
          61,
          34,
          36,
          36,
          41,
          24,
          24,
          35,
          26,
          39,
          39,
          32,
          30,
          35,
          31,
          23,
          28,
          25,
          35,
          47,
          30,
          27,
          23,
          36,
          25,
          41,
          24,
          63,
          27,
          30,
          40,
          30,
          34,
          29,
          24,
          29,
          27,
          47,
          21,
          38,
          27,
          66,
          35,
          44,
          27,
          30,
          27,
          22,
          23,
          30,
          39,
          51,
          28,
          46,
          42,
          38,
          24,
          29,
          36,
          20,
          48,
          45,
          38,
          34,
          36,
          30,
          36,
          70,
          36,
          32,
          33,
          20,
          25,
          31,
          33,
          26,
          34,
          33,
          26,
          53,
          42,
          52,
          31,
          65,
          28,
          30,
          40,
          50,
          36,
          31,
          74,
          68,
          20,
          33,
          54,
          34,
          36,
          29,
          21,
          34,
          28,
          27,
          36,
          40,
          52,
          27,
          26,
          21,
          38,
          38,
          43,
          26,
          21,
          55,
          33,
          45,
          50,
          66,
          51,
          39,
          31,
          23,
          24,
          64,
          26,
          23,
          30,
          32,
          30,
          27,
          27,
          53,
          22,
          22,
          26,
          51,
          35,
          25,
          42,
          30,
          23,
          61,
          35,
          39,
          29,
          51,
          24,
          27,
          35,
          25,
          52,
          35,
          26,
          22,
          39,
          46,
          24,
          35,
          24,
          27,
          35,
          29,
          23,
          57,
          27,
          55,
          36,
          57,
          32,
          37,
          36,
          38,
          45,
          25,
          32,
          37,
          36,
          28,
          34,
          32,
          26,
          49,
          32,
          29,
          23,
          50,
          49,
          63,
          37,
          35,
          26,
          31,
          49,
          48,
          26,
          28,
          44,
          56,
          46,
          26,
          20,
          45,
          43,
          32,
          54,
          42,
          37,
          49,
          44,
          33,
          24,
          33,
          24,
          22,
          40,
          25,
          26,
          25,
          29,
          31,
          38,
          48,
          32,
          27,
          28,
          32,
          34,
          28,
          36,
          39,
          49,
          34,
          31,
          28,
          75,
          30,
          24,
          24,
          23,
          44,
          23,
          24,
          28,
          31,
          24,
          26,
          25,
          33,
          37,
          43,
          23,
          23,
          34,
          32,
          23,
          29,
          38,
          28,
          46,
          23,
          49,
          26,
          28,
          23,
          61,
          37,
          36,
          21,
          25,
          36,
          27,
          22,
          42,
          40,
          36,
          33,
          23,
          63,
          60,
          37,
          34,
          36,
          57,
          52,
          39,
          38,
          25,
          26,
          26,
          25,
          21,
          40,
          27,
          27,
          30,
          19,
          39,
          31,
          31,
          32,
          55,
          46,
          46,
          43,
          39,
          28,
          27,
          27,
          43,
          22,
          43,
          27,
          26,
          28,
          20,
          35,
          42,
          40,
          35,
          35,
          33,
          23,
          31,
          33,
          20,
          30,
          47,
          34,
          25,
          21,
          29,
          46,
          20,
          55,
          74,
          29,
          36,
          33,
          25,
          25,
          23,
          37,
          65,
          26,
          39,
          30,
          29,
          41,
          30,
          41,
          34,
          35,
          55,
          61,
          30,
          29,
          34,
          35,
          31,
          29,
          36,
          35,
          27,
          32,
          37,
          36,
          34,
          38,
          34,
          63,
          29,
          32,
          26,
          35,
          22,
          23,
          28,
          36,
          33,
          26,
          24,
          25,
          39,
          44,
          23,
          26,
          57,
          30,
          44,
          47,
          52,
          62,
          35,
          26,
          26,
          42,
          27,
          38,
          39,
          20,
          29,
          40,
          32,
          28,
          27,
          42,
          49,
          38,
          24,
          27,
          36,
          34,
          28,
          45,
          26,
          32,
          26,
          20,
          54,
          37,
          40,
          23,
          43,
          36,
          44,
          24,
          53,
          23,
          26,
          30,
          31,
          42,
          31,
          41,
          32,
          28,
          41,
          26,
          25,
          33,
          75,
          37,
          42,
          45,
          23,
          60,
          31,
          34,
          61,
          43,
          37,
          32,
          24,
          35,
          23,
          45,
          34,
          27,
          67,
          22,
          28,
          29,
          27,
          31,
          49,
          24,
          29,
          37,
          37,
          23,
          36,
          34,
          41,
          31,
          23,
          38,
          26,
          22,
          27,
          24,
          27,
          33,
          27,
          27,
          30,
          49,
          26,
          33,
          52,
          20,
          36,
          21,
          47,
          60,
          58,
          42,
          36,
          20,
          40,
          32,
          23,
          36,
          31,
          32,
          45,
          30,
          34,
          28,
          23,
          22,
          74,
          50,
          33,
          45,
          22,
          48,
          29,
          22,
          22,
          48,
          27,
          37,
          21,
          49,
          27,
          32,
          38,
          22,
          65,
          35,
          41,
          29,
          36,
          64,
          28,
          44,
          23,
          19,
          25,
          47,
          28,
          21,
          34,
          26,
          27,
          38,
          40,
          33,
          32,
          27,
          32,
          26,
          38,
          40,
          50,
          37,
          45,
          42,
          35,
          22,
          41,
          37,
          28,
          41,
          23,
          23,
          50,
          35,
          50,
          27,
          34,
          27,
          43,
          47,
          27,
          31,
          42,
          24,
          41,
          26,
          33,
          24,
          64,
          26,
          56,
          37,
          33,
          47,
          31,
          34,
          27,
          30,
          35,
          31,
          25,
          25,
          29,
          44,
          28,
          50,
          29,
          38,
          24,
          40,
          29,
          46,
          47,
          41,
          32,
          35,
          24,
          25,
          25,
          37,
          32,
          35,
          46,
          25,
          27,
          63,
          40,
          32,
          31,
          31,
          34,
          24,
          24,
          66,
          21,
          41,
          47,
          25,
          59,
          36,
          33,
          21,
          44,
          28,
          37,
          29,
          23,
          35,
          45,
          26,
          32,
          23,
          41,
          22,
          30,
          28,
          23,
          37,
          26,
          33,
          49,
          23,
          23,
          25,
          55,
          32,
          74,
          39,
          31,
          35,
          59,
          24,
          24,
          30,
          27,
          40,
          31,
          31,
          28,
          63,
          26,
          25,
          36,
          52,
          66,
          25,
          37,
          25,
          38,
          67,
          25,
          60,
          31,
          23,
          60,
          35,
          40,
          38,
          50,
          27,
          39,
          41,
          27,
          51,
          32,
          22,
          51,
          22,
          54,
          35,
          54,
          48,
          24,
          35,
          24,
          24,
          26,
          65,
          55,
          26,
          26,
          28,
          24,
          54,
          46,
          54,
          62,
          24,
          43,
          26,
          27,
          24,
          41,
          47,
          35,
          30,
          33,
          36,
          47,
          38,
          44,
          23,
          29,
          42,
          25,
          48,
          21,
          23,
          63,
          46,
          29,
          28,
          23,
          50,
          47,
          35,
          68,
          28,
          59,
          57,
          33,
          43,
          35,
          32,
          45,
          33,
          40,
          28,
          29,
          26,
          27,
          28,
          35,
          32,
          25,
          20,
          27,
          42,
          37,
          24,
          40,
          46,
          26,
          24,
          29,
          40,
          36,
          28,
          27,
          36,
          38,
          48,
          36,
          65,
          43,
          53,
          34,
          23,
          34,
          40,
          43,
          46,
          38,
          34,
          29,
          31,
          28,
          35,
          33,
          42,
          43,
          44,
          42,
          40,
          36,
          20,
          24,
          27,
          46,
          33,
          34,
          25,
          25,
          28,
          31,
          32,
          32,
          68,
          33,
          39,
          28,
          37,
          22,
          30,
          55,
          46,
          21,
          39,
          58,
          43,
          24,
          22,
          30,
          42,
          23,
          30,
          28,
          30,
          42,
          46,
          45,
          31,
          31,
          42,
          46,
          30,
          30,
          38,
          43,
          31,
          40,
          24,
          28,
          26,
          29,
          57,
          49,
          37,
          45,
          30,
          30,
          47,
          29,
          35,
          22,
          26,
          23,
          54,
          29,
          40,
          22,
          43,
          29,
          36,
          33,
          57,
          64,
          42,
          47,
          25,
          49,
          33,
          28,
          26,
          30,
          25,
          33,
          64,
          29,
          48,
          37,
          34,
          23,
          30,
          50,
          31,
          40,
          38,
          23,
          27,
          63,
          66,
          43,
          44,
          65,
          73,
          60,
          62,
          58,
          43,
          64,
          37,
          46,
          57,
          51,
          32,
          64,
          68,
          55,
          73,
          34,
          44,
          58,
          65,
          56,
          42,
          65,
          72,
          45,
          68,
          60,
          30,
          63,
          57,
          46,
          70,
          65,
          63,
          54,
          49,
          64,
          61,
          57,
          42,
          62,
          41,
          51,
          38,
          56,
          43,
          48,
          61,
          48,
          68,
          62,
          56,
          53,
          33,
          60,
          47,
          25,
          64,
          73,
          66,
          76,
          60,
          57,
          30,
          43,
          57,
          51,
          61,
          64,
          41,
          43,
          67,
          71,
          59,
          60,
          60,
          45,
          63,
          38,
          46,
          55,
          50,
          30,
          63,
          67,
          54,
          71,
          32,
          45,
          65,
          62,
          28,
          65,
          57,
          48,
          71,
          38,
          40,
          49,
          32,
          45,
          40,
          66,
          38,
          20,
          48,
          46,
          32,
          54,
          24,
          27,
          57,
          38,
          40,
          20,
          36,
          47,
          64,
          42,
          44,
          30,
          37,
          42,
          62,
          49,
          52,
          36,
          49,
          42,
          38,
          50,
          34,
          43,
          40,
          56,
          41,
          30,
          28,
          64,
          67,
          37,
          31,
          32,
          52,
          31,
          36,
          32,
          51,
          47,
          34,
          46,
          42,
          39,
          50,
          42,
          36,
          18,
          35,
          38,
          39,
          24,
          41,
          36,
          37,
          45,
          41,
          36,
          38,
          38,
          53,
          35,
          48,
          36,
          22,
          35,
          42,
          39,
          31,
          33,
          31,
          42,
          61,
          38,
          33,
          48,
          31,
          52,
          27,
          40,
          34,
          26,
          30,
          53,
          45,
          32,
          35,
          26,
          30,
          37,
          32,
          40,
          44,
          43,
          51,
          37,
          33,
          32,
          35,
          30,
          35,
          40,
          37,
          37,
          37,
          53,
          34,
          51,
          26,
          34,
          51,
          33,
          32,
          39,
          53,
          34,
          37,
          28,
          25,
          36,
          36,
          35,
          21,
          29,
          60,
          45,
          56,
          30,
          52,
          26,
          43,
          34,
          22,
          42,
          38,
          29,
          44,
          29,
          44,
          38,
          26,
          53,
          43,
          33,
          52,
          26,
          38,
          47,
          26,
          36,
          36,
          57,
          31,
          45,
          40,
          21,
          46,
          35,
          31,
          51,
          21,
          48,
          48,
          68,
          45,
          35,
          22,
          44,
          52,
          48,
          33,
          35,
          64,
          58,
          24,
          40,
          49,
          31,
          46,
          46,
          49,
          29,
          37,
          33,
          71,
          35,
          40,
          27,
          61,
          29,
          33,
          56,
          27,
          22,
          19,
          28,
          24,
          27,
          30,
          26,
          26,
          23,
          28,
          67,
          27,
          32,
          24,
          28,
          48,
          32,
          25,
          57,
          28,
          24,
          25,
          31,
          33,
          50,
          58,
          27,
          48,
          22,
          40,
          32,
          25,
          27,
          27,
          23,
          32,
          25,
          46,
          21,
          29,
          31,
          26,
          23,
          38,
          35,
          27,
          22,
          52,
          19,
          23,
          42,
          27,
          39,
          50,
          36,
          25,
          27,
          30,
          22,
          27,
          31,
          29,
          34,
          33,
          26,
          36,
          26,
          39,
          44,
          46,
          31,
          26,
          22,
          48,
          27,
          30,
          27,
          36,
          31,
          21,
          26,
          24,
          29,
          32,
          45,
          58,
          25,
          67,
          53,
          24,
          20,
          71,
          31,
          27,
          36,
          25,
          41,
          30,
          32,
          29,
          27,
          32,
          25,
          24,
          63,
          42,
          22,
          46,
          24,
          30,
          44,
          25,
          27,
          27,
          34,
          18,
          25,
          21,
          26,
          27,
          25,
          30,
          66,
          25,
          43,
          35,
          70,
          35,
          26,
          29,
          22,
          26,
          36,
          35,
          28,
          24,
          34,
          25,
          54,
          46,
          42,
          45,
          48,
          21,
          31,
          35,
          36,
          32,
          26,
          34,
          65,
          50,
          39,
          52,
          36,
          29,
          36,
          36,
          27,
          36,
          26,
          57,
          27,
          58,
          27,
          49,
          43,
          45,
          27,
          34,
          21,
          54,
          43,
          25,
          57,
          26,
          30,
          58,
          25,
          23,
          22,
          21,
          20,
          22,
          27,
          24,
          23,
          26,
          28,
          64,
          26,
          31,
          28,
          25,
          49,
          33,
          27,
          59,
          28,
          24,
          26,
          33,
          37,
          46,
          62,
          26,
          49,
          25,
          37,
          31,
          25,
          21,
          27,
          29,
          30,
          26,
          40,
          23,
          31,
          29,
          22,
          26,
          39,
          35,
          26,
          28,
          56,
          22,
          26,
          41,
          29,
          42,
          50,
          33,
          28,
          27,
          27,
          28,
          24,
          28,
          32,
          32,
          30,
          29,
          37,
          24,
          36,
          40,
          51,
          33,
          31,
          29,
          48,
          25,
          28,
          23,
          32,
          34,
          23,
          25,
          25,
          27,
          29,
          46,
          61,
          25,
          67,
          49,
          21,
          19,
          67,
          31,
          27,
          37,
          27,
          36,
          24,
          31,
          29,
          28,
          34,
          26,
          21,
          63,
          38,
          20,
          44,
          31,
          33,
          49,
          26,
          28,
          30,
          36,
          27,
          23,
          31,
          27,
          25,
          23,
          27,
          38,
          44,
          42,
          25,
          40,
          24,
          39,
          24,
          50,
          28,
          36,
          36,
          40,
          31,
          27,
          35,
          51,
          26,
          33,
          27,
          38,
          30,
          28,
          23,
          23,
          26,
          21,
          36,
          24,
          41,
          42,
          27,
          40,
          34,
          40,
          33,
          49,
          28,
          26,
          40,
          47,
          41,
          29,
          37,
          31,
          35,
          35,
          29,
          37,
          37,
          26,
          28,
          23,
          38,
          30,
          45,
          24,
          35,
          41,
          30,
          30,
          26,
          25,
          23,
          27,
          26,
          25,
          27,
          42,
          35,
          25,
          26,
          38,
          28,
          33,
          40,
          23,
          25,
          28,
          41,
          50,
          23,
          26,
          22,
          37,
          38,
          22,
          30,
          38,
          36,
          41,
          29,
          31,
          31,
          21,
          32,
          35,
          29,
          34,
          38,
          33,
          28,
          28,
          21,
          29,
          26,
          40,
          25,
          20,
          23,
          27,
          36,
          25,
          25,
          34,
          24,
          36,
          40,
          39,
          42,
          35,
          27,
          27,
          23,
          32,
          28,
          22,
          31,
          22,
          23,
          35,
          26,
          28,
          54,
          49,
          38,
          47,
          49,
          30,
          32,
          24,
          25,
          33,
          34,
          24,
          36,
          41,
          33,
          26,
          36,
          35,
          29,
          26,
          31,
          26,
          47,
          20,
          45,
          36,
          31,
          41,
          31,
          27,
          32,
          43,
          32,
          29,
          37,
          35,
          23,
          40,
          26,
          28,
          40,
          26,
          23,
          26,
          26,
          49,
          26,
          35,
          24,
          46,
          26,
          47,
          27,
          41,
          29,
          28,
          33,
          50,
          32,
          31,
          52,
          53,
          34,
          22,
          33,
          32,
          45,
          25,
          41,
          36,
          27,
          40,
          37,
          35,
          34,
          28,
          44,
          27,
          50,
          18,
          25,
          40,
          28,
          23,
          35,
          28,
          23,
          34,
          29,
          35,
          32,
          46,
          27,
          25,
          27,
          24,
          33,
          24,
          28,
          35,
          30,
          43,
          21,
          24,
          34,
          26,
          37,
          32,
          33,
          28,
          30,
          26,
          25,
          33,
          30,
          26,
          23,
          25,
          40,
          46,
          43,
          22,
          39,
          27,
          40,
          24,
          52,
          30,
          34,
          38,
          39,
          29,
          25,
          35,
          53,
          26,
          33,
          29,
          39,
          29,
          26,
          24,
          21,
          26,
          20,
          35,
          24,
          40,
          44,
          29,
          39,
          35,
          42,
          32,
          48,
          26,
          26,
          42,
          48,
          42,
          27,
          37,
          33,
          33,
          37,
          31,
          39,
          40,
          28,
          26,
          24,
          40,
          29,
          43,
          23,
          34,
          42,
          33,
          32,
          26,
          23,
          26,
          27,
          24,
          27,
          26,
          42,
          37,
          26,
          24,
          39,
          26,
          35,
          38,
          24,
          26,
          25,
          40,
          48,
          22,
          25,
          24,
          39,
          39,
          21,
          27,
          40,
          37,
          42,
          31,
          31,
          30,
          23,
          33,
          37,
          29,
          31,
          39,
          33,
          26,
          27,
          20,
          27,
          26,
          40,
          24,
          22,
          24,
          27,
          35,
          27,
          25,
          34,
          24,
          34,
          42,
          38,
          42,
          35,
          27,
          25,
          23,
          34,
          28,
          21,
          32,
          21,
          25,
          35,
          25,
          31,
          54,
          51,
          38,
          45,
          47,
          27,
          31,
          24,
          25
         ],
         "xaxis": "x2",
         "yaxis": "y2"
        },
        {
         "marker": {
          "color": "darkgreen",
          "line": {
           "color": "black",
           "width": 1.5
          }
         },
         "name": "Income Histogram",
         "opacity": 0.8,
         "type": "histogram",
         "x": [
          124670,
          150773,
          89210,
          171565,
          149031,
          144848,
          156495,
          193621,
          151591,
          174646,
          108469,
          127596,
          108687,
          89374,
          102899,
          88428,
          125550,
          157434,
          261952,
          144657,
          118777,
          147511,
          89804,
          134918,
          103667,
          71909,
          68264,
          163025,
          119307,
          175882,
          159646,
          120131,
          162745,
          87605,
          155569,
          104505,
          143385,
          127676,
          119276,
          92542,
          163329,
          130921,
          133658,
          155104,
          142335,
          138387,
          140182,
          65421,
          130500,
          122831,
          84531,
          180196,
          92058,
          117158,
          135830,
          58258,
          202575,
          183657,
          152267,
          115240,
          106955,
          123641,
          166410,
          227385,
          118372,
          148115,
          111069,
          139780,
          106978,
          110019,
          169102,
          73703,
          141858,
          135959,
          140888,
          157299,
          125187,
          155486,
          151697,
          126400,
          159246,
          136138,
          84792,
          100210,
          93706,
          133783,
          110064,
          241068,
          149022,
          92973,
          110605,
          116604,
          71070,
          128678,
          165230,
          268340,
          135070,
          134794,
          120153,
          195465,
          93372,
          110446,
          95186,
          115343,
          107276,
          244716,
          183108,
          152876,
          165147,
          140520,
          124203,
          107205,
          121432,
          162445,
          134112,
          131842,
          189896,
          109099,
          153539,
          180495,
          104653,
          166933,
          66118,
          135754,
          116103,
          104293,
          71702,
          99066,
          143979,
          123818,
          176714,
          149249,
          77535,
          116540,
          194728,
          109311,
          204723,
          126003,
          123109,
          108251,
          89908,
          176057,
          144332,
          101185,
          107406,
          140665,
          106461,
          127825,
          133898,
          152383,
          119926,
          108784,
          153286,
          214204,
          208101,
          95355,
          124156,
          72215,
          146529,
          75343,
          129789,
          101153,
          127833,
          224998,
          124445,
          141116,
          104276,
          147687,
          125168,
          115369,
          95445,
          95159,
          153031,
          108899,
          113515,
          211229,
          121307,
          131727,
          133574,
          117334,
          177291,
          168763,
          77720,
          176645,
          106205,
          97785,
          214364,
          74525,
          98988,
          133561,
          217651,
          116525,
          135302,
          106434,
          128350,
          147626,
          102697,
          120262,
          124214,
          175223,
          137467,
          65815,
          129864,
          88475,
          74666,
          222294,
          112878,
          103411,
          112868,
          157940,
          115835,
          109807,
          150699,
          178967,
          132767,
          86152,
          114528,
          133912,
          81210,
          131242,
          68804,
          96961,
          90719,
          114116,
          128639,
          106623,
          236264,
          207783,
          91739,
          107780,
          139157,
          121751,
          121974,
          70320,
          78327,
          131433,
          167076,
          130788,
          107408,
          115323,
          99012,
          115996,
          123353,
          100008,
          125105,
          92020,
          108365,
          112979,
          117221,
          88800,
          115099,
          113399,
          115879,
          141270,
          107633,
          131751,
          83687,
          106828,
          135537,
          107142,
          97446,
          126357,
          169617,
          108945,
          67345,
          106215,
          149237,
          112124,
          215150,
          89534,
          111082,
          137069,
          244541,
          120712,
          175367,
          111418,
          110913,
          84267,
          136886,
          144884,
          151180,
          114997,
          100961,
          124849,
          152308,
          167945,
          126706,
          210017,
          125665,
          111184,
          94134,
          214620,
          193816,
          168714,
          202997,
          192451,
          127928,
          78253,
          118446,
          161379,
          56622,
          146117,
          90418,
          109053,
          219319,
          144701,
          102425,
          79867,
          107114,
          62263,
          92567,
          146349,
          141825,
          68582,
          85476,
          111091,
          67110,
          126154,
          92257,
          93605,
          165190,
          107195,
          145059,
          148363,
          105681,
          93732,
          154778,
          149356,
          145670,
          101589,
          213333,
          122420,
          209856,
          181003,
          117804,
          160650,
          84611,
          98479,
          122359,
          81394,
          150372,
          92385,
          149851,
          167939,
          115426,
          85402,
          95815,
          97518,
          87355,
          145933,
          97307,
          108434,
          151312,
          141847,
          130675,
          69309,
          121466,
          153586,
          92849,
          108539,
          129556,
          170146,
          135383,
          96769,
          43684,
          103521,
          118499,
          119684,
          126586,
          136812,
          118277,
          144597,
          106043,
          272314,
          309364,
          170386,
          112458,
          96840,
          281923,
          95551,
          112347,
          260977,
          99354,
          111509,
          105252,
          108522,
          94655,
          201699,
          139868,
          102543,
          134467,
          111187,
          152302,
          110610,
          137827,
          220923,
          165717,
          122299,
          120499,
          126449,
          108315,
          112515,
          164559,
          59238,
          131133,
          109188,
          115393,
          94711,
          171860,
          139414,
          110931,
          187549,
          145508,
          104240,
          108272,
          144004,
          81083,
          166763,
          175530,
          112422,
          154134,
          112401,
          85690,
          145896,
          122552,
          115494,
          109467,
          148226,
          88559,
          62393,
          122133,
          230883,
          136689,
          109145,
          100449,
          106253,
          84747,
          149465,
          84435,
          51681,
          139198,
          106577,
          117372,
          69609,
          178947,
          81743,
          111900,
          121650,
          172639,
          175740,
          220050,
          95200,
          113609,
          143552,
          130973,
          145946,
          126206,
          120426,
          91925,
          129630,
          124268,
          105240,
          162180,
          106552,
          105843,
          138327,
          76154,
          155012,
          114369,
          102839,
          132796,
          89742,
          58615,
          130603,
          110340,
          117729,
          130808,
          147402,
          93567,
          109289,
          98742,
          101270,
          187835,
          140741,
          133265,
          148100,
          131021,
          152620,
          85033,
          114514,
          99307,
          219451,
          114007,
          102846,
          81483,
          107779,
          222360,
          107125,
          80080,
          129600,
          118613,
          146237,
          144461,
          124487,
          97826,
          64105,
          156374,
          205383,
          98964,
          221842,
          88027,
          160513,
          124536,
          93634,
          124725,
          102456,
          74975,
          153861,
          119351,
          95438,
          147967,
          116863,
          170622,
          132426,
          77519,
          169405,
          120030,
          77933,
          109892,
          69062,
          116348,
          137188,
          110199,
          109890,
          109751,
          129651,
          170113,
          140285,
          198029,
          120262,
          105137,
          127371,
          145689,
          102617,
          90709,
          107099,
          116021,
          100426,
          62249,
          172957,
          95003,
          109698,
          157376,
          123191,
          171052,
          99328,
          133799,
          138256,
          115638,
          82238,
          127543,
          63987,
          114784,
          217450,
          173751,
          122850,
          104953,
          152371,
          139905,
          156700,
          86488,
          147472,
          169991,
          62381,
          70926,
          113004,
          125760,
          111918,
          120674,
          63597,
          103069,
          108079,
          101159,
          88211,
          159052,
          102623,
          115589,
          59127,
          82240,
          129425,
          87058,
          128462,
          121403,
          88141,
          134946,
          94058,
          99285,
          108432,
          111369,
          122612,
          134350,
          108838,
          90852,
          151580,
          115681,
          131699,
          192481,
          155122,
          106015,
          108378,
          105257,
          118788,
          162955,
          119511,
          102000,
          254449,
          208446,
          124805,
          139379,
          78296,
          125598,
          100215,
          130951,
          102480,
          136812,
          106919,
          131020,
          119429,
          154521,
          117842,
          124566,
          110009,
          101210,
          101258,
          79045,
          110866,
          129640,
          227021,
          108549,
          122693,
          35832,
          81870,
          179790,
          107158,
          136638,
          158147,
          132587,
          128140,
          117405,
          68475,
          201656,
          86967,
          118006,
          223630,
          110442,
          115691,
          80232,
          187647,
          138952,
          162772,
          111862,
          90051,
          121400,
          137000,
          105031,
          172153,
          170184,
          123279,
          140795,
          144456,
          104773,
          153353,
          223018,
          129177,
          114475,
          161323,
          135765,
          158421,
          103941,
          101783,
          126531,
          111394,
          103577,
          149545,
          171857,
          149782,
          112470,
          133907,
          127849,
          160279,
          92366,
          104794,
          133436,
          110374,
          104263,
          138752,
          102723,
          46297,
          96425,
          158197,
          98008,
          157473,
          149306,
          139236,
          125890,
          173124,
          164621,
          124539,
          107614,
          88849,
          148566,
          106515,
          150465,
          60868,
          255198,
          183178,
          121448,
          129975,
          132950,
          169314,
          147958,
          139896,
          68028,
          133328,
          108518,
          112700,
          110190,
          105104,
          184753,
          162521,
          156794,
          65827,
          88490,
          154919,
          129058,
          77532,
          235417,
          113468,
          190803,
          121423,
          121347,
          67408,
          123043,
          128387,
          250050,
          69588,
          109547,
          78840,
          131122,
          115403,
          110291,
          64811,
          86015,
          142438,
          159303,
          104957,
          89502,
          121313,
          98102,
          94554,
          162591,
          106629,
          70400,
          235660,
          121747,
          85060,
          87630,
          119673,
          126060,
          96145,
          114830,
          194461,
          150158,
          136323,
          111858,
          100198,
          123452,
          120723,
          215639,
          166712,
          136300,
          166988,
          77265,
          85967,
          212020,
          126054,
          144589,
          116723,
          168637,
          139119,
          118610,
          183312,
          96323,
          149510,
          141922,
          120233,
          172790,
          66720,
          113024,
          51791,
          118408,
          101616,
          127250,
          97290,
          106970,
          168147,
          68468,
          120780,
          231992,
          53903,
          101511,
          69046,
          171584,
          132367,
          134433,
          190518,
          152367,
          101157,
          279593,
          96716,
          95171,
          129162,
          118742,
          74511,
          157272,
          102374,
          131492,
          128702,
          177509,
          163451,
          144900,
          97115,
          196568,
          158405,
          97376,
          108678,
          92351,
          61211,
          138644,
          124824,
          132852,
          81069,
          104094,
          114853,
          130344,
          135090,
          179151,
          97390,
          120160,
          82277,
          110844,
          133105,
          102042,
          69370,
          200298,
          117039,
          107585,
          114429,
          128234,
          128580,
          177757,
          106222,
          118428,
          139477,
          71159,
          131370,
          111567,
          125482,
          160642,
          92498,
          199711,
          127588,
          107508,
          94629,
          87598,
          161194,
          137342,
          116848,
          125190,
          153441,
          195328,
          190413,
          118656,
          69487,
          145313,
          117005,
          123243,
          237799,
          180617,
          167019,
          147745,
          114254,
          81155,
          151803,
          94356,
          200621,
          144448,
          150797,
          84404,
          133373,
          119502,
          131619,
          194084,
          108278,
          130987,
          116582,
          85270,
          129227,
          108291,
          103091,
          136975,
          111502,
          124750,
          146463,
          115075,
          308491,
          126368,
          287247,
          125535,
          153223,
          106873,
          268906,
          97757,
          112151,
          172909,
          103387,
          93916,
          189963,
          124191,
          77205,
          65917,
          109676,
          95682,
          125516,
          99822,
          154854,
          84582,
          145800,
          162869,
          192379,
          159757,
          69571,
          93648,
          77472,
          121501,
          207262,
          143082,
          147760,
          82082,
          132991,
          78436,
          99737,
          164915,
          223185,
          108400,
          194882,
          122186,
          79594,
          104355,
          135894,
          103699,
          132145,
          117272,
          137932,
          63972,
          113299,
          108540,
          174424,
          154991,
          99723,
          114584,
          135275,
          41680,
          158769,
          120596,
          139641,
          134377,
          125804,
          91858,
          117641,
          188594,
          162827,
          178991,
          159739,
          73401,
          100794,
          167763,
          145174,
          176292,
          94024,
          93740,
          85685,
          69997,
          151938,
          122830,
          78489,
          161999,
          98032,
          96060,
          147968,
          134853,
          157576,
          203738,
          280570,
          69487,
          214126,
          136671,
          174337,
          126710,
          167139,
          122094,
          170113,
          192698,
          144197,
          133623,
          171052,
          130492,
          135705,
          171804,
          192167,
          134377,
          146716,
          267872,
          142193,
          183765,
          218664,
          145174,
          224961,
          262634,
          287106,
          166298,
          133328,
          129798,
          281084,
          160678,
          167532,
          178591,
          273063,
          149410,
          124658,
          153645,
          308529,
          155062,
          199654,
          124723,
          127752,
          157595,
          135534,
          166264,
          147259,
          161116,
          139380,
          213768,
          125903,
          163940,
          173378,
          126847,
          166712,
          189166,
          161714,
          214364,
          184680,
          214732,
          152527,
          170366,
          194532,
          125883,
          131242,
          159880,
          165519,
          149653,
          134102,
          159378,
          205476,
          280566,
          71823,
          211572,
          136123,
          176372,
          128271,
          169020,
          122267,
          169324,
          192561,
          145781,
          135376,
          169002,
          128469,
          135567,
          170644,
          192360,
          133235,
          260847,
          285647,
          164816,
          130148,
          129838,
          281647,
          157305,
          163654,
          82398,
          107710,
          122346,
          155540,
          127572,
          154031,
          164931,
          123003,
          89605,
          117721,
          168904,
          137576,
          111274,
          94249,
          180940,
          125032,
          138011,
          144850,
          107270,
          113405,
          137338,
          125119,
          159745,
          181262,
          90500,
          102733,
          135493,
          169044,
          178549,
          159716,
          170118,
          143886,
          130164,
          114476,
          126143,
          129654,
          123202,
          160524,
          126906,
          143994,
          123517,
          129055,
          136312,
          112486,
          152401,
          157453,
          142870,
          137231,
          104406,
          145385,
          146519,
          126227,
          112227,
          110145,
          149419,
          176646,
          91019,
          169579,
          142305,
          130602,
          98992,
          181926,
          152864,
          135837,
          121757,
          182274,
          149040,
          154196,
          135332,
          134200,
          177171,
          115964,
          136871,
          159559,
          113878,
          171203,
          102180,
          116844,
          139844,
          156431,
          116137,
          143081,
          155870,
          106924,
          102133,
          145227,
          159500,
          98498,
          159714,
          121852,
          141271,
          123213,
          143723,
          112538,
          97932,
          154003,
          177179,
          128052,
          114617,
          182822,
          177215,
          110929,
          111821,
          97306,
          157231,
          126906,
          133243,
          112250,
          104349,
          151421,
          178081,
          110181,
          113012,
          154585,
          144704,
          141632,
          105055,
          124597,
          160164,
          151754,
          155551,
          94986,
          175800,
          126246,
          116261,
          117796,
          115363,
          169076,
          97474,
          140341,
          114503,
          102937,
          151781,
          123133,
          118879,
          158683,
          107514,
          193879,
          135043,
          108559,
          121038,
          151947,
          118820,
          121517,
          113572,
          131170,
          92430,
          124554,
          115988,
          107301,
          103767,
          141493,
          154339,
          112369,
          158193,
          143734,
          121890,
          127609,
          94650,
          175504,
          165495,
          120389,
          165340,
          119804,
          154344,
          106266,
          136129,
          151914,
          121473,
          127147,
          125387,
          139490,
          124990,
          101471,
          155708,
          142345,
          148675,
          116484,
          150237,
          100273,
          122292,
          159216,
          130082,
          139547,
          122895,
          154549,
          149315,
          118101,
          115831,
          118571,
          138906,
          98520,
          106576,
          121592,
          135605,
          114552,
          151339,
          170387,
          118288,
          109992,
          90654,
          113290,
          100093,
          109489,
          139427,
          123411,
          137925,
          99119,
          91084,
          110137,
          67041,
          127299,
          84555,
          123895,
          94324,
          96062,
          144843,
          107485,
          98573,
          107462,
          115809,
          118749,
          139112,
          94075,
          62002,
          127262,
          122846,
          61907,
          89287,
          103696,
          147603,
          139229,
          107932,
          116235,
          85974,
          124001,
          121428,
          93233,
          67965,
          88001,
          129112,
          109324,
          112785,
          136735,
          107779,
          103526,
          93171,
          106559,
          112728,
          102855,
          85381,
          100762,
          131445,
          123194,
          99519,
          112853,
          110509,
          106446,
          89665,
          128233,
          133615,
          115833,
          65560,
          118642,
          63635,
          122649,
          143321,
          99556,
          36760,
          71935,
          114977,
          147691,
          54296,
          80014,
          77887,
          98517,
          103012,
          121377,
          91359,
          104833,
          101209,
          58207,
          116708,
          107471,
          128495,
          124468,
          106922,
          104291,
          98204,
          127071,
          85115,
          104013,
          89863,
          135300,
          107861,
          123994,
          91270,
          133245,
          118594,
          40606,
          129304,
          113118,
          133131,
          106876,
          130870,
          125621,
          78923,
          123983,
          75184,
          109693,
          86273,
          113190,
          109274,
          143489,
          99570,
          139468,
          108627,
          106355,
          96952,
          141502,
          110420,
          97741,
          99583,
          63698,
          116688,
          131542,
          136055,
          100195,
          131001,
          104062,
          137689,
          137705,
          69915,
          68731,
          105726,
          78078,
          110835,
          115531,
          92723,
          107509,
          116763,
          100733,
          92652,
          106987,
          51882,
          104751,
          50947,
          126986,
          110223,
          100591,
          123257,
          137736,
          110221,
          99703,
          106667,
          143319,
          135557,
          93390,
          97577,
          124196,
          81136,
          119439,
          145231,
          85623,
          145373,
          135896,
          106470,
          113334,
          100560,
          108442,
          64472,
          120207,
          101680,
          92342,
          98611,
          97613,
          82298,
          125302,
          108725,
          85569,
          110372,
          100511,
          110455,
          141993,
          121789,
          138967,
          105230,
          90656,
          115445,
          59955,
          126268,
          80830,
          123625,
          102543,
          101948,
          142280,
          105434,
          106115,
          111057,
          117758,
          118396,
          136260,
          97192,
          62101,
          123497,
          120326,
          66645,
          83429,
          107539,
          153880,
          140178,
          100402,
          122158,
          89331,
          125359,
          124110,
          93526,
          70170,
          82357,
          126745,
          103326,
          116048,
          137115,
          105365,
          95911,
          88669,
          103776,
          108864,
          106037,
          84851,
          95748,
          133616,
          132752,
          95712,
          109063,
          113521,
          109380,
          82558,
          124777,
          133542,
          116492,
          68834,
          124023,
          63882,
          122492,
          141453,
          99327,
          45590,
          71167,
          111992,
          145140,
          49672,
          75536,
          86720,
          97729,
          106808,
          117971,
          97731,
          109196,
          94905,
          57480,
          109175,
          111174,
          127255,
          115499,
          109499,
          104696,
          104467,
          120157,
          81200,
          97558,
          95914,
          128053,
          101734,
          126009,
          91232,
          128343,
          110040,
          38247,
          129027,
          115026,
          130323,
          103181,
          138307,
          122564,
          82351,
          125351,
          82940,
          108029,
          82734,
          116816,
          113472,
          143343,
          104074,
          138525,
          106960,
          108323,
          95784,
          140673,
          104235,
          54041,
          107961,
          113757,
          94884,
          126041,
          64952,
          66764,
          67861,
          113516,
          46109,
          103651,
          75043,
          116473,
          96614,
          66447,
          119068,
          122973,
          81609,
          105519,
          86649,
          76384,
          67136,
          93155,
          124183,
          64860,
          87232,
          92304,
          84254,
          106696,
          113212,
          71076,
          114270,
          125538,
          92442,
          75297,
          65707,
          120387,
          120946,
          73265,
          77481,
          91282,
          104405,
          99646,
          97791,
          81878,
          107908,
          98608,
          95228,
          128163,
          94325,
          90815,
          120719,
          110159,
          124490,
          75161,
          127206,
          83660,
          87400,
          78942,
          88452,
          104128,
          100313,
          107387,
          84355,
          112723,
          115892,
          106597,
          121327,
          92559,
          87537,
          70569,
          85294,
          70905,
          103716,
          94947,
          80116,
          86492,
          88672,
          82984,
          128100,
          72869,
          112227,
          94674,
          101003,
          112924,
          108645,
          69415,
          112204,
          109700,
          104484,
          61239,
          119602,
          81014,
          68165,
          88652,
          75705,
          104189,
          71603,
          121914,
          106637,
          99800,
          67629,
          120354,
          122110,
          89170,
          109195,
          92392,
          43805,
          68389,
          112521,
          59255,
          98612,
          70649,
          95228,
          46865,
          101688,
          62618,
          102531,
          100737,
          107321,
          112879,
          125372,
          69419,
          124759,
          79076,
          84779,
          77393,
          113187,
          99100,
          64954,
          103244,
          124975,
          133582,
          103519,
          117813,
          119902,
          70783,
          125470,
          109782,
          78322,
          125517,
          102463,
          89309,
          110287,
          122391,
          116399,
          81907,
          97909,
          68051,
          82414,
          123089,
          66537,
          127926,
          78963,
          108694,
          100892,
          119560,
          116176,
          111854,
          69831,
          69375,
          71310,
          73913,
          95492,
          109329,
          116027,
          81987,
          83481,
          72361,
          106625,
          123707,
          79353,
          68347,
          115832,
          89946,
          86319,
          70963,
          106120,
          97856,
          61824,
          103907,
          99953,
          113413,
          107091,
          124783,
          92281,
          96219,
          86221,
          80962,
          78754,
          60026,
          88157,
          59881,
          112818,
          102250,
          38980,
          81807,
          93148,
          108032,
          89335,
          95639,
          124902,
          87801,
          92538,
          83687,
          128310,
          104754,
          68222,
          97006,
          107372,
          110511,
          72193,
          95972,
          105556,
          88701,
          117710,
          76057,
          100392,
          113308,
          100924,
          72188,
          70431,
          110103,
          60825,
          75100,
          129327,
          95541,
          112777,
          51496,
          102781,
          87494,
          72728,
          114775,
          124359,
          101620,
          87964,
          69523,
          109486,
          77206,
          53608,
          118677,
          116512,
          114756,
          65852,
          75626,
          127455,
          107073,
          82196,
          106741,
          94518,
          114430,
          57165,
          109610,
          113619,
          93854,
          129022,
          66804,
          62689,
          67619,
          113495,
          48632,
          107394,
          72385,
          115934,
          93183,
          63506,
          113619,
          121399,
          78281,
          103926,
          89097,
          80852,
          65207,
          93495,
          121970,
          62027,
          88602,
          89914,
          83342,
          103439,
          115451,
          68250,
          113630,
          125880,
          91177,
          73266,
          69021,
          122593,
          122180,
          75160,
          81973,
          92194,
          107380,
          98023,
          94868,
          83442,
          109887,
          98876,
          94962,
          130740,
          94095,
          95071,
          117308,
          112093,
          123893,
          80189,
          124089,
          82673,
          88858,
          80540,
          84228,
          103963,
          102397,
          111563,
          88260,
          114767,
          113275,
          104755,
          120525,
          96082,
          87227,
          69333,
          87777,
          70978,
          104196,
          97551,
          78979,
          82500,
          86306,
          78762,
          125543,
          70336,
          112975,
          96681,
          98922,
          109250,
          108960,
          71302,
          107757,
          111600,
          102974,
          63442,
          118913,
          80987,
          68790,
          86462,
          76881,
          107409,
          69114,
          119167,
          102018,
          97680,
          65062,
          118144,
          124548,
          85637,
          113108,
          93554,
          42516,
          72429,
          110154,
          60965,
          100618,
          71021,
          94189,
          44742,
          103201,
          62335,
          103787,
          99401,
          105197,
          115566,
          125843,
          67936,
          120863,
          77317,
          84653,
          81606,
          113380,
          100644,
          64037,
          101350,
          126334,
          130877,
          103470,
          114588,
          120682,
          66628,
          124447,
          106567,
          78758,
          128537,
          101074,
          87670,
          113414,
          123525,
          117744,
          86400,
          97968,
          68416
         ],
         "xaxis": "x3",
         "yaxis": "y3"
        },
        {
         "marker": {
          "color": "darkgreen",
          "line": {
           "color": "black",
           "width": 1.5
          }
         },
         "name": "Income Histogram",
         "opacity": 0.8,
         "type": "box",
         "x": [
          124670,
          150773,
          89210,
          171565,
          149031,
          144848,
          156495,
          193621,
          151591,
          174646,
          108469,
          127596,
          108687,
          89374,
          102899,
          88428,
          125550,
          157434,
          261952,
          144657,
          118777,
          147511,
          89804,
          134918,
          103667,
          71909,
          68264,
          163025,
          119307,
          175882,
          159646,
          120131,
          162745,
          87605,
          155569,
          104505,
          143385,
          127676,
          119276,
          92542,
          163329,
          130921,
          133658,
          155104,
          142335,
          138387,
          140182,
          65421,
          130500,
          122831,
          84531,
          180196,
          92058,
          117158,
          135830,
          58258,
          202575,
          183657,
          152267,
          115240,
          106955,
          123641,
          166410,
          227385,
          118372,
          148115,
          111069,
          139780,
          106978,
          110019,
          169102,
          73703,
          141858,
          135959,
          140888,
          157299,
          125187,
          155486,
          151697,
          126400,
          159246,
          136138,
          84792,
          100210,
          93706,
          133783,
          110064,
          241068,
          149022,
          92973,
          110605,
          116604,
          71070,
          128678,
          165230,
          268340,
          135070,
          134794,
          120153,
          195465,
          93372,
          110446,
          95186,
          115343,
          107276,
          244716,
          183108,
          152876,
          165147,
          140520,
          124203,
          107205,
          121432,
          162445,
          134112,
          131842,
          189896,
          109099,
          153539,
          180495,
          104653,
          166933,
          66118,
          135754,
          116103,
          104293,
          71702,
          99066,
          143979,
          123818,
          176714,
          149249,
          77535,
          116540,
          194728,
          109311,
          204723,
          126003,
          123109,
          108251,
          89908,
          176057,
          144332,
          101185,
          107406,
          140665,
          106461,
          127825,
          133898,
          152383,
          119926,
          108784,
          153286,
          214204,
          208101,
          95355,
          124156,
          72215,
          146529,
          75343,
          129789,
          101153,
          127833,
          224998,
          124445,
          141116,
          104276,
          147687,
          125168,
          115369,
          95445,
          95159,
          153031,
          108899,
          113515,
          211229,
          121307,
          131727,
          133574,
          117334,
          177291,
          168763,
          77720,
          176645,
          106205,
          97785,
          214364,
          74525,
          98988,
          133561,
          217651,
          116525,
          135302,
          106434,
          128350,
          147626,
          102697,
          120262,
          124214,
          175223,
          137467,
          65815,
          129864,
          88475,
          74666,
          222294,
          112878,
          103411,
          112868,
          157940,
          115835,
          109807,
          150699,
          178967,
          132767,
          86152,
          114528,
          133912,
          81210,
          131242,
          68804,
          96961,
          90719,
          114116,
          128639,
          106623,
          236264,
          207783,
          91739,
          107780,
          139157,
          121751,
          121974,
          70320,
          78327,
          131433,
          167076,
          130788,
          107408,
          115323,
          99012,
          115996,
          123353,
          100008,
          125105,
          92020,
          108365,
          112979,
          117221,
          88800,
          115099,
          113399,
          115879,
          141270,
          107633,
          131751,
          83687,
          106828,
          135537,
          107142,
          97446,
          126357,
          169617,
          108945,
          67345,
          106215,
          149237,
          112124,
          215150,
          89534,
          111082,
          137069,
          244541,
          120712,
          175367,
          111418,
          110913,
          84267,
          136886,
          144884,
          151180,
          114997,
          100961,
          124849,
          152308,
          167945,
          126706,
          210017,
          125665,
          111184,
          94134,
          214620,
          193816,
          168714,
          202997,
          192451,
          127928,
          78253,
          118446,
          161379,
          56622,
          146117,
          90418,
          109053,
          219319,
          144701,
          102425,
          79867,
          107114,
          62263,
          92567,
          146349,
          141825,
          68582,
          85476,
          111091,
          67110,
          126154,
          92257,
          93605,
          165190,
          107195,
          145059,
          148363,
          105681,
          93732,
          154778,
          149356,
          145670,
          101589,
          213333,
          122420,
          209856,
          181003,
          117804,
          160650,
          84611,
          98479,
          122359,
          81394,
          150372,
          92385,
          149851,
          167939,
          115426,
          85402,
          95815,
          97518,
          87355,
          145933,
          97307,
          108434,
          151312,
          141847,
          130675,
          69309,
          121466,
          153586,
          92849,
          108539,
          129556,
          170146,
          135383,
          96769,
          43684,
          103521,
          118499,
          119684,
          126586,
          136812,
          118277,
          144597,
          106043,
          272314,
          309364,
          170386,
          112458,
          96840,
          281923,
          95551,
          112347,
          260977,
          99354,
          111509,
          105252,
          108522,
          94655,
          201699,
          139868,
          102543,
          134467,
          111187,
          152302,
          110610,
          137827,
          220923,
          165717,
          122299,
          120499,
          126449,
          108315,
          112515,
          164559,
          59238,
          131133,
          109188,
          115393,
          94711,
          171860,
          139414,
          110931,
          187549,
          145508,
          104240,
          108272,
          144004,
          81083,
          166763,
          175530,
          112422,
          154134,
          112401,
          85690,
          145896,
          122552,
          115494,
          109467,
          148226,
          88559,
          62393,
          122133,
          230883,
          136689,
          109145,
          100449,
          106253,
          84747,
          149465,
          84435,
          51681,
          139198,
          106577,
          117372,
          69609,
          178947,
          81743,
          111900,
          121650,
          172639,
          175740,
          220050,
          95200,
          113609,
          143552,
          130973,
          145946,
          126206,
          120426,
          91925,
          129630,
          124268,
          105240,
          162180,
          106552,
          105843,
          138327,
          76154,
          155012,
          114369,
          102839,
          132796,
          89742,
          58615,
          130603,
          110340,
          117729,
          130808,
          147402,
          93567,
          109289,
          98742,
          101270,
          187835,
          140741,
          133265,
          148100,
          131021,
          152620,
          85033,
          114514,
          99307,
          219451,
          114007,
          102846,
          81483,
          107779,
          222360,
          107125,
          80080,
          129600,
          118613,
          146237,
          144461,
          124487,
          97826,
          64105,
          156374,
          205383,
          98964,
          221842,
          88027,
          160513,
          124536,
          93634,
          124725,
          102456,
          74975,
          153861,
          119351,
          95438,
          147967,
          116863,
          170622,
          132426,
          77519,
          169405,
          120030,
          77933,
          109892,
          69062,
          116348,
          137188,
          110199,
          109890,
          109751,
          129651,
          170113,
          140285,
          198029,
          120262,
          105137,
          127371,
          145689,
          102617,
          90709,
          107099,
          116021,
          100426,
          62249,
          172957,
          95003,
          109698,
          157376,
          123191,
          171052,
          99328,
          133799,
          138256,
          115638,
          82238,
          127543,
          63987,
          114784,
          217450,
          173751,
          122850,
          104953,
          152371,
          139905,
          156700,
          86488,
          147472,
          169991,
          62381,
          70926,
          113004,
          125760,
          111918,
          120674,
          63597,
          103069,
          108079,
          101159,
          88211,
          159052,
          102623,
          115589,
          59127,
          82240,
          129425,
          87058,
          128462,
          121403,
          88141,
          134946,
          94058,
          99285,
          108432,
          111369,
          122612,
          134350,
          108838,
          90852,
          151580,
          115681,
          131699,
          192481,
          155122,
          106015,
          108378,
          105257,
          118788,
          162955,
          119511,
          102000,
          254449,
          208446,
          124805,
          139379,
          78296,
          125598,
          100215,
          130951,
          102480,
          136812,
          106919,
          131020,
          119429,
          154521,
          117842,
          124566,
          110009,
          101210,
          101258,
          79045,
          110866,
          129640,
          227021,
          108549,
          122693,
          35832,
          81870,
          179790,
          107158,
          136638,
          158147,
          132587,
          128140,
          117405,
          68475,
          201656,
          86967,
          118006,
          223630,
          110442,
          115691,
          80232,
          187647,
          138952,
          162772,
          111862,
          90051,
          121400,
          137000,
          105031,
          172153,
          170184,
          123279,
          140795,
          144456,
          104773,
          153353,
          223018,
          129177,
          114475,
          161323,
          135765,
          158421,
          103941,
          101783,
          126531,
          111394,
          103577,
          149545,
          171857,
          149782,
          112470,
          133907,
          127849,
          160279,
          92366,
          104794,
          133436,
          110374,
          104263,
          138752,
          102723,
          46297,
          96425,
          158197,
          98008,
          157473,
          149306,
          139236,
          125890,
          173124,
          164621,
          124539,
          107614,
          88849,
          148566,
          106515,
          150465,
          60868,
          255198,
          183178,
          121448,
          129975,
          132950,
          169314,
          147958,
          139896,
          68028,
          133328,
          108518,
          112700,
          110190,
          105104,
          184753,
          162521,
          156794,
          65827,
          88490,
          154919,
          129058,
          77532,
          235417,
          113468,
          190803,
          121423,
          121347,
          67408,
          123043,
          128387,
          250050,
          69588,
          109547,
          78840,
          131122,
          115403,
          110291,
          64811,
          86015,
          142438,
          159303,
          104957,
          89502,
          121313,
          98102,
          94554,
          162591,
          106629,
          70400,
          235660,
          121747,
          85060,
          87630,
          119673,
          126060,
          96145,
          114830,
          194461,
          150158,
          136323,
          111858,
          100198,
          123452,
          120723,
          215639,
          166712,
          136300,
          166988,
          77265,
          85967,
          212020,
          126054,
          144589,
          116723,
          168637,
          139119,
          118610,
          183312,
          96323,
          149510,
          141922,
          120233,
          172790,
          66720,
          113024,
          51791,
          118408,
          101616,
          127250,
          97290,
          106970,
          168147,
          68468,
          120780,
          231992,
          53903,
          101511,
          69046,
          171584,
          132367,
          134433,
          190518,
          152367,
          101157,
          279593,
          96716,
          95171,
          129162,
          118742,
          74511,
          157272,
          102374,
          131492,
          128702,
          177509,
          163451,
          144900,
          97115,
          196568,
          158405,
          97376,
          108678,
          92351,
          61211,
          138644,
          124824,
          132852,
          81069,
          104094,
          114853,
          130344,
          135090,
          179151,
          97390,
          120160,
          82277,
          110844,
          133105,
          102042,
          69370,
          200298,
          117039,
          107585,
          114429,
          128234,
          128580,
          177757,
          106222,
          118428,
          139477,
          71159,
          131370,
          111567,
          125482,
          160642,
          92498,
          199711,
          127588,
          107508,
          94629,
          87598,
          161194,
          137342,
          116848,
          125190,
          153441,
          195328,
          190413,
          118656,
          69487,
          145313,
          117005,
          123243,
          237799,
          180617,
          167019,
          147745,
          114254,
          81155,
          151803,
          94356,
          200621,
          144448,
          150797,
          84404,
          133373,
          119502,
          131619,
          194084,
          108278,
          130987,
          116582,
          85270,
          129227,
          108291,
          103091,
          136975,
          111502,
          124750,
          146463,
          115075,
          308491,
          126368,
          287247,
          125535,
          153223,
          106873,
          268906,
          97757,
          112151,
          172909,
          103387,
          93916,
          189963,
          124191,
          77205,
          65917,
          109676,
          95682,
          125516,
          99822,
          154854,
          84582,
          145800,
          162869,
          192379,
          159757,
          69571,
          93648,
          77472,
          121501,
          207262,
          143082,
          147760,
          82082,
          132991,
          78436,
          99737,
          164915,
          223185,
          108400,
          194882,
          122186,
          79594,
          104355,
          135894,
          103699,
          132145,
          117272,
          137932,
          63972,
          113299,
          108540,
          174424,
          154991,
          99723,
          114584,
          135275,
          41680,
          158769,
          120596,
          139641,
          134377,
          125804,
          91858,
          117641,
          188594,
          162827,
          178991,
          159739,
          73401,
          100794,
          167763,
          145174,
          176292,
          94024,
          93740,
          85685,
          69997,
          151938,
          122830,
          78489,
          161999,
          98032,
          96060,
          147968,
          134853,
          157576,
          203738,
          280570,
          69487,
          214126,
          136671,
          174337,
          126710,
          167139,
          122094,
          170113,
          192698,
          144197,
          133623,
          171052,
          130492,
          135705,
          171804,
          192167,
          134377,
          146716,
          267872,
          142193,
          183765,
          218664,
          145174,
          224961,
          262634,
          287106,
          166298,
          133328,
          129798,
          281084,
          160678,
          167532,
          178591,
          273063,
          149410,
          124658,
          153645,
          308529,
          155062,
          199654,
          124723,
          127752,
          157595,
          135534,
          166264,
          147259,
          161116,
          139380,
          213768,
          125903,
          163940,
          173378,
          126847,
          166712,
          189166,
          161714,
          214364,
          184680,
          214732,
          152527,
          170366,
          194532,
          125883,
          131242,
          159880,
          165519,
          149653,
          134102,
          159378,
          205476,
          280566,
          71823,
          211572,
          136123,
          176372,
          128271,
          169020,
          122267,
          169324,
          192561,
          145781,
          135376,
          169002,
          128469,
          135567,
          170644,
          192360,
          133235,
          260847,
          285647,
          164816,
          130148,
          129838,
          281647,
          157305,
          163654,
          82398,
          107710,
          122346,
          155540,
          127572,
          154031,
          164931,
          123003,
          89605,
          117721,
          168904,
          137576,
          111274,
          94249,
          180940,
          125032,
          138011,
          144850,
          107270,
          113405,
          137338,
          125119,
          159745,
          181262,
          90500,
          102733,
          135493,
          169044,
          178549,
          159716,
          170118,
          143886,
          130164,
          114476,
          126143,
          129654,
          123202,
          160524,
          126906,
          143994,
          123517,
          129055,
          136312,
          112486,
          152401,
          157453,
          142870,
          137231,
          104406,
          145385,
          146519,
          126227,
          112227,
          110145,
          149419,
          176646,
          91019,
          169579,
          142305,
          130602,
          98992,
          181926,
          152864,
          135837,
          121757,
          182274,
          149040,
          154196,
          135332,
          134200,
          177171,
          115964,
          136871,
          159559,
          113878,
          171203,
          102180,
          116844,
          139844,
          156431,
          116137,
          143081,
          155870,
          106924,
          102133,
          145227,
          159500,
          98498,
          159714,
          121852,
          141271,
          123213,
          143723,
          112538,
          97932,
          154003,
          177179,
          128052,
          114617,
          182822,
          177215,
          110929,
          111821,
          97306,
          157231,
          126906,
          133243,
          112250,
          104349,
          151421,
          178081,
          110181,
          113012,
          154585,
          144704,
          141632,
          105055,
          124597,
          160164,
          151754,
          155551,
          94986,
          175800,
          126246,
          116261,
          117796,
          115363,
          169076,
          97474,
          140341,
          114503,
          102937,
          151781,
          123133,
          118879,
          158683,
          107514,
          193879,
          135043,
          108559,
          121038,
          151947,
          118820,
          121517,
          113572,
          131170,
          92430,
          124554,
          115988,
          107301,
          103767,
          141493,
          154339,
          112369,
          158193,
          143734,
          121890,
          127609,
          94650,
          175504,
          165495,
          120389,
          165340,
          119804,
          154344,
          106266,
          136129,
          151914,
          121473,
          127147,
          125387,
          139490,
          124990,
          101471,
          155708,
          142345,
          148675,
          116484,
          150237,
          100273,
          122292,
          159216,
          130082,
          139547,
          122895,
          154549,
          149315,
          118101,
          115831,
          118571,
          138906,
          98520,
          106576,
          121592,
          135605,
          114552,
          151339,
          170387,
          118288,
          109992,
          90654,
          113290,
          100093,
          109489,
          139427,
          123411,
          137925,
          99119,
          91084,
          110137,
          67041,
          127299,
          84555,
          123895,
          94324,
          96062,
          144843,
          107485,
          98573,
          107462,
          115809,
          118749,
          139112,
          94075,
          62002,
          127262,
          122846,
          61907,
          89287,
          103696,
          147603,
          139229,
          107932,
          116235,
          85974,
          124001,
          121428,
          93233,
          67965,
          88001,
          129112,
          109324,
          112785,
          136735,
          107779,
          103526,
          93171,
          106559,
          112728,
          102855,
          85381,
          100762,
          131445,
          123194,
          99519,
          112853,
          110509,
          106446,
          89665,
          128233,
          133615,
          115833,
          65560,
          118642,
          63635,
          122649,
          143321,
          99556,
          36760,
          71935,
          114977,
          147691,
          54296,
          80014,
          77887,
          98517,
          103012,
          121377,
          91359,
          104833,
          101209,
          58207,
          116708,
          107471,
          128495,
          124468,
          106922,
          104291,
          98204,
          127071,
          85115,
          104013,
          89863,
          135300,
          107861,
          123994,
          91270,
          133245,
          118594,
          40606,
          129304,
          113118,
          133131,
          106876,
          130870,
          125621,
          78923,
          123983,
          75184,
          109693,
          86273,
          113190,
          109274,
          143489,
          99570,
          139468,
          108627,
          106355,
          96952,
          141502,
          110420,
          97741,
          99583,
          63698,
          116688,
          131542,
          136055,
          100195,
          131001,
          104062,
          137689,
          137705,
          69915,
          68731,
          105726,
          78078,
          110835,
          115531,
          92723,
          107509,
          116763,
          100733,
          92652,
          106987,
          51882,
          104751,
          50947,
          126986,
          110223,
          100591,
          123257,
          137736,
          110221,
          99703,
          106667,
          143319,
          135557,
          93390,
          97577,
          124196,
          81136,
          119439,
          145231,
          85623,
          145373,
          135896,
          106470,
          113334,
          100560,
          108442,
          64472,
          120207,
          101680,
          92342,
          98611,
          97613,
          82298,
          125302,
          108725,
          85569,
          110372,
          100511,
          110455,
          141993,
          121789,
          138967,
          105230,
          90656,
          115445,
          59955,
          126268,
          80830,
          123625,
          102543,
          101948,
          142280,
          105434,
          106115,
          111057,
          117758,
          118396,
          136260,
          97192,
          62101,
          123497,
          120326,
          66645,
          83429,
          107539,
          153880,
          140178,
          100402,
          122158,
          89331,
          125359,
          124110,
          93526,
          70170,
          82357,
          126745,
          103326,
          116048,
          137115,
          105365,
          95911,
          88669,
          103776,
          108864,
          106037,
          84851,
          95748,
          133616,
          132752,
          95712,
          109063,
          113521,
          109380,
          82558,
          124777,
          133542,
          116492,
          68834,
          124023,
          63882,
          122492,
          141453,
          99327,
          45590,
          71167,
          111992,
          145140,
          49672,
          75536,
          86720,
          97729,
          106808,
          117971,
          97731,
          109196,
          94905,
          57480,
          109175,
          111174,
          127255,
          115499,
          109499,
          104696,
          104467,
          120157,
          81200,
          97558,
          95914,
          128053,
          101734,
          126009,
          91232,
          128343,
          110040,
          38247,
          129027,
          115026,
          130323,
          103181,
          138307,
          122564,
          82351,
          125351,
          82940,
          108029,
          82734,
          116816,
          113472,
          143343,
          104074,
          138525,
          106960,
          108323,
          95784,
          140673,
          104235,
          54041,
          107961,
          113757,
          94884,
          126041,
          64952,
          66764,
          67861,
          113516,
          46109,
          103651,
          75043,
          116473,
          96614,
          66447,
          119068,
          122973,
          81609,
          105519,
          86649,
          76384,
          67136,
          93155,
          124183,
          64860,
          87232,
          92304,
          84254,
          106696,
          113212,
          71076,
          114270,
          125538,
          92442,
          75297,
          65707,
          120387,
          120946,
          73265,
          77481,
          91282,
          104405,
          99646,
          97791,
          81878,
          107908,
          98608,
          95228,
          128163,
          94325,
          90815,
          120719,
          110159,
          124490,
          75161,
          127206,
          83660,
          87400,
          78942,
          88452,
          104128,
          100313,
          107387,
          84355,
          112723,
          115892,
          106597,
          121327,
          92559,
          87537,
          70569,
          85294,
          70905,
          103716,
          94947,
          80116,
          86492,
          88672,
          82984,
          128100,
          72869,
          112227,
          94674,
          101003,
          112924,
          108645,
          69415,
          112204,
          109700,
          104484,
          61239,
          119602,
          81014,
          68165,
          88652,
          75705,
          104189,
          71603,
          121914,
          106637,
          99800,
          67629,
          120354,
          122110,
          89170,
          109195,
          92392,
          43805,
          68389,
          112521,
          59255,
          98612,
          70649,
          95228,
          46865,
          101688,
          62618,
          102531,
          100737,
          107321,
          112879,
          125372,
          69419,
          124759,
          79076,
          84779,
          77393,
          113187,
          99100,
          64954,
          103244,
          124975,
          133582,
          103519,
          117813,
          119902,
          70783,
          125470,
          109782,
          78322,
          125517,
          102463,
          89309,
          110287,
          122391,
          116399,
          81907,
          97909,
          68051,
          82414,
          123089,
          66537,
          127926,
          78963,
          108694,
          100892,
          119560,
          116176,
          111854,
          69831,
          69375,
          71310,
          73913,
          95492,
          109329,
          116027,
          81987,
          83481,
          72361,
          106625,
          123707,
          79353,
          68347,
          115832,
          89946,
          86319,
          70963,
          106120,
          97856,
          61824,
          103907,
          99953,
          113413,
          107091,
          124783,
          92281,
          96219,
          86221,
          80962,
          78754,
          60026,
          88157,
          59881,
          112818,
          102250,
          38980,
          81807,
          93148,
          108032,
          89335,
          95639,
          124902,
          87801,
          92538,
          83687,
          128310,
          104754,
          68222,
          97006,
          107372,
          110511,
          72193,
          95972,
          105556,
          88701,
          117710,
          76057,
          100392,
          113308,
          100924,
          72188,
          70431,
          110103,
          60825,
          75100,
          129327,
          95541,
          112777,
          51496,
          102781,
          87494,
          72728,
          114775,
          124359,
          101620,
          87964,
          69523,
          109486,
          77206,
          53608,
          118677,
          116512,
          114756,
          65852,
          75626,
          127455,
          107073,
          82196,
          106741,
          94518,
          114430,
          57165,
          109610,
          113619,
          93854,
          129022,
          66804,
          62689,
          67619,
          113495,
          48632,
          107394,
          72385,
          115934,
          93183,
          63506,
          113619,
          121399,
          78281,
          103926,
          89097,
          80852,
          65207,
          93495,
          121970,
          62027,
          88602,
          89914,
          83342,
          103439,
          115451,
          68250,
          113630,
          125880,
          91177,
          73266,
          69021,
          122593,
          122180,
          75160,
          81973,
          92194,
          107380,
          98023,
          94868,
          83442,
          109887,
          98876,
          94962,
          130740,
          94095,
          95071,
          117308,
          112093,
          123893,
          80189,
          124089,
          82673,
          88858,
          80540,
          84228,
          103963,
          102397,
          111563,
          88260,
          114767,
          113275,
          104755,
          120525,
          96082,
          87227,
          69333,
          87777,
          70978,
          104196,
          97551,
          78979,
          82500,
          86306,
          78762,
          125543,
          70336,
          112975,
          96681,
          98922,
          109250,
          108960,
          71302,
          107757,
          111600,
          102974,
          63442,
          118913,
          80987,
          68790,
          86462,
          76881,
          107409,
          69114,
          119167,
          102018,
          97680,
          65062,
          118144,
          124548,
          85637,
          113108,
          93554,
          42516,
          72429,
          110154,
          60965,
          100618,
          71021,
          94189,
          44742,
          103201,
          62335,
          103787,
          99401,
          105197,
          115566,
          125843,
          67936,
          120863,
          77317,
          84653,
          81606,
          113380,
          100644,
          64037,
          101350,
          126334,
          130877,
          103470,
          114588,
          120682,
          66628,
          124447,
          106567,
          78758,
          128537,
          101074,
          87670,
          113414,
          123525,
          117744,
          86400,
          97968,
          68416
         ],
         "xaxis": "x4",
         "yaxis": "y4"
        }
       ],
       "layout": {
        "height": 600,
        "template": {
         "data": {
          "bar": [
           {
            "error_x": {
             "color": "rgb(36,36,36)"
            },
            "error_y": {
             "color": "rgb(36,36,36)"
            },
            "marker": {
             "line": {
              "color": "white",
              "width": 0.5
             },
             "pattern": {
              "fillmode": "overlay",
              "size": 10,
              "solidity": 0.2
             }
            },
            "type": "bar"
           }
          ],
          "barpolar": [
           {
            "marker": {
             "line": {
              "color": "white",
              "width": 0.5
             },
             "pattern": {
              "fillmode": "overlay",
              "size": 10,
              "solidity": 0.2
             }
            },
            "type": "barpolar"
           }
          ],
          "carpet": [
           {
            "aaxis": {
             "endlinecolor": "rgb(36,36,36)",
             "gridcolor": "white",
             "linecolor": "white",
             "minorgridcolor": "white",
             "startlinecolor": "rgb(36,36,36)"
            },
            "baxis": {
             "endlinecolor": "rgb(36,36,36)",
             "gridcolor": "white",
             "linecolor": "white",
             "minorgridcolor": "white",
             "startlinecolor": "rgb(36,36,36)"
            },
            "type": "carpet"
           }
          ],
          "choropleth": [
           {
            "colorbar": {
             "outlinewidth": 1,
             "tickcolor": "rgb(36,36,36)",
             "ticks": "outside"
            },
            "type": "choropleth"
           }
          ],
          "contour": [
           {
            "colorbar": {
             "outlinewidth": 1,
             "tickcolor": "rgb(36,36,36)",
             "ticks": "outside"
            },
            "colorscale": [
             [
              0,
              "#440154"
             ],
             [
              0.1111111111111111,
              "#482878"
             ],
             [
              0.2222222222222222,
              "#3e4989"
             ],
             [
              0.3333333333333333,
              "#31688e"
             ],
             [
              0.4444444444444444,
              "#26828e"
             ],
             [
              0.5555555555555556,
              "#1f9e89"
             ],
             [
              0.6666666666666666,
              "#35b779"
             ],
             [
              0.7777777777777778,
              "#6ece58"
             ],
             [
              0.8888888888888888,
              "#b5de2b"
             ],
             [
              1,
              "#fde725"
             ]
            ],
            "type": "contour"
           }
          ],
          "contourcarpet": [
           {
            "colorbar": {
             "outlinewidth": 1,
             "tickcolor": "rgb(36,36,36)",
             "ticks": "outside"
            },
            "type": "contourcarpet"
           }
          ],
          "heatmap": [
           {
            "colorbar": {
             "outlinewidth": 1,
             "tickcolor": "rgb(36,36,36)",
             "ticks": "outside"
            },
            "colorscale": [
             [
              0,
              "#440154"
             ],
             [
              0.1111111111111111,
              "#482878"
             ],
             [
              0.2222222222222222,
              "#3e4989"
             ],
             [
              0.3333333333333333,
              "#31688e"
             ],
             [
              0.4444444444444444,
              "#26828e"
             ],
             [
              0.5555555555555556,
              "#1f9e89"
             ],
             [
              0.6666666666666666,
              "#35b779"
             ],
             [
              0.7777777777777778,
              "#6ece58"
             ],
             [
              0.8888888888888888,
              "#b5de2b"
             ],
             [
              1,
              "#fde725"
             ]
            ],
            "type": "heatmap"
           }
          ],
          "heatmapgl": [
           {
            "colorbar": {
             "outlinewidth": 1,
             "tickcolor": "rgb(36,36,36)",
             "ticks": "outside"
            },
            "colorscale": [
             [
              0,
              "#440154"
             ],
             [
              0.1111111111111111,
              "#482878"
             ],
             [
              0.2222222222222222,
              "#3e4989"
             ],
             [
              0.3333333333333333,
              "#31688e"
             ],
             [
              0.4444444444444444,
              "#26828e"
             ],
             [
              0.5555555555555556,
              "#1f9e89"
             ],
             [
              0.6666666666666666,
              "#35b779"
             ],
             [
              0.7777777777777778,
              "#6ece58"
             ],
             [
              0.8888888888888888,
              "#b5de2b"
             ],
             [
              1,
              "#fde725"
             ]
            ],
            "type": "heatmapgl"
           }
          ],
          "histogram": [
           {
            "marker": {
             "line": {
              "color": "white",
              "width": 0.6
             }
            },
            "type": "histogram"
           }
          ],
          "histogram2d": [
           {
            "colorbar": {
             "outlinewidth": 1,
             "tickcolor": "rgb(36,36,36)",
             "ticks": "outside"
            },
            "colorscale": [
             [
              0,
              "#440154"
             ],
             [
              0.1111111111111111,
              "#482878"
             ],
             [
              0.2222222222222222,
              "#3e4989"
             ],
             [
              0.3333333333333333,
              "#31688e"
             ],
             [
              0.4444444444444444,
              "#26828e"
             ],
             [
              0.5555555555555556,
              "#1f9e89"
             ],
             [
              0.6666666666666666,
              "#35b779"
             ],
             [
              0.7777777777777778,
              "#6ece58"
             ],
             [
              0.8888888888888888,
              "#b5de2b"
             ],
             [
              1,
              "#fde725"
             ]
            ],
            "type": "histogram2d"
           }
          ],
          "histogram2dcontour": [
           {
            "colorbar": {
             "outlinewidth": 1,
             "tickcolor": "rgb(36,36,36)",
             "ticks": "outside"
            },
            "colorscale": [
             [
              0,
              "#440154"
             ],
             [
              0.1111111111111111,
              "#482878"
             ],
             [
              0.2222222222222222,
              "#3e4989"
             ],
             [
              0.3333333333333333,
              "#31688e"
             ],
             [
              0.4444444444444444,
              "#26828e"
             ],
             [
              0.5555555555555556,
              "#1f9e89"
             ],
             [
              0.6666666666666666,
              "#35b779"
             ],
             [
              0.7777777777777778,
              "#6ece58"
             ],
             [
              0.8888888888888888,
              "#b5de2b"
             ],
             [
              1,
              "#fde725"
             ]
            ],
            "type": "histogram2dcontour"
           }
          ],
          "mesh3d": [
           {
            "colorbar": {
             "outlinewidth": 1,
             "tickcolor": "rgb(36,36,36)",
             "ticks": "outside"
            },
            "type": "mesh3d"
           }
          ],
          "parcoords": [
           {
            "line": {
             "colorbar": {
              "outlinewidth": 1,
              "tickcolor": "rgb(36,36,36)",
              "ticks": "outside"
             }
            },
            "type": "parcoords"
           }
          ],
          "pie": [
           {
            "automargin": true,
            "type": "pie"
           }
          ],
          "scatter": [
           {
            "fillpattern": {
             "fillmode": "overlay",
             "size": 10,
             "solidity": 0.2
            },
            "type": "scatter"
           }
          ],
          "scatter3d": [
           {
            "line": {
             "colorbar": {
              "outlinewidth": 1,
              "tickcolor": "rgb(36,36,36)",
              "ticks": "outside"
             }
            },
            "marker": {
             "colorbar": {
              "outlinewidth": 1,
              "tickcolor": "rgb(36,36,36)",
              "ticks": "outside"
             }
            },
            "type": "scatter3d"
           }
          ],
          "scattercarpet": [
           {
            "marker": {
             "colorbar": {
              "outlinewidth": 1,
              "tickcolor": "rgb(36,36,36)",
              "ticks": "outside"
             }
            },
            "type": "scattercarpet"
           }
          ],
          "scattergeo": [
           {
            "marker": {
             "colorbar": {
              "outlinewidth": 1,
              "tickcolor": "rgb(36,36,36)",
              "ticks": "outside"
             }
            },
            "type": "scattergeo"
           }
          ],
          "scattergl": [
           {
            "marker": {
             "colorbar": {
              "outlinewidth": 1,
              "tickcolor": "rgb(36,36,36)",
              "ticks": "outside"
             }
            },
            "type": "scattergl"
           }
          ],
          "scattermapbox": [
           {
            "marker": {
             "colorbar": {
              "outlinewidth": 1,
              "tickcolor": "rgb(36,36,36)",
              "ticks": "outside"
             }
            },
            "type": "scattermapbox"
           }
          ],
          "scatterpolar": [
           {
            "marker": {
             "colorbar": {
              "outlinewidth": 1,
              "tickcolor": "rgb(36,36,36)",
              "ticks": "outside"
             }
            },
            "type": "scatterpolar"
           }
          ],
          "scatterpolargl": [
           {
            "marker": {
             "colorbar": {
              "outlinewidth": 1,
              "tickcolor": "rgb(36,36,36)",
              "ticks": "outside"
             }
            },
            "type": "scatterpolargl"
           }
          ],
          "scatterternary": [
           {
            "marker": {
             "colorbar": {
              "outlinewidth": 1,
              "tickcolor": "rgb(36,36,36)",
              "ticks": "outside"
             }
            },
            "type": "scatterternary"
           }
          ],
          "surface": [
           {
            "colorbar": {
             "outlinewidth": 1,
             "tickcolor": "rgb(36,36,36)",
             "ticks": "outside"
            },
            "colorscale": [
             [
              0,
              "#440154"
             ],
             [
              0.1111111111111111,
              "#482878"
             ],
             [
              0.2222222222222222,
              "#3e4989"
             ],
             [
              0.3333333333333333,
              "#31688e"
             ],
             [
              0.4444444444444444,
              "#26828e"
             ],
             [
              0.5555555555555556,
              "#1f9e89"
             ],
             [
              0.6666666666666666,
              "#35b779"
             ],
             [
              0.7777777777777778,
              "#6ece58"
             ],
             [
              0.8888888888888888,
              "#b5de2b"
             ],
             [
              1,
              "#fde725"
             ]
            ],
            "type": "surface"
           }
          ],
          "table": [
           {
            "cells": {
             "fill": {
              "color": "rgb(237,237,237)"
             },
             "line": {
              "color": "white"
             }
            },
            "header": {
             "fill": {
              "color": "rgb(217,217,217)"
             },
             "line": {
              "color": "white"
             }
            },
            "type": "table"
           }
          ]
         },
         "layout": {
          "annotationdefaults": {
           "arrowhead": 0,
           "arrowwidth": 1
          },
          "autotypenumbers": "strict",
          "coloraxis": {
           "colorbar": {
            "outlinewidth": 1,
            "tickcolor": "rgb(36,36,36)",
            "ticks": "outside"
           }
          },
          "colorscale": {
           "diverging": [
            [
             0,
             "rgb(103,0,31)"
            ],
            [
             0.1,
             "rgb(178,24,43)"
            ],
            [
             0.2,
             "rgb(214,96,77)"
            ],
            [
             0.3,
             "rgb(244,165,130)"
            ],
            [
             0.4,
             "rgb(253,219,199)"
            ],
            [
             0.5,
             "rgb(247,247,247)"
            ],
            [
             0.6,
             "rgb(209,229,240)"
            ],
            [
             0.7,
             "rgb(146,197,222)"
            ],
            [
             0.8,
             "rgb(67,147,195)"
            ],
            [
             0.9,
             "rgb(33,102,172)"
            ],
            [
             1,
             "rgb(5,48,97)"
            ]
           ],
           "sequential": [
            [
             0,
             "#440154"
            ],
            [
             0.1111111111111111,
             "#482878"
            ],
            [
             0.2222222222222222,
             "#3e4989"
            ],
            [
             0.3333333333333333,
             "#31688e"
            ],
            [
             0.4444444444444444,
             "#26828e"
            ],
            [
             0.5555555555555556,
             "#1f9e89"
            ],
            [
             0.6666666666666666,
             "#35b779"
            ],
            [
             0.7777777777777778,
             "#6ece58"
            ],
            [
             0.8888888888888888,
             "#b5de2b"
            ],
            [
             1,
             "#fde725"
            ]
           ],
           "sequentialminus": [
            [
             0,
             "#440154"
            ],
            [
             0.1111111111111111,
             "#482878"
            ],
            [
             0.2222222222222222,
             "#3e4989"
            ],
            [
             0.3333333333333333,
             "#31688e"
            ],
            [
             0.4444444444444444,
             "#26828e"
            ],
            [
             0.5555555555555556,
             "#1f9e89"
            ],
            [
             0.6666666666666666,
             "#35b779"
            ],
            [
             0.7777777777777778,
             "#6ece58"
            ],
            [
             0.8888888888888888,
             "#b5de2b"
            ],
            [
             1,
             "#fde725"
            ]
           ]
          },
          "colorway": [
           "#1F77B4",
           "#FF7F0E",
           "#2CA02C",
           "#D62728",
           "#9467BD",
           "#8C564B",
           "#E377C2",
           "#7F7F7F",
           "#BCBD22",
           "#17BECF"
          ],
          "font": {
           "color": "rgb(36,36,36)"
          },
          "geo": {
           "bgcolor": "white",
           "lakecolor": "white",
           "landcolor": "white",
           "showlakes": true,
           "showland": true,
           "subunitcolor": "white"
          },
          "hoverlabel": {
           "align": "left"
          },
          "hovermode": "closest",
          "mapbox": {
           "style": "light"
          },
          "paper_bgcolor": "white",
          "plot_bgcolor": "white",
          "polar": {
           "angularaxis": {
            "gridcolor": "rgb(232,232,232)",
            "linecolor": "rgb(36,36,36)",
            "showgrid": false,
            "showline": true,
            "ticks": "outside"
           },
           "bgcolor": "white",
           "radialaxis": {
            "gridcolor": "rgb(232,232,232)",
            "linecolor": "rgb(36,36,36)",
            "showgrid": false,
            "showline": true,
            "ticks": "outside"
           }
          },
          "scene": {
           "xaxis": {
            "backgroundcolor": "white",
            "gridcolor": "rgb(232,232,232)",
            "gridwidth": 2,
            "linecolor": "rgb(36,36,36)",
            "showbackground": true,
            "showgrid": false,
            "showline": true,
            "ticks": "outside",
            "zeroline": false,
            "zerolinecolor": "rgb(36,36,36)"
           },
           "yaxis": {
            "backgroundcolor": "white",
            "gridcolor": "rgb(232,232,232)",
            "gridwidth": 2,
            "linecolor": "rgb(36,36,36)",
            "showbackground": true,
            "showgrid": false,
            "showline": true,
            "ticks": "outside",
            "zeroline": false,
            "zerolinecolor": "rgb(36,36,36)"
           },
           "zaxis": {
            "backgroundcolor": "white",
            "gridcolor": "rgb(232,232,232)",
            "gridwidth": 2,
            "linecolor": "rgb(36,36,36)",
            "showbackground": true,
            "showgrid": false,
            "showline": true,
            "ticks": "outside",
            "zeroline": false,
            "zerolinecolor": "rgb(36,36,36)"
           }
          },
          "shapedefaults": {
           "fillcolor": "black",
           "line": {
            "width": 0
           },
           "opacity": 0.3
          },
          "ternary": {
           "aaxis": {
            "gridcolor": "rgb(232,232,232)",
            "linecolor": "rgb(36,36,36)",
            "showgrid": false,
            "showline": true,
            "ticks": "outside"
           },
           "baxis": {
            "gridcolor": "rgb(232,232,232)",
            "linecolor": "rgb(36,36,36)",
            "showgrid": false,
            "showline": true,
            "ticks": "outside"
           },
           "bgcolor": "white",
           "caxis": {
            "gridcolor": "rgb(232,232,232)",
            "linecolor": "rgb(36,36,36)",
            "showgrid": false,
            "showline": true,
            "ticks": "outside"
           }
          },
          "title": {
           "x": 0.05
          },
          "xaxis": {
           "automargin": true,
           "gridcolor": "rgb(232,232,232)",
           "linecolor": "rgb(36,36,36)",
           "showgrid": false,
           "showline": true,
           "ticks": "outside",
           "title": {
            "standoff": 15
           },
           "zeroline": false,
           "zerolinecolor": "rgb(36,36,36)"
          },
          "yaxis": {
           "automargin": true,
           "gridcolor": "rgb(232,232,232)",
           "linecolor": "rgb(36,36,36)",
           "showgrid": false,
           "showline": true,
           "ticks": "outside",
           "title": {
            "standoff": 15
           },
           "zeroline": false,
           "zerolinecolor": "rgb(36,36,36)"
          }
         }
        },
        "title": {
         "text": "Continous Variable Distribution"
        },
        "xaxis": {
         "anchor": "y",
         "domain": [
          0,
          0.45
         ]
        },
        "xaxis2": {
         "anchor": "y2",
         "domain": [
          0.55,
          1
         ]
        },
        "xaxis3": {
         "anchor": "y3",
         "domain": [
          0,
          0.45
         ]
        },
        "xaxis4": {
         "anchor": "y4",
         "domain": [
          0.55,
          1
         ]
        },
        "yaxis": {
         "anchor": "x",
         "domain": [
          0.575,
          1
         ]
        },
        "yaxis2": {
         "anchor": "x2",
         "domain": [
          0.575,
          1
         ]
        },
        "yaxis3": {
         "anchor": "x3",
         "domain": [
          0,
          0.425
         ]
        },
        "yaxis4": {
         "anchor": "x4",
         "domain": [
          0,
          0.425
         ]
        }
       }
      },
      "text/html": [
       "<div>                            <div id=\"c38bae9f-20a7-4975-9971-5319a27ede72\" class=\"plotly-graph-div\" style=\"height:600px; width:100%;\"></div>            <script type=\"text/javascript\">                require([\"plotly\"], function(Plotly) {                    window.PLOTLYENV=window.PLOTLYENV || {};                                    if (document.getElementById(\"c38bae9f-20a7-4975-9971-5319a27ede72\")) {                    Plotly.newPlot(                        \"c38bae9f-20a7-4975-9971-5319a27ede72\",                        [{\"marker\":{\"color\":\"darkgreen\",\"line\":{\"color\":\"black\",\"width\":1.5}},\"name\":\"Age Histogram\",\"x\":[67,22,49,45,53,35,53,35,61,28,25,24,22,60,28,32,53,25,44,31,48,44,48,44,26,36,39,42,34,63,36,27,30,57,33,25,31,37,37,24,30,26,44,24,58,35,39,23,39,28,29,30,25,31,57,26,52,31,23,23,27,50,61,25,26,48,29,22,37,25,30,46,51,41,40,66,34,51,39,22,44,47,24,58,52,29,27,47,30,28,56,54,33,20,54,58,61,34,36,36,41,24,24,35,26,39,39,32,30,35,31,23,28,25,35,47,30,27,23,36,25,41,24,63,27,30,40,30,34,29,24,29,27,47,21,38,27,66,35,44,27,30,27,22,23,30,39,51,28,46,42,38,24,29,36,20,48,45,38,34,36,30,36,70,36,32,33,20,25,31,33,26,34,33,26,53,42,52,31,65,28,30,40,50,36,31,74,68,20,33,54,34,36,29,21,34,28,27,36,40,52,27,26,21,38,38,43,26,21,55,33,45,50,66,51,39,31,23,24,64,26,23,30,32,30,27,27,53,22,22,26,51,35,25,42,30,23,61,35,39,29,51,24,27,35,25,52,35,26,22,39,46,24,35,24,27,35,29,23,57,27,55,36,57,32,37,36,38,45,25,32,37,36,28,34,32,26,49,32,29,23,50,49,63,37,35,26,31,49,48,26,28,44,56,46,26,20,45,43,32,54,42,37,49,44,33,24,33,24,22,40,25,26,25,29,31,38,48,32,27,28,32,34,28,36,39,49,34,31,28,75,30,24,24,23,44,23,24,28,31,24,26,25,33,37,43,23,23,34,32,23,29,38,28,46,23,49,26,28,23,61,37,36,21,25,36,27,22,42,40,36,33,23,63,60,37,34,36,57,52,39,38,25,26,26,25,21,40,27,27,30,19,39,31,31,32,55,46,46,43,39,28,27,27,43,22,43,27,26,28,20,35,42,40,35,35,33,23,31,33,20,30,47,34,25,21,29,46,20,55,74,29,36,33,25,25,23,37,65,26,39,30,29,41,30,41,34,35,55,61,30,29,34,35,31,29,36,35,27,32,37,36,34,38,34,63,29,32,26,35,22,23,28,36,33,26,24,25,39,44,23,26,57,30,44,47,52,62,35,26,26,42,27,38,39,20,29,40,32,28,27,42,49,38,24,27,36,34,28,45,26,32,26,20,54,37,40,23,43,36,44,24,53,23,26,30,31,42,31,41,32,28,41,26,25,33,75,37,42,45,23,60,31,34,61,43,37,32,24,35,23,45,34,27,67,22,28,29,27,31,49,24,29,37,37,23,36,34,41,31,23,38,26,22,27,24,27,33,27,27,30,49,26,33,52,20,36,21,47,60,58,42,36,20,40,32,23,36,31,32,45,30,34,28,23,22,74,50,33,45,22,48,29,22,22,48,27,37,21,49,27,32,38,22,65,35,41,29,36,64,28,44,23,19,25,47,28,21,34,26,27,38,40,33,32,27,32,26,38,40,50,37,45,42,35,22,41,37,28,41,23,23,50,35,50,27,34,27,43,47,27,31,42,24,41,26,33,24,64,26,56,37,33,47,31,34,27,30,35,31,25,25,29,44,28,50,29,38,24,40,29,46,47,41,32,35,24,25,25,37,32,35,46,25,27,63,40,32,31,31,34,24,24,66,21,41,47,25,59,36,33,21,44,28,37,29,23,35,45,26,32,23,41,22,30,28,23,37,26,33,49,23,23,25,55,32,74,39,31,35,59,24,24,30,27,40,31,31,28,63,26,25,36,52,66,25,37,25,38,67,25,60,31,23,60,35,40,38,50,27,39,41,27,51,32,22,51,22,54,35,54,48,24,35,24,24,26,65,55,26,26,28,24,54,46,54,62,24,43,26,27,24,41,47,35,30,33,36,47,38,44,23,29,42,25,48,21,23,63,46,29,28,23,50,47,35,68,28,59,57,33,43,35,32,45,33,40,28,29,26,27,28,35,32,25,20,27,42,37,24,40,46,26,24,29,40,36,28,27,36,38,48,36,65,43,53,34,23,34,40,43,46,38,34,29,31,28,35,33,42,43,44,42,40,36,20,24,27,46,33,34,25,25,28,31,32,32,68,33,39,28,37,22,30,55,46,21,39,58,43,24,22,30,42,23,30,28,30,42,46,45,31,31,42,46,30,30,38,43,31,40,24,28,26,29,57,49,37,45,30,30,47,29,35,22,26,23,54,29,40,22,43,29,36,33,57,64,42,47,25,49,33,28,26,30,25,33,64,29,48,37,34,23,30,50,31,40,38,23,27,63,66,43,44,65,73,60,62,58,43,64,37,46,57,51,32,64,68,55,73,34,44,58,65,56,42,65,72,45,68,60,30,63,57,46,70,65,63,54,49,64,61,57,42,62,41,51,38,56,43,48,61,48,68,62,56,53,33,60,47,25,64,73,66,76,60,57,30,43,57,51,61,64,41,43,67,71,59,60,60,45,63,38,46,55,50,30,63,67,54,71,32,45,65,62,28,65,57,48,71,38,40,49,32,45,40,66,38,20,48,46,32,54,24,27,57,38,40,20,36,47,64,42,44,30,37,42,62,49,52,36,49,42,38,50,34,43,40,56,41,30,28,64,67,37,31,32,52,31,36,32,51,47,34,46,42,39,50,42,36,18,35,38,39,24,41,36,37,45,41,36,38,38,53,35,48,36,22,35,42,39,31,33,31,42,61,38,33,48,31,52,27,40,34,26,30,53,45,32,35,26,30,37,32,40,44,43,51,37,33,32,35,30,35,40,37,37,37,53,34,51,26,34,51,33,32,39,53,34,37,28,25,36,36,35,21,29,60,45,56,30,52,26,43,34,22,42,38,29,44,29,44,38,26,53,43,33,52,26,38,47,26,36,36,57,31,45,40,21,46,35,31,51,21,48,48,68,45,35,22,44,52,48,33,35,64,58,24,40,49,31,46,46,49,29,37,33,71,35,40,27,61,29,33,56,27,22,19,28,24,27,30,26,26,23,28,67,27,32,24,28,48,32,25,57,28,24,25,31,33,50,58,27,48,22,40,32,25,27,27,23,32,25,46,21,29,31,26,23,38,35,27,22,52,19,23,42,27,39,50,36,25,27,30,22,27,31,29,34,33,26,36,26,39,44,46,31,26,22,48,27,30,27,36,31,21,26,24,29,32,45,58,25,67,53,24,20,71,31,27,36,25,41,30,32,29,27,32,25,24,63,42,22,46,24,30,44,25,27,27,34,18,25,21,26,27,25,30,66,25,43,35,70,35,26,29,22,26,36,35,28,24,34,25,54,46,42,45,48,21,31,35,36,32,26,34,65,50,39,52,36,29,36,36,27,36,26,57,27,58,27,49,43,45,27,34,21,54,43,25,57,26,30,58,25,23,22,21,20,22,27,24,23,26,28,64,26,31,28,25,49,33,27,59,28,24,26,33,37,46,62,26,49,25,37,31,25,21,27,29,30,26,40,23,31,29,22,26,39,35,26,28,56,22,26,41,29,42,50,33,28,27,27,28,24,28,32,32,30,29,37,24,36,40,51,33,31,29,48,25,28,23,32,34,23,25,25,27,29,46,61,25,67,49,21,19,67,31,27,37,27,36,24,31,29,28,34,26,21,63,38,20,44,31,33,49,26,28,30,36,27,23,31,27,25,23,27,38,44,42,25,40,24,39,24,50,28,36,36,40,31,27,35,51,26,33,27,38,30,28,23,23,26,21,36,24,41,42,27,40,34,40,33,49,28,26,40,47,41,29,37,31,35,35,29,37,37,26,28,23,38,30,45,24,35,41,30,30,26,25,23,27,26,25,27,42,35,25,26,38,28,33,40,23,25,28,41,50,23,26,22,37,38,22,30,38,36,41,29,31,31,21,32,35,29,34,38,33,28,28,21,29,26,40,25,20,23,27,36,25,25,34,24,36,40,39,42,35,27,27,23,32,28,22,31,22,23,35,26,28,54,49,38,47,49,30,32,24,25,33,34,24,36,41,33,26,36,35,29,26,31,26,47,20,45,36,31,41,31,27,32,43,32,29,37,35,23,40,26,28,40,26,23,26,26,49,26,35,24,46,26,47,27,41,29,28,33,50,32,31,52,53,34,22,33,32,45,25,41,36,27,40,37,35,34,28,44,27,50,18,25,40,28,23,35,28,23,34,29,35,32,46,27,25,27,24,33,24,28,35,30,43,21,24,34,26,37,32,33,28,30,26,25,33,30,26,23,25,40,46,43,22,39,27,40,24,52,30,34,38,39,29,25,35,53,26,33,29,39,29,26,24,21,26,20,35,24,40,44,29,39,35,42,32,48,26,26,42,48,42,27,37,33,33,37,31,39,40,28,26,24,40,29,43,23,34,42,33,32,26,23,26,27,24,27,26,42,37,26,24,39,26,35,38,24,26,25,40,48,22,25,24,39,39,21,27,40,37,42,31,31,30,23,33,37,29,31,39,33,26,27,20,27,26,40,24,22,24,27,35,27,25,34,24,34,42,38,42,35,27,25,23,34,28,21,32,21,25,35,25,31,54,51,38,45,47,27,31,24,25],\"type\":\"histogram\",\"xaxis\":\"x\",\"yaxis\":\"y\",\"opacity\":0.8},{\"marker\":{\"color\":\"darkgreen\",\"line\":{\"color\":\"black\",\"width\":1.5}},\"name\":\"Age Box\",\"x\":[67,22,49,45,53,35,53,35,61,28,25,24,22,60,28,32,53,25,44,31,48,44,48,44,26,36,39,42,34,63,36,27,30,57,33,25,31,37,37,24,30,26,44,24,58,35,39,23,39,28,29,30,25,31,57,26,52,31,23,23,27,50,61,25,26,48,29,22,37,25,30,46,51,41,40,66,34,51,39,22,44,47,24,58,52,29,27,47,30,28,56,54,33,20,54,58,61,34,36,36,41,24,24,35,26,39,39,32,30,35,31,23,28,25,35,47,30,27,23,36,25,41,24,63,27,30,40,30,34,29,24,29,27,47,21,38,27,66,35,44,27,30,27,22,23,30,39,51,28,46,42,38,24,29,36,20,48,45,38,34,36,30,36,70,36,32,33,20,25,31,33,26,34,33,26,53,42,52,31,65,28,30,40,50,36,31,74,68,20,33,54,34,36,29,21,34,28,27,36,40,52,27,26,21,38,38,43,26,21,55,33,45,50,66,51,39,31,23,24,64,26,23,30,32,30,27,27,53,22,22,26,51,35,25,42,30,23,61,35,39,29,51,24,27,35,25,52,35,26,22,39,46,24,35,24,27,35,29,23,57,27,55,36,57,32,37,36,38,45,25,32,37,36,28,34,32,26,49,32,29,23,50,49,63,37,35,26,31,49,48,26,28,44,56,46,26,20,45,43,32,54,42,37,49,44,33,24,33,24,22,40,25,26,25,29,31,38,48,32,27,28,32,34,28,36,39,49,34,31,28,75,30,24,24,23,44,23,24,28,31,24,26,25,33,37,43,23,23,34,32,23,29,38,28,46,23,49,26,28,23,61,37,36,21,25,36,27,22,42,40,36,33,23,63,60,37,34,36,57,52,39,38,25,26,26,25,21,40,27,27,30,19,39,31,31,32,55,46,46,43,39,28,27,27,43,22,43,27,26,28,20,35,42,40,35,35,33,23,31,33,20,30,47,34,25,21,29,46,20,55,74,29,36,33,25,25,23,37,65,26,39,30,29,41,30,41,34,35,55,61,30,29,34,35,31,29,36,35,27,32,37,36,34,38,34,63,29,32,26,35,22,23,28,36,33,26,24,25,39,44,23,26,57,30,44,47,52,62,35,26,26,42,27,38,39,20,29,40,32,28,27,42,49,38,24,27,36,34,28,45,26,32,26,20,54,37,40,23,43,36,44,24,53,23,26,30,31,42,31,41,32,28,41,26,25,33,75,37,42,45,23,60,31,34,61,43,37,32,24,35,23,45,34,27,67,22,28,29,27,31,49,24,29,37,37,23,36,34,41,31,23,38,26,22,27,24,27,33,27,27,30,49,26,33,52,20,36,21,47,60,58,42,36,20,40,32,23,36,31,32,45,30,34,28,23,22,74,50,33,45,22,48,29,22,22,48,27,37,21,49,27,32,38,22,65,35,41,29,36,64,28,44,23,19,25,47,28,21,34,26,27,38,40,33,32,27,32,26,38,40,50,37,45,42,35,22,41,37,28,41,23,23,50,35,50,27,34,27,43,47,27,31,42,24,41,26,33,24,64,26,56,37,33,47,31,34,27,30,35,31,25,25,29,44,28,50,29,38,24,40,29,46,47,41,32,35,24,25,25,37,32,35,46,25,27,63,40,32,31,31,34,24,24,66,21,41,47,25,59,36,33,21,44,28,37,29,23,35,45,26,32,23,41,22,30,28,23,37,26,33,49,23,23,25,55,32,74,39,31,35,59,24,24,30,27,40,31,31,28,63,26,25,36,52,66,25,37,25,38,67,25,60,31,23,60,35,40,38,50,27,39,41,27,51,32,22,51,22,54,35,54,48,24,35,24,24,26,65,55,26,26,28,24,54,46,54,62,24,43,26,27,24,41,47,35,30,33,36,47,38,44,23,29,42,25,48,21,23,63,46,29,28,23,50,47,35,68,28,59,57,33,43,35,32,45,33,40,28,29,26,27,28,35,32,25,20,27,42,37,24,40,46,26,24,29,40,36,28,27,36,38,48,36,65,43,53,34,23,34,40,43,46,38,34,29,31,28,35,33,42,43,44,42,40,36,20,24,27,46,33,34,25,25,28,31,32,32,68,33,39,28,37,22,30,55,46,21,39,58,43,24,22,30,42,23,30,28,30,42,46,45,31,31,42,46,30,30,38,43,31,40,24,28,26,29,57,49,37,45,30,30,47,29,35,22,26,23,54,29,40,22,43,29,36,33,57,64,42,47,25,49,33,28,26,30,25,33,64,29,48,37,34,23,30,50,31,40,38,23,27,63,66,43,44,65,73,60,62,58,43,64,37,46,57,51,32,64,68,55,73,34,44,58,65,56,42,65,72,45,68,60,30,63,57,46,70,65,63,54,49,64,61,57,42,62,41,51,38,56,43,48,61,48,68,62,56,53,33,60,47,25,64,73,66,76,60,57,30,43,57,51,61,64,41,43,67,71,59,60,60,45,63,38,46,55,50,30,63,67,54,71,32,45,65,62,28,65,57,48,71,38,40,49,32,45,40,66,38,20,48,46,32,54,24,27,57,38,40,20,36,47,64,42,44,30,37,42,62,49,52,36,49,42,38,50,34,43,40,56,41,30,28,64,67,37,31,32,52,31,36,32,51,47,34,46,42,39,50,42,36,18,35,38,39,24,41,36,37,45,41,36,38,38,53,35,48,36,22,35,42,39,31,33,31,42,61,38,33,48,31,52,27,40,34,26,30,53,45,32,35,26,30,37,32,40,44,43,51,37,33,32,35,30,35,40,37,37,37,53,34,51,26,34,51,33,32,39,53,34,37,28,25,36,36,35,21,29,60,45,56,30,52,26,43,34,22,42,38,29,44,29,44,38,26,53,43,33,52,26,38,47,26,36,36,57,31,45,40,21,46,35,31,51,21,48,48,68,45,35,22,44,52,48,33,35,64,58,24,40,49,31,46,46,49,29,37,33,71,35,40,27,61,29,33,56,27,22,19,28,24,27,30,26,26,23,28,67,27,32,24,28,48,32,25,57,28,24,25,31,33,50,58,27,48,22,40,32,25,27,27,23,32,25,46,21,29,31,26,23,38,35,27,22,52,19,23,42,27,39,50,36,25,27,30,22,27,31,29,34,33,26,36,26,39,44,46,31,26,22,48,27,30,27,36,31,21,26,24,29,32,45,58,25,67,53,24,20,71,31,27,36,25,41,30,32,29,27,32,25,24,63,42,22,46,24,30,44,25,27,27,34,18,25,21,26,27,25,30,66,25,43,35,70,35,26,29,22,26,36,35,28,24,34,25,54,46,42,45,48,21,31,35,36,32,26,34,65,50,39,52,36,29,36,36,27,36,26,57,27,58,27,49,43,45,27,34,21,54,43,25,57,26,30,58,25,23,22,21,20,22,27,24,23,26,28,64,26,31,28,25,49,33,27,59,28,24,26,33,37,46,62,26,49,25,37,31,25,21,27,29,30,26,40,23,31,29,22,26,39,35,26,28,56,22,26,41,29,42,50,33,28,27,27,28,24,28,32,32,30,29,37,24,36,40,51,33,31,29,48,25,28,23,32,34,23,25,25,27,29,46,61,25,67,49,21,19,67,31,27,37,27,36,24,31,29,28,34,26,21,63,38,20,44,31,33,49,26,28,30,36,27,23,31,27,25,23,27,38,44,42,25,40,24,39,24,50,28,36,36,40,31,27,35,51,26,33,27,38,30,28,23,23,26,21,36,24,41,42,27,40,34,40,33,49,28,26,40,47,41,29,37,31,35,35,29,37,37,26,28,23,38,30,45,24,35,41,30,30,26,25,23,27,26,25,27,42,35,25,26,38,28,33,40,23,25,28,41,50,23,26,22,37,38,22,30,38,36,41,29,31,31,21,32,35,29,34,38,33,28,28,21,29,26,40,25,20,23,27,36,25,25,34,24,36,40,39,42,35,27,27,23,32,28,22,31,22,23,35,26,28,54,49,38,47,49,30,32,24,25,33,34,24,36,41,33,26,36,35,29,26,31,26,47,20,45,36,31,41,31,27,32,43,32,29,37,35,23,40,26,28,40,26,23,26,26,49,26,35,24,46,26,47,27,41,29,28,33,50,32,31,52,53,34,22,33,32,45,25,41,36,27,40,37,35,34,28,44,27,50,18,25,40,28,23,35,28,23,34,29,35,32,46,27,25,27,24,33,24,28,35,30,43,21,24,34,26,37,32,33,28,30,26,25,33,30,26,23,25,40,46,43,22,39,27,40,24,52,30,34,38,39,29,25,35,53,26,33,29,39,29,26,24,21,26,20,35,24,40,44,29,39,35,42,32,48,26,26,42,48,42,27,37,33,33,37,31,39,40,28,26,24,40,29,43,23,34,42,33,32,26,23,26,27,24,27,26,42,37,26,24,39,26,35,38,24,26,25,40,48,22,25,24,39,39,21,27,40,37,42,31,31,30,23,33,37,29,31,39,33,26,27,20,27,26,40,24,22,24,27,35,27,25,34,24,34,42,38,42,35,27,25,23,34,28,21,32,21,25,35,25,31,54,51,38,45,47,27,31,24,25],\"type\":\"box\",\"xaxis\":\"x2\",\"yaxis\":\"y2\",\"opacity\":0.8},{\"marker\":{\"color\":\"darkgreen\",\"line\":{\"color\":\"black\",\"width\":1.5}},\"name\":\"Income Histogram\",\"x\":[124670,150773,89210,171565,149031,144848,156495,193621,151591,174646,108469,127596,108687,89374,102899,88428,125550,157434,261952,144657,118777,147511,89804,134918,103667,71909,68264,163025,119307,175882,159646,120131,162745,87605,155569,104505,143385,127676,119276,92542,163329,130921,133658,155104,142335,138387,140182,65421,130500,122831,84531,180196,92058,117158,135830,58258,202575,183657,152267,115240,106955,123641,166410,227385,118372,148115,111069,139780,106978,110019,169102,73703,141858,135959,140888,157299,125187,155486,151697,126400,159246,136138,84792,100210,93706,133783,110064,241068,149022,92973,110605,116604,71070,128678,165230,268340,135070,134794,120153,195465,93372,110446,95186,115343,107276,244716,183108,152876,165147,140520,124203,107205,121432,162445,134112,131842,189896,109099,153539,180495,104653,166933,66118,135754,116103,104293,71702,99066,143979,123818,176714,149249,77535,116540,194728,109311,204723,126003,123109,108251,89908,176057,144332,101185,107406,140665,106461,127825,133898,152383,119926,108784,153286,214204,208101,95355,124156,72215,146529,75343,129789,101153,127833,224998,124445,141116,104276,147687,125168,115369,95445,95159,153031,108899,113515,211229,121307,131727,133574,117334,177291,168763,77720,176645,106205,97785,214364,74525,98988,133561,217651,116525,135302,106434,128350,147626,102697,120262,124214,175223,137467,65815,129864,88475,74666,222294,112878,103411,112868,157940,115835,109807,150699,178967,132767,86152,114528,133912,81210,131242,68804,96961,90719,114116,128639,106623,236264,207783,91739,107780,139157,121751,121974,70320,78327,131433,167076,130788,107408,115323,99012,115996,123353,100008,125105,92020,108365,112979,117221,88800,115099,113399,115879,141270,107633,131751,83687,106828,135537,107142,97446,126357,169617,108945,67345,106215,149237,112124,215150,89534,111082,137069,244541,120712,175367,111418,110913,84267,136886,144884,151180,114997,100961,124849,152308,167945,126706,210017,125665,111184,94134,214620,193816,168714,202997,192451,127928,78253,118446,161379,56622,146117,90418,109053,219319,144701,102425,79867,107114,62263,92567,146349,141825,68582,85476,111091,67110,126154,92257,93605,165190,107195,145059,148363,105681,93732,154778,149356,145670,101589,213333,122420,209856,181003,117804,160650,84611,98479,122359,81394,150372,92385,149851,167939,115426,85402,95815,97518,87355,145933,97307,108434,151312,141847,130675,69309,121466,153586,92849,108539,129556,170146,135383,96769,43684,103521,118499,119684,126586,136812,118277,144597,106043,272314,309364,170386,112458,96840,281923,95551,112347,260977,99354,111509,105252,108522,94655,201699,139868,102543,134467,111187,152302,110610,137827,220923,165717,122299,120499,126449,108315,112515,164559,59238,131133,109188,115393,94711,171860,139414,110931,187549,145508,104240,108272,144004,81083,166763,175530,112422,154134,112401,85690,145896,122552,115494,109467,148226,88559,62393,122133,230883,136689,109145,100449,106253,84747,149465,84435,51681,139198,106577,117372,69609,178947,81743,111900,121650,172639,175740,220050,95200,113609,143552,130973,145946,126206,120426,91925,129630,124268,105240,162180,106552,105843,138327,76154,155012,114369,102839,132796,89742,58615,130603,110340,117729,130808,147402,93567,109289,98742,101270,187835,140741,133265,148100,131021,152620,85033,114514,99307,219451,114007,102846,81483,107779,222360,107125,80080,129600,118613,146237,144461,124487,97826,64105,156374,205383,98964,221842,88027,160513,124536,93634,124725,102456,74975,153861,119351,95438,147967,116863,170622,132426,77519,169405,120030,77933,109892,69062,116348,137188,110199,109890,109751,129651,170113,140285,198029,120262,105137,127371,145689,102617,90709,107099,116021,100426,62249,172957,95003,109698,157376,123191,171052,99328,133799,138256,115638,82238,127543,63987,114784,217450,173751,122850,104953,152371,139905,156700,86488,147472,169991,62381,70926,113004,125760,111918,120674,63597,103069,108079,101159,88211,159052,102623,115589,59127,82240,129425,87058,128462,121403,88141,134946,94058,99285,108432,111369,122612,134350,108838,90852,151580,115681,131699,192481,155122,106015,108378,105257,118788,162955,119511,102000,254449,208446,124805,139379,78296,125598,100215,130951,102480,136812,106919,131020,119429,154521,117842,124566,110009,101210,101258,79045,110866,129640,227021,108549,122693,35832,81870,179790,107158,136638,158147,132587,128140,117405,68475,201656,86967,118006,223630,110442,115691,80232,187647,138952,162772,111862,90051,121400,137000,105031,172153,170184,123279,140795,144456,104773,153353,223018,129177,114475,161323,135765,158421,103941,101783,126531,111394,103577,149545,171857,149782,112470,133907,127849,160279,92366,104794,133436,110374,104263,138752,102723,46297,96425,158197,98008,157473,149306,139236,125890,173124,164621,124539,107614,88849,148566,106515,150465,60868,255198,183178,121448,129975,132950,169314,147958,139896,68028,133328,108518,112700,110190,105104,184753,162521,156794,65827,88490,154919,129058,77532,235417,113468,190803,121423,121347,67408,123043,128387,250050,69588,109547,78840,131122,115403,110291,64811,86015,142438,159303,104957,89502,121313,98102,94554,162591,106629,70400,235660,121747,85060,87630,119673,126060,96145,114830,194461,150158,136323,111858,100198,123452,120723,215639,166712,136300,166988,77265,85967,212020,126054,144589,116723,168637,139119,118610,183312,96323,149510,141922,120233,172790,66720,113024,51791,118408,101616,127250,97290,106970,168147,68468,120780,231992,53903,101511,69046,171584,132367,134433,190518,152367,101157,279593,96716,95171,129162,118742,74511,157272,102374,131492,128702,177509,163451,144900,97115,196568,158405,97376,108678,92351,61211,138644,124824,132852,81069,104094,114853,130344,135090,179151,97390,120160,82277,110844,133105,102042,69370,200298,117039,107585,114429,128234,128580,177757,106222,118428,139477,71159,131370,111567,125482,160642,92498,199711,127588,107508,94629,87598,161194,137342,116848,125190,153441,195328,190413,118656,69487,145313,117005,123243,237799,180617,167019,147745,114254,81155,151803,94356,200621,144448,150797,84404,133373,119502,131619,194084,108278,130987,116582,85270,129227,108291,103091,136975,111502,124750,146463,115075,308491,126368,287247,125535,153223,106873,268906,97757,112151,172909,103387,93916,189963,124191,77205,65917,109676,95682,125516,99822,154854,84582,145800,162869,192379,159757,69571,93648,77472,121501,207262,143082,147760,82082,132991,78436,99737,164915,223185,108400,194882,122186,79594,104355,135894,103699,132145,117272,137932,63972,113299,108540,174424,154991,99723,114584,135275,41680,158769,120596,139641,134377,125804,91858,117641,188594,162827,178991,159739,73401,100794,167763,145174,176292,94024,93740,85685,69997,151938,122830,78489,161999,98032,96060,147968,134853,157576,203738,280570,69487,214126,136671,174337,126710,167139,122094,170113,192698,144197,133623,171052,130492,135705,171804,192167,134377,146716,267872,142193,183765,218664,145174,224961,262634,287106,166298,133328,129798,281084,160678,167532,178591,273063,149410,124658,153645,308529,155062,199654,124723,127752,157595,135534,166264,147259,161116,139380,213768,125903,163940,173378,126847,166712,189166,161714,214364,184680,214732,152527,170366,194532,125883,131242,159880,165519,149653,134102,159378,205476,280566,71823,211572,136123,176372,128271,169020,122267,169324,192561,145781,135376,169002,128469,135567,170644,192360,133235,260847,285647,164816,130148,129838,281647,157305,163654,82398,107710,122346,155540,127572,154031,164931,123003,89605,117721,168904,137576,111274,94249,180940,125032,138011,144850,107270,113405,137338,125119,159745,181262,90500,102733,135493,169044,178549,159716,170118,143886,130164,114476,126143,129654,123202,160524,126906,143994,123517,129055,136312,112486,152401,157453,142870,137231,104406,145385,146519,126227,112227,110145,149419,176646,91019,169579,142305,130602,98992,181926,152864,135837,121757,182274,149040,154196,135332,134200,177171,115964,136871,159559,113878,171203,102180,116844,139844,156431,116137,143081,155870,106924,102133,145227,159500,98498,159714,121852,141271,123213,143723,112538,97932,154003,177179,128052,114617,182822,177215,110929,111821,97306,157231,126906,133243,112250,104349,151421,178081,110181,113012,154585,144704,141632,105055,124597,160164,151754,155551,94986,175800,126246,116261,117796,115363,169076,97474,140341,114503,102937,151781,123133,118879,158683,107514,193879,135043,108559,121038,151947,118820,121517,113572,131170,92430,124554,115988,107301,103767,141493,154339,112369,158193,143734,121890,127609,94650,175504,165495,120389,165340,119804,154344,106266,136129,151914,121473,127147,125387,139490,124990,101471,155708,142345,148675,116484,150237,100273,122292,159216,130082,139547,122895,154549,149315,118101,115831,118571,138906,98520,106576,121592,135605,114552,151339,170387,118288,109992,90654,113290,100093,109489,139427,123411,137925,99119,91084,110137,67041,127299,84555,123895,94324,96062,144843,107485,98573,107462,115809,118749,139112,94075,62002,127262,122846,61907,89287,103696,147603,139229,107932,116235,85974,124001,121428,93233,67965,88001,129112,109324,112785,136735,107779,103526,93171,106559,112728,102855,85381,100762,131445,123194,99519,112853,110509,106446,89665,128233,133615,115833,65560,118642,63635,122649,143321,99556,36760,71935,114977,147691,54296,80014,77887,98517,103012,121377,91359,104833,101209,58207,116708,107471,128495,124468,106922,104291,98204,127071,85115,104013,89863,135300,107861,123994,91270,133245,118594,40606,129304,113118,133131,106876,130870,125621,78923,123983,75184,109693,86273,113190,109274,143489,99570,139468,108627,106355,96952,141502,110420,97741,99583,63698,116688,131542,136055,100195,131001,104062,137689,137705,69915,68731,105726,78078,110835,115531,92723,107509,116763,100733,92652,106987,51882,104751,50947,126986,110223,100591,123257,137736,110221,99703,106667,143319,135557,93390,97577,124196,81136,119439,145231,85623,145373,135896,106470,113334,100560,108442,64472,120207,101680,92342,98611,97613,82298,125302,108725,85569,110372,100511,110455,141993,121789,138967,105230,90656,115445,59955,126268,80830,123625,102543,101948,142280,105434,106115,111057,117758,118396,136260,97192,62101,123497,120326,66645,83429,107539,153880,140178,100402,122158,89331,125359,124110,93526,70170,82357,126745,103326,116048,137115,105365,95911,88669,103776,108864,106037,84851,95748,133616,132752,95712,109063,113521,109380,82558,124777,133542,116492,68834,124023,63882,122492,141453,99327,45590,71167,111992,145140,49672,75536,86720,97729,106808,117971,97731,109196,94905,57480,109175,111174,127255,115499,109499,104696,104467,120157,81200,97558,95914,128053,101734,126009,91232,128343,110040,38247,129027,115026,130323,103181,138307,122564,82351,125351,82940,108029,82734,116816,113472,143343,104074,138525,106960,108323,95784,140673,104235,54041,107961,113757,94884,126041,64952,66764,67861,113516,46109,103651,75043,116473,96614,66447,119068,122973,81609,105519,86649,76384,67136,93155,124183,64860,87232,92304,84254,106696,113212,71076,114270,125538,92442,75297,65707,120387,120946,73265,77481,91282,104405,99646,97791,81878,107908,98608,95228,128163,94325,90815,120719,110159,124490,75161,127206,83660,87400,78942,88452,104128,100313,107387,84355,112723,115892,106597,121327,92559,87537,70569,85294,70905,103716,94947,80116,86492,88672,82984,128100,72869,112227,94674,101003,112924,108645,69415,112204,109700,104484,61239,119602,81014,68165,88652,75705,104189,71603,121914,106637,99800,67629,120354,122110,89170,109195,92392,43805,68389,112521,59255,98612,70649,95228,46865,101688,62618,102531,100737,107321,112879,125372,69419,124759,79076,84779,77393,113187,99100,64954,103244,124975,133582,103519,117813,119902,70783,125470,109782,78322,125517,102463,89309,110287,122391,116399,81907,97909,68051,82414,123089,66537,127926,78963,108694,100892,119560,116176,111854,69831,69375,71310,73913,95492,109329,116027,81987,83481,72361,106625,123707,79353,68347,115832,89946,86319,70963,106120,97856,61824,103907,99953,113413,107091,124783,92281,96219,86221,80962,78754,60026,88157,59881,112818,102250,38980,81807,93148,108032,89335,95639,124902,87801,92538,83687,128310,104754,68222,97006,107372,110511,72193,95972,105556,88701,117710,76057,100392,113308,100924,72188,70431,110103,60825,75100,129327,95541,112777,51496,102781,87494,72728,114775,124359,101620,87964,69523,109486,77206,53608,118677,116512,114756,65852,75626,127455,107073,82196,106741,94518,114430,57165,109610,113619,93854,129022,66804,62689,67619,113495,48632,107394,72385,115934,93183,63506,113619,121399,78281,103926,89097,80852,65207,93495,121970,62027,88602,89914,83342,103439,115451,68250,113630,125880,91177,73266,69021,122593,122180,75160,81973,92194,107380,98023,94868,83442,109887,98876,94962,130740,94095,95071,117308,112093,123893,80189,124089,82673,88858,80540,84228,103963,102397,111563,88260,114767,113275,104755,120525,96082,87227,69333,87777,70978,104196,97551,78979,82500,86306,78762,125543,70336,112975,96681,98922,109250,108960,71302,107757,111600,102974,63442,118913,80987,68790,86462,76881,107409,69114,119167,102018,97680,65062,118144,124548,85637,113108,93554,42516,72429,110154,60965,100618,71021,94189,44742,103201,62335,103787,99401,105197,115566,125843,67936,120863,77317,84653,81606,113380,100644,64037,101350,126334,130877,103470,114588,120682,66628,124447,106567,78758,128537,101074,87670,113414,123525,117744,86400,97968,68416],\"type\":\"histogram\",\"xaxis\":\"x3\",\"yaxis\":\"y3\",\"opacity\":0.8},{\"marker\":{\"color\":\"darkgreen\",\"line\":{\"color\":\"black\",\"width\":1.5}},\"name\":\"Income Histogram\",\"x\":[124670,150773,89210,171565,149031,144848,156495,193621,151591,174646,108469,127596,108687,89374,102899,88428,125550,157434,261952,144657,118777,147511,89804,134918,103667,71909,68264,163025,119307,175882,159646,120131,162745,87605,155569,104505,143385,127676,119276,92542,163329,130921,133658,155104,142335,138387,140182,65421,130500,122831,84531,180196,92058,117158,135830,58258,202575,183657,152267,115240,106955,123641,166410,227385,118372,148115,111069,139780,106978,110019,169102,73703,141858,135959,140888,157299,125187,155486,151697,126400,159246,136138,84792,100210,93706,133783,110064,241068,149022,92973,110605,116604,71070,128678,165230,268340,135070,134794,120153,195465,93372,110446,95186,115343,107276,244716,183108,152876,165147,140520,124203,107205,121432,162445,134112,131842,189896,109099,153539,180495,104653,166933,66118,135754,116103,104293,71702,99066,143979,123818,176714,149249,77535,116540,194728,109311,204723,126003,123109,108251,89908,176057,144332,101185,107406,140665,106461,127825,133898,152383,119926,108784,153286,214204,208101,95355,124156,72215,146529,75343,129789,101153,127833,224998,124445,141116,104276,147687,125168,115369,95445,95159,153031,108899,113515,211229,121307,131727,133574,117334,177291,168763,77720,176645,106205,97785,214364,74525,98988,133561,217651,116525,135302,106434,128350,147626,102697,120262,124214,175223,137467,65815,129864,88475,74666,222294,112878,103411,112868,157940,115835,109807,150699,178967,132767,86152,114528,133912,81210,131242,68804,96961,90719,114116,128639,106623,236264,207783,91739,107780,139157,121751,121974,70320,78327,131433,167076,130788,107408,115323,99012,115996,123353,100008,125105,92020,108365,112979,117221,88800,115099,113399,115879,141270,107633,131751,83687,106828,135537,107142,97446,126357,169617,108945,67345,106215,149237,112124,215150,89534,111082,137069,244541,120712,175367,111418,110913,84267,136886,144884,151180,114997,100961,124849,152308,167945,126706,210017,125665,111184,94134,214620,193816,168714,202997,192451,127928,78253,118446,161379,56622,146117,90418,109053,219319,144701,102425,79867,107114,62263,92567,146349,141825,68582,85476,111091,67110,126154,92257,93605,165190,107195,145059,148363,105681,93732,154778,149356,145670,101589,213333,122420,209856,181003,117804,160650,84611,98479,122359,81394,150372,92385,149851,167939,115426,85402,95815,97518,87355,145933,97307,108434,151312,141847,130675,69309,121466,153586,92849,108539,129556,170146,135383,96769,43684,103521,118499,119684,126586,136812,118277,144597,106043,272314,309364,170386,112458,96840,281923,95551,112347,260977,99354,111509,105252,108522,94655,201699,139868,102543,134467,111187,152302,110610,137827,220923,165717,122299,120499,126449,108315,112515,164559,59238,131133,109188,115393,94711,171860,139414,110931,187549,145508,104240,108272,144004,81083,166763,175530,112422,154134,112401,85690,145896,122552,115494,109467,148226,88559,62393,122133,230883,136689,109145,100449,106253,84747,149465,84435,51681,139198,106577,117372,69609,178947,81743,111900,121650,172639,175740,220050,95200,113609,143552,130973,145946,126206,120426,91925,129630,124268,105240,162180,106552,105843,138327,76154,155012,114369,102839,132796,89742,58615,130603,110340,117729,130808,147402,93567,109289,98742,101270,187835,140741,133265,148100,131021,152620,85033,114514,99307,219451,114007,102846,81483,107779,222360,107125,80080,129600,118613,146237,144461,124487,97826,64105,156374,205383,98964,221842,88027,160513,124536,93634,124725,102456,74975,153861,119351,95438,147967,116863,170622,132426,77519,169405,120030,77933,109892,69062,116348,137188,110199,109890,109751,129651,170113,140285,198029,120262,105137,127371,145689,102617,90709,107099,116021,100426,62249,172957,95003,109698,157376,123191,171052,99328,133799,138256,115638,82238,127543,63987,114784,217450,173751,122850,104953,152371,139905,156700,86488,147472,169991,62381,70926,113004,125760,111918,120674,63597,103069,108079,101159,88211,159052,102623,115589,59127,82240,129425,87058,128462,121403,88141,134946,94058,99285,108432,111369,122612,134350,108838,90852,151580,115681,131699,192481,155122,106015,108378,105257,118788,162955,119511,102000,254449,208446,124805,139379,78296,125598,100215,130951,102480,136812,106919,131020,119429,154521,117842,124566,110009,101210,101258,79045,110866,129640,227021,108549,122693,35832,81870,179790,107158,136638,158147,132587,128140,117405,68475,201656,86967,118006,223630,110442,115691,80232,187647,138952,162772,111862,90051,121400,137000,105031,172153,170184,123279,140795,144456,104773,153353,223018,129177,114475,161323,135765,158421,103941,101783,126531,111394,103577,149545,171857,149782,112470,133907,127849,160279,92366,104794,133436,110374,104263,138752,102723,46297,96425,158197,98008,157473,149306,139236,125890,173124,164621,124539,107614,88849,148566,106515,150465,60868,255198,183178,121448,129975,132950,169314,147958,139896,68028,133328,108518,112700,110190,105104,184753,162521,156794,65827,88490,154919,129058,77532,235417,113468,190803,121423,121347,67408,123043,128387,250050,69588,109547,78840,131122,115403,110291,64811,86015,142438,159303,104957,89502,121313,98102,94554,162591,106629,70400,235660,121747,85060,87630,119673,126060,96145,114830,194461,150158,136323,111858,100198,123452,120723,215639,166712,136300,166988,77265,85967,212020,126054,144589,116723,168637,139119,118610,183312,96323,149510,141922,120233,172790,66720,113024,51791,118408,101616,127250,97290,106970,168147,68468,120780,231992,53903,101511,69046,171584,132367,134433,190518,152367,101157,279593,96716,95171,129162,118742,74511,157272,102374,131492,128702,177509,163451,144900,97115,196568,158405,97376,108678,92351,61211,138644,124824,132852,81069,104094,114853,130344,135090,179151,97390,120160,82277,110844,133105,102042,69370,200298,117039,107585,114429,128234,128580,177757,106222,118428,139477,71159,131370,111567,125482,160642,92498,199711,127588,107508,94629,87598,161194,137342,116848,125190,153441,195328,190413,118656,69487,145313,117005,123243,237799,180617,167019,147745,114254,81155,151803,94356,200621,144448,150797,84404,133373,119502,131619,194084,108278,130987,116582,85270,129227,108291,103091,136975,111502,124750,146463,115075,308491,126368,287247,125535,153223,106873,268906,97757,112151,172909,103387,93916,189963,124191,77205,65917,109676,95682,125516,99822,154854,84582,145800,162869,192379,159757,69571,93648,77472,121501,207262,143082,147760,82082,132991,78436,99737,164915,223185,108400,194882,122186,79594,104355,135894,103699,132145,117272,137932,63972,113299,108540,174424,154991,99723,114584,135275,41680,158769,120596,139641,134377,125804,91858,117641,188594,162827,178991,159739,73401,100794,167763,145174,176292,94024,93740,85685,69997,151938,122830,78489,161999,98032,96060,147968,134853,157576,203738,280570,69487,214126,136671,174337,126710,167139,122094,170113,192698,144197,133623,171052,130492,135705,171804,192167,134377,146716,267872,142193,183765,218664,145174,224961,262634,287106,166298,133328,129798,281084,160678,167532,178591,273063,149410,124658,153645,308529,155062,199654,124723,127752,157595,135534,166264,147259,161116,139380,213768,125903,163940,173378,126847,166712,189166,161714,214364,184680,214732,152527,170366,194532,125883,131242,159880,165519,149653,134102,159378,205476,280566,71823,211572,136123,176372,128271,169020,122267,169324,192561,145781,135376,169002,128469,135567,170644,192360,133235,260847,285647,164816,130148,129838,281647,157305,163654,82398,107710,122346,155540,127572,154031,164931,123003,89605,117721,168904,137576,111274,94249,180940,125032,138011,144850,107270,113405,137338,125119,159745,181262,90500,102733,135493,169044,178549,159716,170118,143886,130164,114476,126143,129654,123202,160524,126906,143994,123517,129055,136312,112486,152401,157453,142870,137231,104406,145385,146519,126227,112227,110145,149419,176646,91019,169579,142305,130602,98992,181926,152864,135837,121757,182274,149040,154196,135332,134200,177171,115964,136871,159559,113878,171203,102180,116844,139844,156431,116137,143081,155870,106924,102133,145227,159500,98498,159714,121852,141271,123213,143723,112538,97932,154003,177179,128052,114617,182822,177215,110929,111821,97306,157231,126906,133243,112250,104349,151421,178081,110181,113012,154585,144704,141632,105055,124597,160164,151754,155551,94986,175800,126246,116261,117796,115363,169076,97474,140341,114503,102937,151781,123133,118879,158683,107514,193879,135043,108559,121038,151947,118820,121517,113572,131170,92430,124554,115988,107301,103767,141493,154339,112369,158193,143734,121890,127609,94650,175504,165495,120389,165340,119804,154344,106266,136129,151914,121473,127147,125387,139490,124990,101471,155708,142345,148675,116484,150237,100273,122292,159216,130082,139547,122895,154549,149315,118101,115831,118571,138906,98520,106576,121592,135605,114552,151339,170387,118288,109992,90654,113290,100093,109489,139427,123411,137925,99119,91084,110137,67041,127299,84555,123895,94324,96062,144843,107485,98573,107462,115809,118749,139112,94075,62002,127262,122846,61907,89287,103696,147603,139229,107932,116235,85974,124001,121428,93233,67965,88001,129112,109324,112785,136735,107779,103526,93171,106559,112728,102855,85381,100762,131445,123194,99519,112853,110509,106446,89665,128233,133615,115833,65560,118642,63635,122649,143321,99556,36760,71935,114977,147691,54296,80014,77887,98517,103012,121377,91359,104833,101209,58207,116708,107471,128495,124468,106922,104291,98204,127071,85115,104013,89863,135300,107861,123994,91270,133245,118594,40606,129304,113118,133131,106876,130870,125621,78923,123983,75184,109693,86273,113190,109274,143489,99570,139468,108627,106355,96952,141502,110420,97741,99583,63698,116688,131542,136055,100195,131001,104062,137689,137705,69915,68731,105726,78078,110835,115531,92723,107509,116763,100733,92652,106987,51882,104751,50947,126986,110223,100591,123257,137736,110221,99703,106667,143319,135557,93390,97577,124196,81136,119439,145231,85623,145373,135896,106470,113334,100560,108442,64472,120207,101680,92342,98611,97613,82298,125302,108725,85569,110372,100511,110455,141993,121789,138967,105230,90656,115445,59955,126268,80830,123625,102543,101948,142280,105434,106115,111057,117758,118396,136260,97192,62101,123497,120326,66645,83429,107539,153880,140178,100402,122158,89331,125359,124110,93526,70170,82357,126745,103326,116048,137115,105365,95911,88669,103776,108864,106037,84851,95748,133616,132752,95712,109063,113521,109380,82558,124777,133542,116492,68834,124023,63882,122492,141453,99327,45590,71167,111992,145140,49672,75536,86720,97729,106808,117971,97731,109196,94905,57480,109175,111174,127255,115499,109499,104696,104467,120157,81200,97558,95914,128053,101734,126009,91232,128343,110040,38247,129027,115026,130323,103181,138307,122564,82351,125351,82940,108029,82734,116816,113472,143343,104074,138525,106960,108323,95784,140673,104235,54041,107961,113757,94884,126041,64952,66764,67861,113516,46109,103651,75043,116473,96614,66447,119068,122973,81609,105519,86649,76384,67136,93155,124183,64860,87232,92304,84254,106696,113212,71076,114270,125538,92442,75297,65707,120387,120946,73265,77481,91282,104405,99646,97791,81878,107908,98608,95228,128163,94325,90815,120719,110159,124490,75161,127206,83660,87400,78942,88452,104128,100313,107387,84355,112723,115892,106597,121327,92559,87537,70569,85294,70905,103716,94947,80116,86492,88672,82984,128100,72869,112227,94674,101003,112924,108645,69415,112204,109700,104484,61239,119602,81014,68165,88652,75705,104189,71603,121914,106637,99800,67629,120354,122110,89170,109195,92392,43805,68389,112521,59255,98612,70649,95228,46865,101688,62618,102531,100737,107321,112879,125372,69419,124759,79076,84779,77393,113187,99100,64954,103244,124975,133582,103519,117813,119902,70783,125470,109782,78322,125517,102463,89309,110287,122391,116399,81907,97909,68051,82414,123089,66537,127926,78963,108694,100892,119560,116176,111854,69831,69375,71310,73913,95492,109329,116027,81987,83481,72361,106625,123707,79353,68347,115832,89946,86319,70963,106120,97856,61824,103907,99953,113413,107091,124783,92281,96219,86221,80962,78754,60026,88157,59881,112818,102250,38980,81807,93148,108032,89335,95639,124902,87801,92538,83687,128310,104754,68222,97006,107372,110511,72193,95972,105556,88701,117710,76057,100392,113308,100924,72188,70431,110103,60825,75100,129327,95541,112777,51496,102781,87494,72728,114775,124359,101620,87964,69523,109486,77206,53608,118677,116512,114756,65852,75626,127455,107073,82196,106741,94518,114430,57165,109610,113619,93854,129022,66804,62689,67619,113495,48632,107394,72385,115934,93183,63506,113619,121399,78281,103926,89097,80852,65207,93495,121970,62027,88602,89914,83342,103439,115451,68250,113630,125880,91177,73266,69021,122593,122180,75160,81973,92194,107380,98023,94868,83442,109887,98876,94962,130740,94095,95071,117308,112093,123893,80189,124089,82673,88858,80540,84228,103963,102397,111563,88260,114767,113275,104755,120525,96082,87227,69333,87777,70978,104196,97551,78979,82500,86306,78762,125543,70336,112975,96681,98922,109250,108960,71302,107757,111600,102974,63442,118913,80987,68790,86462,76881,107409,69114,119167,102018,97680,65062,118144,124548,85637,113108,93554,42516,72429,110154,60965,100618,71021,94189,44742,103201,62335,103787,99401,105197,115566,125843,67936,120863,77317,84653,81606,113380,100644,64037,101350,126334,130877,103470,114588,120682,66628,124447,106567,78758,128537,101074,87670,113414,123525,117744,86400,97968,68416],\"type\":\"box\",\"xaxis\":\"x4\",\"yaxis\":\"y4\",\"opacity\":0.8}],                        {\"template\":{\"data\":{\"barpolar\":[{\"marker\":{\"line\":{\"color\":\"white\",\"width\":0.5},\"pattern\":{\"fillmode\":\"overlay\",\"size\":10,\"solidity\":0.2}},\"type\":\"barpolar\"}],\"bar\":[{\"error_x\":{\"color\":\"rgb(36,36,36)\"},\"error_y\":{\"color\":\"rgb(36,36,36)\"},\"marker\":{\"line\":{\"color\":\"white\",\"width\":0.5},\"pattern\":{\"fillmode\":\"overlay\",\"size\":10,\"solidity\":0.2}},\"type\":\"bar\"}],\"carpet\":[{\"aaxis\":{\"endlinecolor\":\"rgb(36,36,36)\",\"gridcolor\":\"white\",\"linecolor\":\"white\",\"minorgridcolor\":\"white\",\"startlinecolor\":\"rgb(36,36,36)\"},\"baxis\":{\"endlinecolor\":\"rgb(36,36,36)\",\"gridcolor\":\"white\",\"linecolor\":\"white\",\"minorgridcolor\":\"white\",\"startlinecolor\":\"rgb(36,36,36)\"},\"type\":\"carpet\"}],\"choropleth\":[{\"colorbar\":{\"outlinewidth\":1,\"tickcolor\":\"rgb(36,36,36)\",\"ticks\":\"outside\"},\"type\":\"choropleth\"}],\"contourcarpet\":[{\"colorbar\":{\"outlinewidth\":1,\"tickcolor\":\"rgb(36,36,36)\",\"ticks\":\"outside\"},\"type\":\"contourcarpet\"}],\"contour\":[{\"colorbar\":{\"outlinewidth\":1,\"tickcolor\":\"rgb(36,36,36)\",\"ticks\":\"outside\"},\"colorscale\":[[0.0,\"#440154\"],[0.1111111111111111,\"#482878\"],[0.2222222222222222,\"#3e4989\"],[0.3333333333333333,\"#31688e\"],[0.4444444444444444,\"#26828e\"],[0.5555555555555556,\"#1f9e89\"],[0.6666666666666666,\"#35b779\"],[0.7777777777777778,\"#6ece58\"],[0.8888888888888888,\"#b5de2b\"],[1.0,\"#fde725\"]],\"type\":\"contour\"}],\"heatmapgl\":[{\"colorbar\":{\"outlinewidth\":1,\"tickcolor\":\"rgb(36,36,36)\",\"ticks\":\"outside\"},\"colorscale\":[[0.0,\"#440154\"],[0.1111111111111111,\"#482878\"],[0.2222222222222222,\"#3e4989\"],[0.3333333333333333,\"#31688e\"],[0.4444444444444444,\"#26828e\"],[0.5555555555555556,\"#1f9e89\"],[0.6666666666666666,\"#35b779\"],[0.7777777777777778,\"#6ece58\"],[0.8888888888888888,\"#b5de2b\"],[1.0,\"#fde725\"]],\"type\":\"heatmapgl\"}],\"heatmap\":[{\"colorbar\":{\"outlinewidth\":1,\"tickcolor\":\"rgb(36,36,36)\",\"ticks\":\"outside\"},\"colorscale\":[[0.0,\"#440154\"],[0.1111111111111111,\"#482878\"],[0.2222222222222222,\"#3e4989\"],[0.3333333333333333,\"#31688e\"],[0.4444444444444444,\"#26828e\"],[0.5555555555555556,\"#1f9e89\"],[0.6666666666666666,\"#35b779\"],[0.7777777777777778,\"#6ece58\"],[0.8888888888888888,\"#b5de2b\"],[1.0,\"#fde725\"]],\"type\":\"heatmap\"}],\"histogram2dcontour\":[{\"colorbar\":{\"outlinewidth\":1,\"tickcolor\":\"rgb(36,36,36)\",\"ticks\":\"outside\"},\"colorscale\":[[0.0,\"#440154\"],[0.1111111111111111,\"#482878\"],[0.2222222222222222,\"#3e4989\"],[0.3333333333333333,\"#31688e\"],[0.4444444444444444,\"#26828e\"],[0.5555555555555556,\"#1f9e89\"],[0.6666666666666666,\"#35b779\"],[0.7777777777777778,\"#6ece58\"],[0.8888888888888888,\"#b5de2b\"],[1.0,\"#fde725\"]],\"type\":\"histogram2dcontour\"}],\"histogram2d\":[{\"colorbar\":{\"outlinewidth\":1,\"tickcolor\":\"rgb(36,36,36)\",\"ticks\":\"outside\"},\"colorscale\":[[0.0,\"#440154\"],[0.1111111111111111,\"#482878\"],[0.2222222222222222,\"#3e4989\"],[0.3333333333333333,\"#31688e\"],[0.4444444444444444,\"#26828e\"],[0.5555555555555556,\"#1f9e89\"],[0.6666666666666666,\"#35b779\"],[0.7777777777777778,\"#6ece58\"],[0.8888888888888888,\"#b5de2b\"],[1.0,\"#fde725\"]],\"type\":\"histogram2d\"}],\"histogram\":[{\"marker\":{\"line\":{\"color\":\"white\",\"width\":0.6}},\"type\":\"histogram\"}],\"mesh3d\":[{\"colorbar\":{\"outlinewidth\":1,\"tickcolor\":\"rgb(36,36,36)\",\"ticks\":\"outside\"},\"type\":\"mesh3d\"}],\"parcoords\":[{\"line\":{\"colorbar\":{\"outlinewidth\":1,\"tickcolor\":\"rgb(36,36,36)\",\"ticks\":\"outside\"}},\"type\":\"parcoords\"}],\"pie\":[{\"automargin\":true,\"type\":\"pie\"}],\"scatter3d\":[{\"line\":{\"colorbar\":{\"outlinewidth\":1,\"tickcolor\":\"rgb(36,36,36)\",\"ticks\":\"outside\"}},\"marker\":{\"colorbar\":{\"outlinewidth\":1,\"tickcolor\":\"rgb(36,36,36)\",\"ticks\":\"outside\"}},\"type\":\"scatter3d\"}],\"scattercarpet\":[{\"marker\":{\"colorbar\":{\"outlinewidth\":1,\"tickcolor\":\"rgb(36,36,36)\",\"ticks\":\"outside\"}},\"type\":\"scattercarpet\"}],\"scattergeo\":[{\"marker\":{\"colorbar\":{\"outlinewidth\":1,\"tickcolor\":\"rgb(36,36,36)\",\"ticks\":\"outside\"}},\"type\":\"scattergeo\"}],\"scattergl\":[{\"marker\":{\"colorbar\":{\"outlinewidth\":1,\"tickcolor\":\"rgb(36,36,36)\",\"ticks\":\"outside\"}},\"type\":\"scattergl\"}],\"scattermapbox\":[{\"marker\":{\"colorbar\":{\"outlinewidth\":1,\"tickcolor\":\"rgb(36,36,36)\",\"ticks\":\"outside\"}},\"type\":\"scattermapbox\"}],\"scatterpolargl\":[{\"marker\":{\"colorbar\":{\"outlinewidth\":1,\"tickcolor\":\"rgb(36,36,36)\",\"ticks\":\"outside\"}},\"type\":\"scatterpolargl\"}],\"scatterpolar\":[{\"marker\":{\"colorbar\":{\"outlinewidth\":1,\"tickcolor\":\"rgb(36,36,36)\",\"ticks\":\"outside\"}},\"type\":\"scatterpolar\"}],\"scatter\":[{\"fillpattern\":{\"fillmode\":\"overlay\",\"size\":10,\"solidity\":0.2},\"type\":\"scatter\"}],\"scatterternary\":[{\"marker\":{\"colorbar\":{\"outlinewidth\":1,\"tickcolor\":\"rgb(36,36,36)\",\"ticks\":\"outside\"}},\"type\":\"scatterternary\"}],\"surface\":[{\"colorbar\":{\"outlinewidth\":1,\"tickcolor\":\"rgb(36,36,36)\",\"ticks\":\"outside\"},\"colorscale\":[[0.0,\"#440154\"],[0.1111111111111111,\"#482878\"],[0.2222222222222222,\"#3e4989\"],[0.3333333333333333,\"#31688e\"],[0.4444444444444444,\"#26828e\"],[0.5555555555555556,\"#1f9e89\"],[0.6666666666666666,\"#35b779\"],[0.7777777777777778,\"#6ece58\"],[0.8888888888888888,\"#b5de2b\"],[1.0,\"#fde725\"]],\"type\":\"surface\"}],\"table\":[{\"cells\":{\"fill\":{\"color\":\"rgb(237,237,237)\"},\"line\":{\"color\":\"white\"}},\"header\":{\"fill\":{\"color\":\"rgb(217,217,217)\"},\"line\":{\"color\":\"white\"}},\"type\":\"table\"}]},\"layout\":{\"annotationdefaults\":{\"arrowhead\":0,\"arrowwidth\":1},\"autotypenumbers\":\"strict\",\"coloraxis\":{\"colorbar\":{\"outlinewidth\":1,\"tickcolor\":\"rgb(36,36,36)\",\"ticks\":\"outside\"}},\"colorscale\":{\"diverging\":[[0.0,\"rgb(103,0,31)\"],[0.1,\"rgb(178,24,43)\"],[0.2,\"rgb(214,96,77)\"],[0.3,\"rgb(244,165,130)\"],[0.4,\"rgb(253,219,199)\"],[0.5,\"rgb(247,247,247)\"],[0.6,\"rgb(209,229,240)\"],[0.7,\"rgb(146,197,222)\"],[0.8,\"rgb(67,147,195)\"],[0.9,\"rgb(33,102,172)\"],[1.0,\"rgb(5,48,97)\"]],\"sequential\":[[0.0,\"#440154\"],[0.1111111111111111,\"#482878\"],[0.2222222222222222,\"#3e4989\"],[0.3333333333333333,\"#31688e\"],[0.4444444444444444,\"#26828e\"],[0.5555555555555556,\"#1f9e89\"],[0.6666666666666666,\"#35b779\"],[0.7777777777777778,\"#6ece58\"],[0.8888888888888888,\"#b5de2b\"],[1.0,\"#fde725\"]],\"sequentialminus\":[[0.0,\"#440154\"],[0.1111111111111111,\"#482878\"],[0.2222222222222222,\"#3e4989\"],[0.3333333333333333,\"#31688e\"],[0.4444444444444444,\"#26828e\"],[0.5555555555555556,\"#1f9e89\"],[0.6666666666666666,\"#35b779\"],[0.7777777777777778,\"#6ece58\"],[0.8888888888888888,\"#b5de2b\"],[1.0,\"#fde725\"]]},\"colorway\":[\"#1F77B4\",\"#FF7F0E\",\"#2CA02C\",\"#D62728\",\"#9467BD\",\"#8C564B\",\"#E377C2\",\"#7F7F7F\",\"#BCBD22\",\"#17BECF\"],\"font\":{\"color\":\"rgb(36,36,36)\"},\"geo\":{\"bgcolor\":\"white\",\"lakecolor\":\"white\",\"landcolor\":\"white\",\"showlakes\":true,\"showland\":true,\"subunitcolor\":\"white\"},\"hoverlabel\":{\"align\":\"left\"},\"hovermode\":\"closest\",\"mapbox\":{\"style\":\"light\"},\"paper_bgcolor\":\"white\",\"plot_bgcolor\":\"white\",\"polar\":{\"angularaxis\":{\"gridcolor\":\"rgb(232,232,232)\",\"linecolor\":\"rgb(36,36,36)\",\"showgrid\":false,\"showline\":true,\"ticks\":\"outside\"},\"bgcolor\":\"white\",\"radialaxis\":{\"gridcolor\":\"rgb(232,232,232)\",\"linecolor\":\"rgb(36,36,36)\",\"showgrid\":false,\"showline\":true,\"ticks\":\"outside\"}},\"scene\":{\"xaxis\":{\"backgroundcolor\":\"white\",\"gridcolor\":\"rgb(232,232,232)\",\"gridwidth\":2,\"linecolor\":\"rgb(36,36,36)\",\"showbackground\":true,\"showgrid\":false,\"showline\":true,\"ticks\":\"outside\",\"zeroline\":false,\"zerolinecolor\":\"rgb(36,36,36)\"},\"yaxis\":{\"backgroundcolor\":\"white\",\"gridcolor\":\"rgb(232,232,232)\",\"gridwidth\":2,\"linecolor\":\"rgb(36,36,36)\",\"showbackground\":true,\"showgrid\":false,\"showline\":true,\"ticks\":\"outside\",\"zeroline\":false,\"zerolinecolor\":\"rgb(36,36,36)\"},\"zaxis\":{\"backgroundcolor\":\"white\",\"gridcolor\":\"rgb(232,232,232)\",\"gridwidth\":2,\"linecolor\":\"rgb(36,36,36)\",\"showbackground\":true,\"showgrid\":false,\"showline\":true,\"ticks\":\"outside\",\"zeroline\":false,\"zerolinecolor\":\"rgb(36,36,36)\"}},\"shapedefaults\":{\"fillcolor\":\"black\",\"line\":{\"width\":0},\"opacity\":0.3},\"ternary\":{\"aaxis\":{\"gridcolor\":\"rgb(232,232,232)\",\"linecolor\":\"rgb(36,36,36)\",\"showgrid\":false,\"showline\":true,\"ticks\":\"outside\"},\"baxis\":{\"gridcolor\":\"rgb(232,232,232)\",\"linecolor\":\"rgb(36,36,36)\",\"showgrid\":false,\"showline\":true,\"ticks\":\"outside\"},\"bgcolor\":\"white\",\"caxis\":{\"gridcolor\":\"rgb(232,232,232)\",\"linecolor\":\"rgb(36,36,36)\",\"showgrid\":false,\"showline\":true,\"ticks\":\"outside\"}},\"title\":{\"x\":0.05},\"xaxis\":{\"automargin\":true,\"gridcolor\":\"rgb(232,232,232)\",\"linecolor\":\"rgb(36,36,36)\",\"showgrid\":false,\"showline\":true,\"ticks\":\"outside\",\"title\":{\"standoff\":15},\"zeroline\":false,\"zerolinecolor\":\"rgb(36,36,36)\"},\"yaxis\":{\"automargin\":true,\"gridcolor\":\"rgb(232,232,232)\",\"linecolor\":\"rgb(36,36,36)\",\"showgrid\":false,\"showline\":true,\"ticks\":\"outside\",\"title\":{\"standoff\":15},\"zeroline\":false,\"zerolinecolor\":\"rgb(36,36,36)\"}}},\"xaxis\":{\"anchor\":\"y\",\"domain\":[0.0,0.45]},\"yaxis\":{\"anchor\":\"x\",\"domain\":[0.575,1.0]},\"xaxis2\":{\"anchor\":\"y2\",\"domain\":[0.55,1.0]},\"yaxis2\":{\"anchor\":\"x2\",\"domain\":[0.575,1.0]},\"xaxis3\":{\"anchor\":\"y3\",\"domain\":[0.0,0.45]},\"yaxis3\":{\"anchor\":\"x3\",\"domain\":[0.0,0.425]},\"xaxis4\":{\"anchor\":\"y4\",\"domain\":[0.55,1.0]},\"yaxis4\":{\"anchor\":\"x4\",\"domain\":[0.0,0.425]},\"title\":{\"text\":\"Continous Variable Distribution\"},\"height\":600},                        {\"responsive\": true}                    ).then(function(){\n",
       "                            \n",
       "var gd = document.getElementById('c38bae9f-20a7-4975-9971-5319a27ede72');\n",
       "var x = new MutationObserver(function (mutations, observer) {{\n",
       "        var display = window.getComputedStyle(gd).display;\n",
       "        if (!display || display === 'none') {{\n",
       "            console.log([gd, 'removed!']);\n",
       "            Plotly.purge(gd);\n",
       "            observer.disconnect();\n",
       "        }}\n",
       "}});\n",
       "\n",
       "// Listen for the removal of the full notebook cells\n",
       "var notebookContainer = gd.closest('#notebook-container');\n",
       "if (notebookContainer) {{\n",
       "    x.observe(notebookContainer, {childList: true});\n",
       "}}\n",
       "\n",
       "// Listen for the clearing of the current output cell\n",
       "var outputEl = gd.closest('.output');\n",
       "if (outputEl) {{\n",
       "    x.observe(outputEl, {childList: true});\n",
       "}}\n",
       "\n",
       "                        })                };                });            </script>        </div>"
      ]
     },
     "metadata": {},
     "output_type": "display_data"
    }
   ],
   "source": [
    "fig = make_subplots(rows=2, cols=2)\n",
    "fig.add_trace(\n",
    "    go.Histogram(x=df['Age'],name=\"Age Histogram\",marker_color='darkgreen'),\n",
    "    row=1,col=1\n",
    ")\n",
    "fig.add_trace(\n",
    "    go.Box(x=df['Age'],name=\"Age Box\",marker_color='darkgreen'),\n",
    "    row=1,col=2\n",
    ")\n",
    "fig.add_trace(\n",
    "    go.Histogram(x=df['Income'],name=\"Income Histogram\",marker_color='darkgreen'),\n",
    "    row=2,col=1\n",
    ")\n",
    "fig.add_trace(\n",
    "    go.Box(x=df['Income'],name=\"Income Histogram\",marker_color='darkgreen'),\n",
    "    row=2,col=2\n",
    ")\n",
    "fig.update_layout(\n",
    "    height=600,\n",
    "    title_text=\"Continous Variable Distribution\", \n",
    "    template='simple_white')\n",
    "fig.update_traces(marker_line_color='black', \n",
    "                  marker_line_width=1.5, \n",
    "                  opacity=0.8)\n",
    "fig.show()"
   ]
  },
  {
   "cell_type": "markdown",
   "id": "f8238df9",
   "metadata": {},
   "source": [
    "### Gender and Education"
   ]
  },
  {
   "cell_type": "code",
   "execution_count": 176,
   "id": "3b4c190a",
   "metadata": {},
   "outputs": [
    {
     "data": {
      "application/vnd.plotly.v1+json": {
       "config": {
        "plotlyServerURL": "https://plot.ly"
       },
       "data": [
        {
         "domain": {
          "x": [
           0,
           0.45
          ],
          "y": [
           0,
           1
          ]
         },
         "labels": [
          "Other/Unknown",
          "High School",
          "University",
          "Graduate School"
         ],
         "marker": {
          "colors": [
           "#ACDF87",
           "darkgreen",
           "seagreen",
           "#68BB59"
          ],
          "line": {
           "color": "black",
           "width": 1.5
          }
         },
         "name": "Male",
         "opacity": 0.8,
         "textinfo": "percent+label+value",
         "type": "pie",
         "values": [
          255,
          688,
          136,
          7
         ]
        },
        {
         "domain": {
          "x": [
           0.55,
           1
          ],
          "y": [
           0,
           1
          ]
         },
         "labels": [
          "Other/Unknown",
          "High School",
          "University",
          "Graduate School"
         ],
         "marker": {
          "colors": [
           "#ACDF87",
           "darkgreen",
           "seagreen",
           "#68BB59"
          ],
          "line": {
           "color": "black",
           "width": 1.5
          }
         },
         "name": "Female",
         "opacity": 0.8,
         "textinfo": "percent+label+value",
         "type": "pie",
         "values": [
          32,
          698,
          155,
          29
         ]
        }
       ],
       "layout": {
        "annotations": [
         {
          "font": {
           "size": 20
          },
          "showarrow": false,
          "text": "Male",
          "x": 0.18,
          "y": -0.2
         },
         {
          "font": {
           "size": 20
          },
          "showarrow": false,
          "text": "Female",
          "x": 0.84,
          "y": -0.2
         }
        ],
        "height": 400,
        "template": {
         "data": {
          "bar": [
           {
            "error_x": {
             "color": "rgb(36,36,36)"
            },
            "error_y": {
             "color": "rgb(36,36,36)"
            },
            "marker": {
             "line": {
              "color": "white",
              "width": 0.5
             },
             "pattern": {
              "fillmode": "overlay",
              "size": 10,
              "solidity": 0.2
             }
            },
            "type": "bar"
           }
          ],
          "barpolar": [
           {
            "marker": {
             "line": {
              "color": "white",
              "width": 0.5
             },
             "pattern": {
              "fillmode": "overlay",
              "size": 10,
              "solidity": 0.2
             }
            },
            "type": "barpolar"
           }
          ],
          "carpet": [
           {
            "aaxis": {
             "endlinecolor": "rgb(36,36,36)",
             "gridcolor": "white",
             "linecolor": "white",
             "minorgridcolor": "white",
             "startlinecolor": "rgb(36,36,36)"
            },
            "baxis": {
             "endlinecolor": "rgb(36,36,36)",
             "gridcolor": "white",
             "linecolor": "white",
             "minorgridcolor": "white",
             "startlinecolor": "rgb(36,36,36)"
            },
            "type": "carpet"
           }
          ],
          "choropleth": [
           {
            "colorbar": {
             "outlinewidth": 1,
             "tickcolor": "rgb(36,36,36)",
             "ticks": "outside"
            },
            "type": "choropleth"
           }
          ],
          "contour": [
           {
            "colorbar": {
             "outlinewidth": 1,
             "tickcolor": "rgb(36,36,36)",
             "ticks": "outside"
            },
            "colorscale": [
             [
              0,
              "#440154"
             ],
             [
              0.1111111111111111,
              "#482878"
             ],
             [
              0.2222222222222222,
              "#3e4989"
             ],
             [
              0.3333333333333333,
              "#31688e"
             ],
             [
              0.4444444444444444,
              "#26828e"
             ],
             [
              0.5555555555555556,
              "#1f9e89"
             ],
             [
              0.6666666666666666,
              "#35b779"
             ],
             [
              0.7777777777777778,
              "#6ece58"
             ],
             [
              0.8888888888888888,
              "#b5de2b"
             ],
             [
              1,
              "#fde725"
             ]
            ],
            "type": "contour"
           }
          ],
          "contourcarpet": [
           {
            "colorbar": {
             "outlinewidth": 1,
             "tickcolor": "rgb(36,36,36)",
             "ticks": "outside"
            },
            "type": "contourcarpet"
           }
          ],
          "heatmap": [
           {
            "colorbar": {
             "outlinewidth": 1,
             "tickcolor": "rgb(36,36,36)",
             "ticks": "outside"
            },
            "colorscale": [
             [
              0,
              "#440154"
             ],
             [
              0.1111111111111111,
              "#482878"
             ],
             [
              0.2222222222222222,
              "#3e4989"
             ],
             [
              0.3333333333333333,
              "#31688e"
             ],
             [
              0.4444444444444444,
              "#26828e"
             ],
             [
              0.5555555555555556,
              "#1f9e89"
             ],
             [
              0.6666666666666666,
              "#35b779"
             ],
             [
              0.7777777777777778,
              "#6ece58"
             ],
             [
              0.8888888888888888,
              "#b5de2b"
             ],
             [
              1,
              "#fde725"
             ]
            ],
            "type": "heatmap"
           }
          ],
          "heatmapgl": [
           {
            "colorbar": {
             "outlinewidth": 1,
             "tickcolor": "rgb(36,36,36)",
             "ticks": "outside"
            },
            "colorscale": [
             [
              0,
              "#440154"
             ],
             [
              0.1111111111111111,
              "#482878"
             ],
             [
              0.2222222222222222,
              "#3e4989"
             ],
             [
              0.3333333333333333,
              "#31688e"
             ],
             [
              0.4444444444444444,
              "#26828e"
             ],
             [
              0.5555555555555556,
              "#1f9e89"
             ],
             [
              0.6666666666666666,
              "#35b779"
             ],
             [
              0.7777777777777778,
              "#6ece58"
             ],
             [
              0.8888888888888888,
              "#b5de2b"
             ],
             [
              1,
              "#fde725"
             ]
            ],
            "type": "heatmapgl"
           }
          ],
          "histogram": [
           {
            "marker": {
             "line": {
              "color": "white",
              "width": 0.6
             }
            },
            "type": "histogram"
           }
          ],
          "histogram2d": [
           {
            "colorbar": {
             "outlinewidth": 1,
             "tickcolor": "rgb(36,36,36)",
             "ticks": "outside"
            },
            "colorscale": [
             [
              0,
              "#440154"
             ],
             [
              0.1111111111111111,
              "#482878"
             ],
             [
              0.2222222222222222,
              "#3e4989"
             ],
             [
              0.3333333333333333,
              "#31688e"
             ],
             [
              0.4444444444444444,
              "#26828e"
             ],
             [
              0.5555555555555556,
              "#1f9e89"
             ],
             [
              0.6666666666666666,
              "#35b779"
             ],
             [
              0.7777777777777778,
              "#6ece58"
             ],
             [
              0.8888888888888888,
              "#b5de2b"
             ],
             [
              1,
              "#fde725"
             ]
            ],
            "type": "histogram2d"
           }
          ],
          "histogram2dcontour": [
           {
            "colorbar": {
             "outlinewidth": 1,
             "tickcolor": "rgb(36,36,36)",
             "ticks": "outside"
            },
            "colorscale": [
             [
              0,
              "#440154"
             ],
             [
              0.1111111111111111,
              "#482878"
             ],
             [
              0.2222222222222222,
              "#3e4989"
             ],
             [
              0.3333333333333333,
              "#31688e"
             ],
             [
              0.4444444444444444,
              "#26828e"
             ],
             [
              0.5555555555555556,
              "#1f9e89"
             ],
             [
              0.6666666666666666,
              "#35b779"
             ],
             [
              0.7777777777777778,
              "#6ece58"
             ],
             [
              0.8888888888888888,
              "#b5de2b"
             ],
             [
              1,
              "#fde725"
             ]
            ],
            "type": "histogram2dcontour"
           }
          ],
          "mesh3d": [
           {
            "colorbar": {
             "outlinewidth": 1,
             "tickcolor": "rgb(36,36,36)",
             "ticks": "outside"
            },
            "type": "mesh3d"
           }
          ],
          "parcoords": [
           {
            "line": {
             "colorbar": {
              "outlinewidth": 1,
              "tickcolor": "rgb(36,36,36)",
              "ticks": "outside"
             }
            },
            "type": "parcoords"
           }
          ],
          "pie": [
           {
            "automargin": true,
            "type": "pie"
           }
          ],
          "scatter": [
           {
            "fillpattern": {
             "fillmode": "overlay",
             "size": 10,
             "solidity": 0.2
            },
            "type": "scatter"
           }
          ],
          "scatter3d": [
           {
            "line": {
             "colorbar": {
              "outlinewidth": 1,
              "tickcolor": "rgb(36,36,36)",
              "ticks": "outside"
             }
            },
            "marker": {
             "colorbar": {
              "outlinewidth": 1,
              "tickcolor": "rgb(36,36,36)",
              "ticks": "outside"
             }
            },
            "type": "scatter3d"
           }
          ],
          "scattercarpet": [
           {
            "marker": {
             "colorbar": {
              "outlinewidth": 1,
              "tickcolor": "rgb(36,36,36)",
              "ticks": "outside"
             }
            },
            "type": "scattercarpet"
           }
          ],
          "scattergeo": [
           {
            "marker": {
             "colorbar": {
              "outlinewidth": 1,
              "tickcolor": "rgb(36,36,36)",
              "ticks": "outside"
             }
            },
            "type": "scattergeo"
           }
          ],
          "scattergl": [
           {
            "marker": {
             "colorbar": {
              "outlinewidth": 1,
              "tickcolor": "rgb(36,36,36)",
              "ticks": "outside"
             }
            },
            "type": "scattergl"
           }
          ],
          "scattermapbox": [
           {
            "marker": {
             "colorbar": {
              "outlinewidth": 1,
              "tickcolor": "rgb(36,36,36)",
              "ticks": "outside"
             }
            },
            "type": "scattermapbox"
           }
          ],
          "scatterpolar": [
           {
            "marker": {
             "colorbar": {
              "outlinewidth": 1,
              "tickcolor": "rgb(36,36,36)",
              "ticks": "outside"
             }
            },
            "type": "scatterpolar"
           }
          ],
          "scatterpolargl": [
           {
            "marker": {
             "colorbar": {
              "outlinewidth": 1,
              "tickcolor": "rgb(36,36,36)",
              "ticks": "outside"
             }
            },
            "type": "scatterpolargl"
           }
          ],
          "scatterternary": [
           {
            "marker": {
             "colorbar": {
              "outlinewidth": 1,
              "tickcolor": "rgb(36,36,36)",
              "ticks": "outside"
             }
            },
            "type": "scatterternary"
           }
          ],
          "surface": [
           {
            "colorbar": {
             "outlinewidth": 1,
             "tickcolor": "rgb(36,36,36)",
             "ticks": "outside"
            },
            "colorscale": [
             [
              0,
              "#440154"
             ],
             [
              0.1111111111111111,
              "#482878"
             ],
             [
              0.2222222222222222,
              "#3e4989"
             ],
             [
              0.3333333333333333,
              "#31688e"
             ],
             [
              0.4444444444444444,
              "#26828e"
             ],
             [
              0.5555555555555556,
              "#1f9e89"
             ],
             [
              0.6666666666666666,
              "#35b779"
             ],
             [
              0.7777777777777778,
              "#6ece58"
             ],
             [
              0.8888888888888888,
              "#b5de2b"
             ],
             [
              1,
              "#fde725"
             ]
            ],
            "type": "surface"
           }
          ],
          "table": [
           {
            "cells": {
             "fill": {
              "color": "rgb(237,237,237)"
             },
             "line": {
              "color": "white"
             }
            },
            "header": {
             "fill": {
              "color": "rgb(217,217,217)"
             },
             "line": {
              "color": "white"
             }
            },
            "type": "table"
           }
          ]
         },
         "layout": {
          "annotationdefaults": {
           "arrowhead": 0,
           "arrowwidth": 1
          },
          "autotypenumbers": "strict",
          "coloraxis": {
           "colorbar": {
            "outlinewidth": 1,
            "tickcolor": "rgb(36,36,36)",
            "ticks": "outside"
           }
          },
          "colorscale": {
           "diverging": [
            [
             0,
             "rgb(103,0,31)"
            ],
            [
             0.1,
             "rgb(178,24,43)"
            ],
            [
             0.2,
             "rgb(214,96,77)"
            ],
            [
             0.3,
             "rgb(244,165,130)"
            ],
            [
             0.4,
             "rgb(253,219,199)"
            ],
            [
             0.5,
             "rgb(247,247,247)"
            ],
            [
             0.6,
             "rgb(209,229,240)"
            ],
            [
             0.7,
             "rgb(146,197,222)"
            ],
            [
             0.8,
             "rgb(67,147,195)"
            ],
            [
             0.9,
             "rgb(33,102,172)"
            ],
            [
             1,
             "rgb(5,48,97)"
            ]
           ],
           "sequential": [
            [
             0,
             "#440154"
            ],
            [
             0.1111111111111111,
             "#482878"
            ],
            [
             0.2222222222222222,
             "#3e4989"
            ],
            [
             0.3333333333333333,
             "#31688e"
            ],
            [
             0.4444444444444444,
             "#26828e"
            ],
            [
             0.5555555555555556,
             "#1f9e89"
            ],
            [
             0.6666666666666666,
             "#35b779"
            ],
            [
             0.7777777777777778,
             "#6ece58"
            ],
            [
             0.8888888888888888,
             "#b5de2b"
            ],
            [
             1,
             "#fde725"
            ]
           ],
           "sequentialminus": [
            [
             0,
             "#440154"
            ],
            [
             0.1111111111111111,
             "#482878"
            ],
            [
             0.2222222222222222,
             "#3e4989"
            ],
            [
             0.3333333333333333,
             "#31688e"
            ],
            [
             0.4444444444444444,
             "#26828e"
            ],
            [
             0.5555555555555556,
             "#1f9e89"
            ],
            [
             0.6666666666666666,
             "#35b779"
            ],
            [
             0.7777777777777778,
             "#6ece58"
            ],
            [
             0.8888888888888888,
             "#b5de2b"
            ],
            [
             1,
             "#fde725"
            ]
           ]
          },
          "colorway": [
           "#1F77B4",
           "#FF7F0E",
           "#2CA02C",
           "#D62728",
           "#9467BD",
           "#8C564B",
           "#E377C2",
           "#7F7F7F",
           "#BCBD22",
           "#17BECF"
          ],
          "font": {
           "color": "rgb(36,36,36)"
          },
          "geo": {
           "bgcolor": "white",
           "lakecolor": "white",
           "landcolor": "white",
           "showlakes": true,
           "showland": true,
           "subunitcolor": "white"
          },
          "hoverlabel": {
           "align": "left"
          },
          "hovermode": "closest",
          "mapbox": {
           "style": "light"
          },
          "paper_bgcolor": "white",
          "plot_bgcolor": "white",
          "polar": {
           "angularaxis": {
            "gridcolor": "rgb(232,232,232)",
            "linecolor": "rgb(36,36,36)",
            "showgrid": false,
            "showline": true,
            "ticks": "outside"
           },
           "bgcolor": "white",
           "radialaxis": {
            "gridcolor": "rgb(232,232,232)",
            "linecolor": "rgb(36,36,36)",
            "showgrid": false,
            "showline": true,
            "ticks": "outside"
           }
          },
          "scene": {
           "xaxis": {
            "backgroundcolor": "white",
            "gridcolor": "rgb(232,232,232)",
            "gridwidth": 2,
            "linecolor": "rgb(36,36,36)",
            "showbackground": true,
            "showgrid": false,
            "showline": true,
            "ticks": "outside",
            "zeroline": false,
            "zerolinecolor": "rgb(36,36,36)"
           },
           "yaxis": {
            "backgroundcolor": "white",
            "gridcolor": "rgb(232,232,232)",
            "gridwidth": 2,
            "linecolor": "rgb(36,36,36)",
            "showbackground": true,
            "showgrid": false,
            "showline": true,
            "ticks": "outside",
            "zeroline": false,
            "zerolinecolor": "rgb(36,36,36)"
           },
           "zaxis": {
            "backgroundcolor": "white",
            "gridcolor": "rgb(232,232,232)",
            "gridwidth": 2,
            "linecolor": "rgb(36,36,36)",
            "showbackground": true,
            "showgrid": false,
            "showline": true,
            "ticks": "outside",
            "zeroline": false,
            "zerolinecolor": "rgb(36,36,36)"
           }
          },
          "shapedefaults": {
           "fillcolor": "black",
           "line": {
            "width": 0
           },
           "opacity": 0.3
          },
          "ternary": {
           "aaxis": {
            "gridcolor": "rgb(232,232,232)",
            "linecolor": "rgb(36,36,36)",
            "showgrid": false,
            "showline": true,
            "ticks": "outside"
           },
           "baxis": {
            "gridcolor": "rgb(232,232,232)",
            "linecolor": "rgb(36,36,36)",
            "showgrid": false,
            "showline": true,
            "ticks": "outside"
           },
           "bgcolor": "white",
           "caxis": {
            "gridcolor": "rgb(232,232,232)",
            "linecolor": "rgb(36,36,36)",
            "showgrid": false,
            "showline": true,
            "ticks": "outside"
           }
          },
          "title": {
           "x": 0.05
          },
          "xaxis": {
           "automargin": true,
           "gridcolor": "rgb(232,232,232)",
           "linecolor": "rgb(36,36,36)",
           "showgrid": false,
           "showline": true,
           "ticks": "outside",
           "title": {
            "standoff": 15
           },
           "zeroline": false,
           "zerolinecolor": "rgb(36,36,36)"
          },
          "yaxis": {
           "automargin": true,
           "gridcolor": "rgb(232,232,232)",
           "linecolor": "rgb(36,36,36)",
           "showgrid": false,
           "showline": true,
           "ticks": "outside",
           "title": {
            "standoff": 15
           },
           "zeroline": false,
           "zerolinecolor": "rgb(36,36,36)"
          }
         }
        },
        "title": {
         "text": "Continous Variable Distribution"
        }
       }
      },
      "text/html": [
       "<div>                            <div id=\"292b469c-4c7d-4137-96d3-0fb964fd58d7\" class=\"plotly-graph-div\" style=\"height:400px; width:100%;\"></div>            <script type=\"text/javascript\">                require([\"plotly\"], function(Plotly) {                    window.PLOTLYENV=window.PLOTLYENV || {};                                    if (document.getElementById(\"292b469c-4c7d-4137-96d3-0fb964fd58d7\")) {                    Plotly.newPlot(                        \"292b469c-4c7d-4137-96d3-0fb964fd58d7\",                        [{\"labels\":[\"Other\\u002fUnknown\",\"High School\",\"University\",\"Graduate School\"],\"marker\":{\"colors\":[\"#ACDF87\",\"darkgreen\",\"seagreen\",\"#68BB59\"],\"line\":{\"color\":\"black\",\"width\":1.5}},\"name\":\"Male\",\"textinfo\":\"percent+label+value\",\"values\":[255,688,136,7],\"type\":\"pie\",\"domain\":{\"x\":[0.0,0.45],\"y\":[0.0,1.0]},\"opacity\":0.8},{\"labels\":[\"Other\\u002fUnknown\",\"High School\",\"University\",\"Graduate School\"],\"marker\":{\"colors\":[\"#ACDF87\",\"darkgreen\",\"seagreen\",\"#68BB59\"],\"line\":{\"color\":\"black\",\"width\":1.5}},\"name\":\"Female\",\"textinfo\":\"percent+label+value\",\"values\":[32,698,155,29],\"type\":\"pie\",\"domain\":{\"x\":[0.55,1.0],\"y\":[0.0,1.0]},\"opacity\":0.8}],                        {\"template\":{\"data\":{\"barpolar\":[{\"marker\":{\"line\":{\"color\":\"white\",\"width\":0.5},\"pattern\":{\"fillmode\":\"overlay\",\"size\":10,\"solidity\":0.2}},\"type\":\"barpolar\"}],\"bar\":[{\"error_x\":{\"color\":\"rgb(36,36,36)\"},\"error_y\":{\"color\":\"rgb(36,36,36)\"},\"marker\":{\"line\":{\"color\":\"white\",\"width\":0.5},\"pattern\":{\"fillmode\":\"overlay\",\"size\":10,\"solidity\":0.2}},\"type\":\"bar\"}],\"carpet\":[{\"aaxis\":{\"endlinecolor\":\"rgb(36,36,36)\",\"gridcolor\":\"white\",\"linecolor\":\"white\",\"minorgridcolor\":\"white\",\"startlinecolor\":\"rgb(36,36,36)\"},\"baxis\":{\"endlinecolor\":\"rgb(36,36,36)\",\"gridcolor\":\"white\",\"linecolor\":\"white\",\"minorgridcolor\":\"white\",\"startlinecolor\":\"rgb(36,36,36)\"},\"type\":\"carpet\"}],\"choropleth\":[{\"colorbar\":{\"outlinewidth\":1,\"tickcolor\":\"rgb(36,36,36)\",\"ticks\":\"outside\"},\"type\":\"choropleth\"}],\"contourcarpet\":[{\"colorbar\":{\"outlinewidth\":1,\"tickcolor\":\"rgb(36,36,36)\",\"ticks\":\"outside\"},\"type\":\"contourcarpet\"}],\"contour\":[{\"colorbar\":{\"outlinewidth\":1,\"tickcolor\":\"rgb(36,36,36)\",\"ticks\":\"outside\"},\"colorscale\":[[0.0,\"#440154\"],[0.1111111111111111,\"#482878\"],[0.2222222222222222,\"#3e4989\"],[0.3333333333333333,\"#31688e\"],[0.4444444444444444,\"#26828e\"],[0.5555555555555556,\"#1f9e89\"],[0.6666666666666666,\"#35b779\"],[0.7777777777777778,\"#6ece58\"],[0.8888888888888888,\"#b5de2b\"],[1.0,\"#fde725\"]],\"type\":\"contour\"}],\"heatmapgl\":[{\"colorbar\":{\"outlinewidth\":1,\"tickcolor\":\"rgb(36,36,36)\",\"ticks\":\"outside\"},\"colorscale\":[[0.0,\"#440154\"],[0.1111111111111111,\"#482878\"],[0.2222222222222222,\"#3e4989\"],[0.3333333333333333,\"#31688e\"],[0.4444444444444444,\"#26828e\"],[0.5555555555555556,\"#1f9e89\"],[0.6666666666666666,\"#35b779\"],[0.7777777777777778,\"#6ece58\"],[0.8888888888888888,\"#b5de2b\"],[1.0,\"#fde725\"]],\"type\":\"heatmapgl\"}],\"heatmap\":[{\"colorbar\":{\"outlinewidth\":1,\"tickcolor\":\"rgb(36,36,36)\",\"ticks\":\"outside\"},\"colorscale\":[[0.0,\"#440154\"],[0.1111111111111111,\"#482878\"],[0.2222222222222222,\"#3e4989\"],[0.3333333333333333,\"#31688e\"],[0.4444444444444444,\"#26828e\"],[0.5555555555555556,\"#1f9e89\"],[0.6666666666666666,\"#35b779\"],[0.7777777777777778,\"#6ece58\"],[0.8888888888888888,\"#b5de2b\"],[1.0,\"#fde725\"]],\"type\":\"heatmap\"}],\"histogram2dcontour\":[{\"colorbar\":{\"outlinewidth\":1,\"tickcolor\":\"rgb(36,36,36)\",\"ticks\":\"outside\"},\"colorscale\":[[0.0,\"#440154\"],[0.1111111111111111,\"#482878\"],[0.2222222222222222,\"#3e4989\"],[0.3333333333333333,\"#31688e\"],[0.4444444444444444,\"#26828e\"],[0.5555555555555556,\"#1f9e89\"],[0.6666666666666666,\"#35b779\"],[0.7777777777777778,\"#6ece58\"],[0.8888888888888888,\"#b5de2b\"],[1.0,\"#fde725\"]],\"type\":\"histogram2dcontour\"}],\"histogram2d\":[{\"colorbar\":{\"outlinewidth\":1,\"tickcolor\":\"rgb(36,36,36)\",\"ticks\":\"outside\"},\"colorscale\":[[0.0,\"#440154\"],[0.1111111111111111,\"#482878\"],[0.2222222222222222,\"#3e4989\"],[0.3333333333333333,\"#31688e\"],[0.4444444444444444,\"#26828e\"],[0.5555555555555556,\"#1f9e89\"],[0.6666666666666666,\"#35b779\"],[0.7777777777777778,\"#6ece58\"],[0.8888888888888888,\"#b5de2b\"],[1.0,\"#fde725\"]],\"type\":\"histogram2d\"}],\"histogram\":[{\"marker\":{\"line\":{\"color\":\"white\",\"width\":0.6}},\"type\":\"histogram\"}],\"mesh3d\":[{\"colorbar\":{\"outlinewidth\":1,\"tickcolor\":\"rgb(36,36,36)\",\"ticks\":\"outside\"},\"type\":\"mesh3d\"}],\"parcoords\":[{\"line\":{\"colorbar\":{\"outlinewidth\":1,\"tickcolor\":\"rgb(36,36,36)\",\"ticks\":\"outside\"}},\"type\":\"parcoords\"}],\"pie\":[{\"automargin\":true,\"type\":\"pie\"}],\"scatter3d\":[{\"line\":{\"colorbar\":{\"outlinewidth\":1,\"tickcolor\":\"rgb(36,36,36)\",\"ticks\":\"outside\"}},\"marker\":{\"colorbar\":{\"outlinewidth\":1,\"tickcolor\":\"rgb(36,36,36)\",\"ticks\":\"outside\"}},\"type\":\"scatter3d\"}],\"scattercarpet\":[{\"marker\":{\"colorbar\":{\"outlinewidth\":1,\"tickcolor\":\"rgb(36,36,36)\",\"ticks\":\"outside\"}},\"type\":\"scattercarpet\"}],\"scattergeo\":[{\"marker\":{\"colorbar\":{\"outlinewidth\":1,\"tickcolor\":\"rgb(36,36,36)\",\"ticks\":\"outside\"}},\"type\":\"scattergeo\"}],\"scattergl\":[{\"marker\":{\"colorbar\":{\"outlinewidth\":1,\"tickcolor\":\"rgb(36,36,36)\",\"ticks\":\"outside\"}},\"type\":\"scattergl\"}],\"scattermapbox\":[{\"marker\":{\"colorbar\":{\"outlinewidth\":1,\"tickcolor\":\"rgb(36,36,36)\",\"ticks\":\"outside\"}},\"type\":\"scattermapbox\"}],\"scatterpolargl\":[{\"marker\":{\"colorbar\":{\"outlinewidth\":1,\"tickcolor\":\"rgb(36,36,36)\",\"ticks\":\"outside\"}},\"type\":\"scatterpolargl\"}],\"scatterpolar\":[{\"marker\":{\"colorbar\":{\"outlinewidth\":1,\"tickcolor\":\"rgb(36,36,36)\",\"ticks\":\"outside\"}},\"type\":\"scatterpolar\"}],\"scatter\":[{\"fillpattern\":{\"fillmode\":\"overlay\",\"size\":10,\"solidity\":0.2},\"type\":\"scatter\"}],\"scatterternary\":[{\"marker\":{\"colorbar\":{\"outlinewidth\":1,\"tickcolor\":\"rgb(36,36,36)\",\"ticks\":\"outside\"}},\"type\":\"scatterternary\"}],\"surface\":[{\"colorbar\":{\"outlinewidth\":1,\"tickcolor\":\"rgb(36,36,36)\",\"ticks\":\"outside\"},\"colorscale\":[[0.0,\"#440154\"],[0.1111111111111111,\"#482878\"],[0.2222222222222222,\"#3e4989\"],[0.3333333333333333,\"#31688e\"],[0.4444444444444444,\"#26828e\"],[0.5555555555555556,\"#1f9e89\"],[0.6666666666666666,\"#35b779\"],[0.7777777777777778,\"#6ece58\"],[0.8888888888888888,\"#b5de2b\"],[1.0,\"#fde725\"]],\"type\":\"surface\"}],\"table\":[{\"cells\":{\"fill\":{\"color\":\"rgb(237,237,237)\"},\"line\":{\"color\":\"white\"}},\"header\":{\"fill\":{\"color\":\"rgb(217,217,217)\"},\"line\":{\"color\":\"white\"}},\"type\":\"table\"}]},\"layout\":{\"annotationdefaults\":{\"arrowhead\":0,\"arrowwidth\":1},\"autotypenumbers\":\"strict\",\"coloraxis\":{\"colorbar\":{\"outlinewidth\":1,\"tickcolor\":\"rgb(36,36,36)\",\"ticks\":\"outside\"}},\"colorscale\":{\"diverging\":[[0.0,\"rgb(103,0,31)\"],[0.1,\"rgb(178,24,43)\"],[0.2,\"rgb(214,96,77)\"],[0.3,\"rgb(244,165,130)\"],[0.4,\"rgb(253,219,199)\"],[0.5,\"rgb(247,247,247)\"],[0.6,\"rgb(209,229,240)\"],[0.7,\"rgb(146,197,222)\"],[0.8,\"rgb(67,147,195)\"],[0.9,\"rgb(33,102,172)\"],[1.0,\"rgb(5,48,97)\"]],\"sequential\":[[0.0,\"#440154\"],[0.1111111111111111,\"#482878\"],[0.2222222222222222,\"#3e4989\"],[0.3333333333333333,\"#31688e\"],[0.4444444444444444,\"#26828e\"],[0.5555555555555556,\"#1f9e89\"],[0.6666666666666666,\"#35b779\"],[0.7777777777777778,\"#6ece58\"],[0.8888888888888888,\"#b5de2b\"],[1.0,\"#fde725\"]],\"sequentialminus\":[[0.0,\"#440154\"],[0.1111111111111111,\"#482878\"],[0.2222222222222222,\"#3e4989\"],[0.3333333333333333,\"#31688e\"],[0.4444444444444444,\"#26828e\"],[0.5555555555555556,\"#1f9e89\"],[0.6666666666666666,\"#35b779\"],[0.7777777777777778,\"#6ece58\"],[0.8888888888888888,\"#b5de2b\"],[1.0,\"#fde725\"]]},\"colorway\":[\"#1F77B4\",\"#FF7F0E\",\"#2CA02C\",\"#D62728\",\"#9467BD\",\"#8C564B\",\"#E377C2\",\"#7F7F7F\",\"#BCBD22\",\"#17BECF\"],\"font\":{\"color\":\"rgb(36,36,36)\"},\"geo\":{\"bgcolor\":\"white\",\"lakecolor\":\"white\",\"landcolor\":\"white\",\"showlakes\":true,\"showland\":true,\"subunitcolor\":\"white\"},\"hoverlabel\":{\"align\":\"left\"},\"hovermode\":\"closest\",\"mapbox\":{\"style\":\"light\"},\"paper_bgcolor\":\"white\",\"plot_bgcolor\":\"white\",\"polar\":{\"angularaxis\":{\"gridcolor\":\"rgb(232,232,232)\",\"linecolor\":\"rgb(36,36,36)\",\"showgrid\":false,\"showline\":true,\"ticks\":\"outside\"},\"bgcolor\":\"white\",\"radialaxis\":{\"gridcolor\":\"rgb(232,232,232)\",\"linecolor\":\"rgb(36,36,36)\",\"showgrid\":false,\"showline\":true,\"ticks\":\"outside\"}},\"scene\":{\"xaxis\":{\"backgroundcolor\":\"white\",\"gridcolor\":\"rgb(232,232,232)\",\"gridwidth\":2,\"linecolor\":\"rgb(36,36,36)\",\"showbackground\":true,\"showgrid\":false,\"showline\":true,\"ticks\":\"outside\",\"zeroline\":false,\"zerolinecolor\":\"rgb(36,36,36)\"},\"yaxis\":{\"backgroundcolor\":\"white\",\"gridcolor\":\"rgb(232,232,232)\",\"gridwidth\":2,\"linecolor\":\"rgb(36,36,36)\",\"showbackground\":true,\"showgrid\":false,\"showline\":true,\"ticks\":\"outside\",\"zeroline\":false,\"zerolinecolor\":\"rgb(36,36,36)\"},\"zaxis\":{\"backgroundcolor\":\"white\",\"gridcolor\":\"rgb(232,232,232)\",\"gridwidth\":2,\"linecolor\":\"rgb(36,36,36)\",\"showbackground\":true,\"showgrid\":false,\"showline\":true,\"ticks\":\"outside\",\"zeroline\":false,\"zerolinecolor\":\"rgb(36,36,36)\"}},\"shapedefaults\":{\"fillcolor\":\"black\",\"line\":{\"width\":0},\"opacity\":0.3},\"ternary\":{\"aaxis\":{\"gridcolor\":\"rgb(232,232,232)\",\"linecolor\":\"rgb(36,36,36)\",\"showgrid\":false,\"showline\":true,\"ticks\":\"outside\"},\"baxis\":{\"gridcolor\":\"rgb(232,232,232)\",\"linecolor\":\"rgb(36,36,36)\",\"showgrid\":false,\"showline\":true,\"ticks\":\"outside\"},\"bgcolor\":\"white\",\"caxis\":{\"gridcolor\":\"rgb(232,232,232)\",\"linecolor\":\"rgb(36,36,36)\",\"showgrid\":false,\"showline\":true,\"ticks\":\"outside\"}},\"title\":{\"x\":0.05},\"xaxis\":{\"automargin\":true,\"gridcolor\":\"rgb(232,232,232)\",\"linecolor\":\"rgb(36,36,36)\",\"showgrid\":false,\"showline\":true,\"ticks\":\"outside\",\"title\":{\"standoff\":15},\"zeroline\":false,\"zerolinecolor\":\"rgb(36,36,36)\"},\"yaxis\":{\"automargin\":true,\"gridcolor\":\"rgb(232,232,232)\",\"linecolor\":\"rgb(36,36,36)\",\"showgrid\":false,\"showline\":true,\"ticks\":\"outside\",\"title\":{\"standoff\":15},\"zeroline\":false,\"zerolinecolor\":\"rgb(36,36,36)\"}}},\"title\":{\"text\":\"Continous Variable Distribution\"},\"height\":400,\"annotations\":[{\"showarrow\":false,\"text\":\"Male\",\"x\":0.18,\"y\":-0.2,\"font\":{\"size\":20}},{\"showarrow\":false,\"text\":\"Female\",\"x\":0.84,\"y\":-0.2,\"font\":{\"size\":20}}]},                        {\"responsive\": true}                    ).then(function(){\n",
       "                            \n",
       "var gd = document.getElementById('292b469c-4c7d-4137-96d3-0fb964fd58d7');\n",
       "var x = new MutationObserver(function (mutations, observer) {{\n",
       "        var display = window.getComputedStyle(gd).display;\n",
       "        if (!display || display === 'none') {{\n",
       "            console.log([gd, 'removed!']);\n",
       "            Plotly.purge(gd);\n",
       "            observer.disconnect();\n",
       "        }}\n",
       "}});\n",
       "\n",
       "// Listen for the removal of the full notebook cells\n",
       "var notebookContainer = gd.closest('#notebook-container');\n",
       "if (notebookContainer) {{\n",
       "    x.observe(notebookContainer, {childList: true});\n",
       "}}\n",
       "\n",
       "// Listen for the clearing of the current output cell\n",
       "var outputEl = gd.closest('.output');\n",
       "if (outputEl) {{\n",
       "    x.observe(outputEl, {childList: true});\n",
       "}}\n",
       "\n",
       "                        })                };                });            </script>        </div>"
      ]
     },
     "metadata": {},
     "output_type": "display_data"
    }
   ],
   "source": [
    "education_colors=['#ACDF87', 'darkgreen', 'seagreen', '#68BB59']\n",
    "\n",
    "gender_by_education = pd.DataFrame(df.groupby('Sex')['Education'].value_counts())\n",
    "fig = make_subplots(rows=1,cols=2, specs=[[{'type':'domain'}, {'type':'domain'}]])\n",
    "\n",
    "fig.add_trace(\n",
    "    go.Pie(labels=['Other/Unknown', 'High School', 'University', 'Graduate School'],\n",
    "           values=[int(gender_by_education.loc[0,0]),int(gender_by_education.loc[0,1]),\n",
    "                  int(gender_by_education.loc[0,2]),int(gender_by_education.loc[0,3])],\n",
    "           textinfo='percent+label+value',\n",
    "           name='Male',\n",
    "           marker_colors=education_colors\n",
    "          ),\n",
    "    row=1,col=1\n",
    ")\n",
    "fig.add_trace(\n",
    "    go.Pie(labels=['Other/Unknown', 'High School', 'University', 'Graduate School'],\n",
    "           values=[int(gender_by_education.loc[1,0]),int(gender_by_education.loc[1,1]),\n",
    "                  int(gender_by_education.loc[1,2]),int(gender_by_education.loc[1,3])],\n",
    "           textinfo='percent+label+value',\n",
    "           name='Female',\n",
    "           marker_colors=education_colors\n",
    "          ),\n",
    "    row=1,col=2\n",
    ")\n",
    "\n",
    "fig.update_layout(\n",
    "    height=400,\n",
    "    title_text=\"Continous Variable Distribution\", \n",
    "    template='simple_white',\n",
    "     annotations=[dict(text='Male', x=0.18, y=-0.2, font_size=20, showarrow=False),\n",
    "                 dict(text='Female', x=0.84, y=-0.2, font_size=20, showarrow=False)])\n",
    "fig.update_traces(marker_line_color='black', \n",
    "                  marker_line_width=1.5, \n",
    "                  opacity=0.8)\n",
    "fig.show()"
   ]
  },
  {
   "cell_type": "markdown",
   "id": "87fde7b3",
   "metadata": {},
   "source": [
    "### Gender VS Settlement"
   ]
  },
  {
   "cell_type": "code",
   "execution_count": 177,
   "id": "1692b057",
   "metadata": {
    "scrolled": false
   },
   "outputs": [
    {
     "data": {
      "application/vnd.plotly.v1+json": {
       "config": {
        "plotlyServerURL": "https://plot.ly"
       },
       "data": [
        {
         "domain": {
          "x": [
           0,
           0.45
          ],
          "y": [
           0,
           1
          ]
         },
         "labels": [
          "Small City",
          "Mid Sized City",
          "Big City"
         ],
         "marker": {
          "colors": [
           "#ACDF87",
           "darkgreen",
           "seagreen",
           "#68BB59"
          ],
          "line": {
           "color": "black",
           "width": 1.5
          }
         },
         "name": "Male",
         "opacity": 0.8,
         "textinfo": "percent+label+value",
         "type": "pie",
         "values": [
          394,
          338,
          354
         ]
        },
        {
         "domain": {
          "x": [
           0.55,
           1
          ],
          "y": [
           0,
           1
          ]
         },
         "labels": [
          "Small City",
          "Mid Sized City",
          "Big City"
         ],
         "marker": {
          "colors": [
           "#ACDF87",
           "darkgreen",
           "seagreen",
           "#68BB59"
          ],
          "line": {
           "color": "black",
           "width": 1.5
          }
         },
         "name": "Female",
         "opacity": 0.8,
         "textinfo": "percent+label+value",
         "type": "pie",
         "values": [
          595,
          206,
          113
         ]
        }
       ],
       "layout": {
        "annotations": [
         {
          "font": {
           "size": 20
          },
          "showarrow": false,
          "text": "Male",
          "x": 0.18,
          "y": -0.2
         },
         {
          "font": {
           "size": 20
          },
          "showarrow": false,
          "text": "Female",
          "x": 0.84,
          "y": -0.2
         }
        ],
        "height": 400,
        "template": {
         "data": {
          "bar": [
           {
            "error_x": {
             "color": "rgb(36,36,36)"
            },
            "error_y": {
             "color": "rgb(36,36,36)"
            },
            "marker": {
             "line": {
              "color": "white",
              "width": 0.5
             },
             "pattern": {
              "fillmode": "overlay",
              "size": 10,
              "solidity": 0.2
             }
            },
            "type": "bar"
           }
          ],
          "barpolar": [
           {
            "marker": {
             "line": {
              "color": "white",
              "width": 0.5
             },
             "pattern": {
              "fillmode": "overlay",
              "size": 10,
              "solidity": 0.2
             }
            },
            "type": "barpolar"
           }
          ],
          "carpet": [
           {
            "aaxis": {
             "endlinecolor": "rgb(36,36,36)",
             "gridcolor": "white",
             "linecolor": "white",
             "minorgridcolor": "white",
             "startlinecolor": "rgb(36,36,36)"
            },
            "baxis": {
             "endlinecolor": "rgb(36,36,36)",
             "gridcolor": "white",
             "linecolor": "white",
             "minorgridcolor": "white",
             "startlinecolor": "rgb(36,36,36)"
            },
            "type": "carpet"
           }
          ],
          "choropleth": [
           {
            "colorbar": {
             "outlinewidth": 1,
             "tickcolor": "rgb(36,36,36)",
             "ticks": "outside"
            },
            "type": "choropleth"
           }
          ],
          "contour": [
           {
            "colorbar": {
             "outlinewidth": 1,
             "tickcolor": "rgb(36,36,36)",
             "ticks": "outside"
            },
            "colorscale": [
             [
              0,
              "#440154"
             ],
             [
              0.1111111111111111,
              "#482878"
             ],
             [
              0.2222222222222222,
              "#3e4989"
             ],
             [
              0.3333333333333333,
              "#31688e"
             ],
             [
              0.4444444444444444,
              "#26828e"
             ],
             [
              0.5555555555555556,
              "#1f9e89"
             ],
             [
              0.6666666666666666,
              "#35b779"
             ],
             [
              0.7777777777777778,
              "#6ece58"
             ],
             [
              0.8888888888888888,
              "#b5de2b"
             ],
             [
              1,
              "#fde725"
             ]
            ],
            "type": "contour"
           }
          ],
          "contourcarpet": [
           {
            "colorbar": {
             "outlinewidth": 1,
             "tickcolor": "rgb(36,36,36)",
             "ticks": "outside"
            },
            "type": "contourcarpet"
           }
          ],
          "heatmap": [
           {
            "colorbar": {
             "outlinewidth": 1,
             "tickcolor": "rgb(36,36,36)",
             "ticks": "outside"
            },
            "colorscale": [
             [
              0,
              "#440154"
             ],
             [
              0.1111111111111111,
              "#482878"
             ],
             [
              0.2222222222222222,
              "#3e4989"
             ],
             [
              0.3333333333333333,
              "#31688e"
             ],
             [
              0.4444444444444444,
              "#26828e"
             ],
             [
              0.5555555555555556,
              "#1f9e89"
             ],
             [
              0.6666666666666666,
              "#35b779"
             ],
             [
              0.7777777777777778,
              "#6ece58"
             ],
             [
              0.8888888888888888,
              "#b5de2b"
             ],
             [
              1,
              "#fde725"
             ]
            ],
            "type": "heatmap"
           }
          ],
          "heatmapgl": [
           {
            "colorbar": {
             "outlinewidth": 1,
             "tickcolor": "rgb(36,36,36)",
             "ticks": "outside"
            },
            "colorscale": [
             [
              0,
              "#440154"
             ],
             [
              0.1111111111111111,
              "#482878"
             ],
             [
              0.2222222222222222,
              "#3e4989"
             ],
             [
              0.3333333333333333,
              "#31688e"
             ],
             [
              0.4444444444444444,
              "#26828e"
             ],
             [
              0.5555555555555556,
              "#1f9e89"
             ],
             [
              0.6666666666666666,
              "#35b779"
             ],
             [
              0.7777777777777778,
              "#6ece58"
             ],
             [
              0.8888888888888888,
              "#b5de2b"
             ],
             [
              1,
              "#fde725"
             ]
            ],
            "type": "heatmapgl"
           }
          ],
          "histogram": [
           {
            "marker": {
             "line": {
              "color": "white",
              "width": 0.6
             }
            },
            "type": "histogram"
           }
          ],
          "histogram2d": [
           {
            "colorbar": {
             "outlinewidth": 1,
             "tickcolor": "rgb(36,36,36)",
             "ticks": "outside"
            },
            "colorscale": [
             [
              0,
              "#440154"
             ],
             [
              0.1111111111111111,
              "#482878"
             ],
             [
              0.2222222222222222,
              "#3e4989"
             ],
             [
              0.3333333333333333,
              "#31688e"
             ],
             [
              0.4444444444444444,
              "#26828e"
             ],
             [
              0.5555555555555556,
              "#1f9e89"
             ],
             [
              0.6666666666666666,
              "#35b779"
             ],
             [
              0.7777777777777778,
              "#6ece58"
             ],
             [
              0.8888888888888888,
              "#b5de2b"
             ],
             [
              1,
              "#fde725"
             ]
            ],
            "type": "histogram2d"
           }
          ],
          "histogram2dcontour": [
           {
            "colorbar": {
             "outlinewidth": 1,
             "tickcolor": "rgb(36,36,36)",
             "ticks": "outside"
            },
            "colorscale": [
             [
              0,
              "#440154"
             ],
             [
              0.1111111111111111,
              "#482878"
             ],
             [
              0.2222222222222222,
              "#3e4989"
             ],
             [
              0.3333333333333333,
              "#31688e"
             ],
             [
              0.4444444444444444,
              "#26828e"
             ],
             [
              0.5555555555555556,
              "#1f9e89"
             ],
             [
              0.6666666666666666,
              "#35b779"
             ],
             [
              0.7777777777777778,
              "#6ece58"
             ],
             [
              0.8888888888888888,
              "#b5de2b"
             ],
             [
              1,
              "#fde725"
             ]
            ],
            "type": "histogram2dcontour"
           }
          ],
          "mesh3d": [
           {
            "colorbar": {
             "outlinewidth": 1,
             "tickcolor": "rgb(36,36,36)",
             "ticks": "outside"
            },
            "type": "mesh3d"
           }
          ],
          "parcoords": [
           {
            "line": {
             "colorbar": {
              "outlinewidth": 1,
              "tickcolor": "rgb(36,36,36)",
              "ticks": "outside"
             }
            },
            "type": "parcoords"
           }
          ],
          "pie": [
           {
            "automargin": true,
            "type": "pie"
           }
          ],
          "scatter": [
           {
            "fillpattern": {
             "fillmode": "overlay",
             "size": 10,
             "solidity": 0.2
            },
            "type": "scatter"
           }
          ],
          "scatter3d": [
           {
            "line": {
             "colorbar": {
              "outlinewidth": 1,
              "tickcolor": "rgb(36,36,36)",
              "ticks": "outside"
             }
            },
            "marker": {
             "colorbar": {
              "outlinewidth": 1,
              "tickcolor": "rgb(36,36,36)",
              "ticks": "outside"
             }
            },
            "type": "scatter3d"
           }
          ],
          "scattercarpet": [
           {
            "marker": {
             "colorbar": {
              "outlinewidth": 1,
              "tickcolor": "rgb(36,36,36)",
              "ticks": "outside"
             }
            },
            "type": "scattercarpet"
           }
          ],
          "scattergeo": [
           {
            "marker": {
             "colorbar": {
              "outlinewidth": 1,
              "tickcolor": "rgb(36,36,36)",
              "ticks": "outside"
             }
            },
            "type": "scattergeo"
           }
          ],
          "scattergl": [
           {
            "marker": {
             "colorbar": {
              "outlinewidth": 1,
              "tickcolor": "rgb(36,36,36)",
              "ticks": "outside"
             }
            },
            "type": "scattergl"
           }
          ],
          "scattermapbox": [
           {
            "marker": {
             "colorbar": {
              "outlinewidth": 1,
              "tickcolor": "rgb(36,36,36)",
              "ticks": "outside"
             }
            },
            "type": "scattermapbox"
           }
          ],
          "scatterpolar": [
           {
            "marker": {
             "colorbar": {
              "outlinewidth": 1,
              "tickcolor": "rgb(36,36,36)",
              "ticks": "outside"
             }
            },
            "type": "scatterpolar"
           }
          ],
          "scatterpolargl": [
           {
            "marker": {
             "colorbar": {
              "outlinewidth": 1,
              "tickcolor": "rgb(36,36,36)",
              "ticks": "outside"
             }
            },
            "type": "scatterpolargl"
           }
          ],
          "scatterternary": [
           {
            "marker": {
             "colorbar": {
              "outlinewidth": 1,
              "tickcolor": "rgb(36,36,36)",
              "ticks": "outside"
             }
            },
            "type": "scatterternary"
           }
          ],
          "surface": [
           {
            "colorbar": {
             "outlinewidth": 1,
             "tickcolor": "rgb(36,36,36)",
             "ticks": "outside"
            },
            "colorscale": [
             [
              0,
              "#440154"
             ],
             [
              0.1111111111111111,
              "#482878"
             ],
             [
              0.2222222222222222,
              "#3e4989"
             ],
             [
              0.3333333333333333,
              "#31688e"
             ],
             [
              0.4444444444444444,
              "#26828e"
             ],
             [
              0.5555555555555556,
              "#1f9e89"
             ],
             [
              0.6666666666666666,
              "#35b779"
             ],
             [
              0.7777777777777778,
              "#6ece58"
             ],
             [
              0.8888888888888888,
              "#b5de2b"
             ],
             [
              1,
              "#fde725"
             ]
            ],
            "type": "surface"
           }
          ],
          "table": [
           {
            "cells": {
             "fill": {
              "color": "rgb(237,237,237)"
             },
             "line": {
              "color": "white"
             }
            },
            "header": {
             "fill": {
              "color": "rgb(217,217,217)"
             },
             "line": {
              "color": "white"
             }
            },
            "type": "table"
           }
          ]
         },
         "layout": {
          "annotationdefaults": {
           "arrowhead": 0,
           "arrowwidth": 1
          },
          "autotypenumbers": "strict",
          "coloraxis": {
           "colorbar": {
            "outlinewidth": 1,
            "tickcolor": "rgb(36,36,36)",
            "ticks": "outside"
           }
          },
          "colorscale": {
           "diverging": [
            [
             0,
             "rgb(103,0,31)"
            ],
            [
             0.1,
             "rgb(178,24,43)"
            ],
            [
             0.2,
             "rgb(214,96,77)"
            ],
            [
             0.3,
             "rgb(244,165,130)"
            ],
            [
             0.4,
             "rgb(253,219,199)"
            ],
            [
             0.5,
             "rgb(247,247,247)"
            ],
            [
             0.6,
             "rgb(209,229,240)"
            ],
            [
             0.7,
             "rgb(146,197,222)"
            ],
            [
             0.8,
             "rgb(67,147,195)"
            ],
            [
             0.9,
             "rgb(33,102,172)"
            ],
            [
             1,
             "rgb(5,48,97)"
            ]
           ],
           "sequential": [
            [
             0,
             "#440154"
            ],
            [
             0.1111111111111111,
             "#482878"
            ],
            [
             0.2222222222222222,
             "#3e4989"
            ],
            [
             0.3333333333333333,
             "#31688e"
            ],
            [
             0.4444444444444444,
             "#26828e"
            ],
            [
             0.5555555555555556,
             "#1f9e89"
            ],
            [
             0.6666666666666666,
             "#35b779"
            ],
            [
             0.7777777777777778,
             "#6ece58"
            ],
            [
             0.8888888888888888,
             "#b5de2b"
            ],
            [
             1,
             "#fde725"
            ]
           ],
           "sequentialminus": [
            [
             0,
             "#440154"
            ],
            [
             0.1111111111111111,
             "#482878"
            ],
            [
             0.2222222222222222,
             "#3e4989"
            ],
            [
             0.3333333333333333,
             "#31688e"
            ],
            [
             0.4444444444444444,
             "#26828e"
            ],
            [
             0.5555555555555556,
             "#1f9e89"
            ],
            [
             0.6666666666666666,
             "#35b779"
            ],
            [
             0.7777777777777778,
             "#6ece58"
            ],
            [
             0.8888888888888888,
             "#b5de2b"
            ],
            [
             1,
             "#fde725"
            ]
           ]
          },
          "colorway": [
           "#1F77B4",
           "#FF7F0E",
           "#2CA02C",
           "#D62728",
           "#9467BD",
           "#8C564B",
           "#E377C2",
           "#7F7F7F",
           "#BCBD22",
           "#17BECF"
          ],
          "font": {
           "color": "rgb(36,36,36)"
          },
          "geo": {
           "bgcolor": "white",
           "lakecolor": "white",
           "landcolor": "white",
           "showlakes": true,
           "showland": true,
           "subunitcolor": "white"
          },
          "hoverlabel": {
           "align": "left"
          },
          "hovermode": "closest",
          "mapbox": {
           "style": "light"
          },
          "paper_bgcolor": "white",
          "plot_bgcolor": "white",
          "polar": {
           "angularaxis": {
            "gridcolor": "rgb(232,232,232)",
            "linecolor": "rgb(36,36,36)",
            "showgrid": false,
            "showline": true,
            "ticks": "outside"
           },
           "bgcolor": "white",
           "radialaxis": {
            "gridcolor": "rgb(232,232,232)",
            "linecolor": "rgb(36,36,36)",
            "showgrid": false,
            "showline": true,
            "ticks": "outside"
           }
          },
          "scene": {
           "xaxis": {
            "backgroundcolor": "white",
            "gridcolor": "rgb(232,232,232)",
            "gridwidth": 2,
            "linecolor": "rgb(36,36,36)",
            "showbackground": true,
            "showgrid": false,
            "showline": true,
            "ticks": "outside",
            "zeroline": false,
            "zerolinecolor": "rgb(36,36,36)"
           },
           "yaxis": {
            "backgroundcolor": "white",
            "gridcolor": "rgb(232,232,232)",
            "gridwidth": 2,
            "linecolor": "rgb(36,36,36)",
            "showbackground": true,
            "showgrid": false,
            "showline": true,
            "ticks": "outside",
            "zeroline": false,
            "zerolinecolor": "rgb(36,36,36)"
           },
           "zaxis": {
            "backgroundcolor": "white",
            "gridcolor": "rgb(232,232,232)",
            "gridwidth": 2,
            "linecolor": "rgb(36,36,36)",
            "showbackground": true,
            "showgrid": false,
            "showline": true,
            "ticks": "outside",
            "zeroline": false,
            "zerolinecolor": "rgb(36,36,36)"
           }
          },
          "shapedefaults": {
           "fillcolor": "black",
           "line": {
            "width": 0
           },
           "opacity": 0.3
          },
          "ternary": {
           "aaxis": {
            "gridcolor": "rgb(232,232,232)",
            "linecolor": "rgb(36,36,36)",
            "showgrid": false,
            "showline": true,
            "ticks": "outside"
           },
           "baxis": {
            "gridcolor": "rgb(232,232,232)",
            "linecolor": "rgb(36,36,36)",
            "showgrid": false,
            "showline": true,
            "ticks": "outside"
           },
           "bgcolor": "white",
           "caxis": {
            "gridcolor": "rgb(232,232,232)",
            "linecolor": "rgb(36,36,36)",
            "showgrid": false,
            "showline": true,
            "ticks": "outside"
           }
          },
          "title": {
           "x": 0.05
          },
          "xaxis": {
           "automargin": true,
           "gridcolor": "rgb(232,232,232)",
           "linecolor": "rgb(36,36,36)",
           "showgrid": false,
           "showline": true,
           "ticks": "outside",
           "title": {
            "standoff": 15
           },
           "zeroline": false,
           "zerolinecolor": "rgb(36,36,36)"
          },
          "yaxis": {
           "automargin": true,
           "gridcolor": "rgb(232,232,232)",
           "linecolor": "rgb(36,36,36)",
           "showgrid": false,
           "showline": true,
           "ticks": "outside",
           "title": {
            "standoff": 15
           },
           "zeroline": false,
           "zerolinecolor": "rgb(36,36,36)"
          }
         }
        },
        "title": {
         "text": "Continous Variable Distribution"
        }
       }
      },
      "text/html": [
       "<div>                            <div id=\"af89de17-7454-4bf7-b89a-718fc4c12c75\" class=\"plotly-graph-div\" style=\"height:400px; width:100%;\"></div>            <script type=\"text/javascript\">                require([\"plotly\"], function(Plotly) {                    window.PLOTLYENV=window.PLOTLYENV || {};                                    if (document.getElementById(\"af89de17-7454-4bf7-b89a-718fc4c12c75\")) {                    Plotly.newPlot(                        \"af89de17-7454-4bf7-b89a-718fc4c12c75\",                        [{\"labels\":[\"Small City\",\"Mid Sized City\",\"Big City\"],\"marker\":{\"colors\":[\"#ACDF87\",\"darkgreen\",\"seagreen\",\"#68BB59\"],\"line\":{\"color\":\"black\",\"width\":1.5}},\"name\":\"Male\",\"textinfo\":\"percent+label+value\",\"values\":[394,338,354],\"type\":\"pie\",\"domain\":{\"x\":[0.0,0.45],\"y\":[0.0,1.0]},\"opacity\":0.8},{\"labels\":[\"Small City\",\"Mid Sized City\",\"Big City\"],\"marker\":{\"colors\":[\"#ACDF87\",\"darkgreen\",\"seagreen\",\"#68BB59\"],\"line\":{\"color\":\"black\",\"width\":1.5}},\"name\":\"Female\",\"textinfo\":\"percent+label+value\",\"values\":[595,206,113],\"type\":\"pie\",\"domain\":{\"x\":[0.55,1.0],\"y\":[0.0,1.0]},\"opacity\":0.8}],                        {\"template\":{\"data\":{\"barpolar\":[{\"marker\":{\"line\":{\"color\":\"white\",\"width\":0.5},\"pattern\":{\"fillmode\":\"overlay\",\"size\":10,\"solidity\":0.2}},\"type\":\"barpolar\"}],\"bar\":[{\"error_x\":{\"color\":\"rgb(36,36,36)\"},\"error_y\":{\"color\":\"rgb(36,36,36)\"},\"marker\":{\"line\":{\"color\":\"white\",\"width\":0.5},\"pattern\":{\"fillmode\":\"overlay\",\"size\":10,\"solidity\":0.2}},\"type\":\"bar\"}],\"carpet\":[{\"aaxis\":{\"endlinecolor\":\"rgb(36,36,36)\",\"gridcolor\":\"white\",\"linecolor\":\"white\",\"minorgridcolor\":\"white\",\"startlinecolor\":\"rgb(36,36,36)\"},\"baxis\":{\"endlinecolor\":\"rgb(36,36,36)\",\"gridcolor\":\"white\",\"linecolor\":\"white\",\"minorgridcolor\":\"white\",\"startlinecolor\":\"rgb(36,36,36)\"},\"type\":\"carpet\"}],\"choropleth\":[{\"colorbar\":{\"outlinewidth\":1,\"tickcolor\":\"rgb(36,36,36)\",\"ticks\":\"outside\"},\"type\":\"choropleth\"}],\"contourcarpet\":[{\"colorbar\":{\"outlinewidth\":1,\"tickcolor\":\"rgb(36,36,36)\",\"ticks\":\"outside\"},\"type\":\"contourcarpet\"}],\"contour\":[{\"colorbar\":{\"outlinewidth\":1,\"tickcolor\":\"rgb(36,36,36)\",\"ticks\":\"outside\"},\"colorscale\":[[0.0,\"#440154\"],[0.1111111111111111,\"#482878\"],[0.2222222222222222,\"#3e4989\"],[0.3333333333333333,\"#31688e\"],[0.4444444444444444,\"#26828e\"],[0.5555555555555556,\"#1f9e89\"],[0.6666666666666666,\"#35b779\"],[0.7777777777777778,\"#6ece58\"],[0.8888888888888888,\"#b5de2b\"],[1.0,\"#fde725\"]],\"type\":\"contour\"}],\"heatmapgl\":[{\"colorbar\":{\"outlinewidth\":1,\"tickcolor\":\"rgb(36,36,36)\",\"ticks\":\"outside\"},\"colorscale\":[[0.0,\"#440154\"],[0.1111111111111111,\"#482878\"],[0.2222222222222222,\"#3e4989\"],[0.3333333333333333,\"#31688e\"],[0.4444444444444444,\"#26828e\"],[0.5555555555555556,\"#1f9e89\"],[0.6666666666666666,\"#35b779\"],[0.7777777777777778,\"#6ece58\"],[0.8888888888888888,\"#b5de2b\"],[1.0,\"#fde725\"]],\"type\":\"heatmapgl\"}],\"heatmap\":[{\"colorbar\":{\"outlinewidth\":1,\"tickcolor\":\"rgb(36,36,36)\",\"ticks\":\"outside\"},\"colorscale\":[[0.0,\"#440154\"],[0.1111111111111111,\"#482878\"],[0.2222222222222222,\"#3e4989\"],[0.3333333333333333,\"#31688e\"],[0.4444444444444444,\"#26828e\"],[0.5555555555555556,\"#1f9e89\"],[0.6666666666666666,\"#35b779\"],[0.7777777777777778,\"#6ece58\"],[0.8888888888888888,\"#b5de2b\"],[1.0,\"#fde725\"]],\"type\":\"heatmap\"}],\"histogram2dcontour\":[{\"colorbar\":{\"outlinewidth\":1,\"tickcolor\":\"rgb(36,36,36)\",\"ticks\":\"outside\"},\"colorscale\":[[0.0,\"#440154\"],[0.1111111111111111,\"#482878\"],[0.2222222222222222,\"#3e4989\"],[0.3333333333333333,\"#31688e\"],[0.4444444444444444,\"#26828e\"],[0.5555555555555556,\"#1f9e89\"],[0.6666666666666666,\"#35b779\"],[0.7777777777777778,\"#6ece58\"],[0.8888888888888888,\"#b5de2b\"],[1.0,\"#fde725\"]],\"type\":\"histogram2dcontour\"}],\"histogram2d\":[{\"colorbar\":{\"outlinewidth\":1,\"tickcolor\":\"rgb(36,36,36)\",\"ticks\":\"outside\"},\"colorscale\":[[0.0,\"#440154\"],[0.1111111111111111,\"#482878\"],[0.2222222222222222,\"#3e4989\"],[0.3333333333333333,\"#31688e\"],[0.4444444444444444,\"#26828e\"],[0.5555555555555556,\"#1f9e89\"],[0.6666666666666666,\"#35b779\"],[0.7777777777777778,\"#6ece58\"],[0.8888888888888888,\"#b5de2b\"],[1.0,\"#fde725\"]],\"type\":\"histogram2d\"}],\"histogram\":[{\"marker\":{\"line\":{\"color\":\"white\",\"width\":0.6}},\"type\":\"histogram\"}],\"mesh3d\":[{\"colorbar\":{\"outlinewidth\":1,\"tickcolor\":\"rgb(36,36,36)\",\"ticks\":\"outside\"},\"type\":\"mesh3d\"}],\"parcoords\":[{\"line\":{\"colorbar\":{\"outlinewidth\":1,\"tickcolor\":\"rgb(36,36,36)\",\"ticks\":\"outside\"}},\"type\":\"parcoords\"}],\"pie\":[{\"automargin\":true,\"type\":\"pie\"}],\"scatter3d\":[{\"line\":{\"colorbar\":{\"outlinewidth\":1,\"tickcolor\":\"rgb(36,36,36)\",\"ticks\":\"outside\"}},\"marker\":{\"colorbar\":{\"outlinewidth\":1,\"tickcolor\":\"rgb(36,36,36)\",\"ticks\":\"outside\"}},\"type\":\"scatter3d\"}],\"scattercarpet\":[{\"marker\":{\"colorbar\":{\"outlinewidth\":1,\"tickcolor\":\"rgb(36,36,36)\",\"ticks\":\"outside\"}},\"type\":\"scattercarpet\"}],\"scattergeo\":[{\"marker\":{\"colorbar\":{\"outlinewidth\":1,\"tickcolor\":\"rgb(36,36,36)\",\"ticks\":\"outside\"}},\"type\":\"scattergeo\"}],\"scattergl\":[{\"marker\":{\"colorbar\":{\"outlinewidth\":1,\"tickcolor\":\"rgb(36,36,36)\",\"ticks\":\"outside\"}},\"type\":\"scattergl\"}],\"scattermapbox\":[{\"marker\":{\"colorbar\":{\"outlinewidth\":1,\"tickcolor\":\"rgb(36,36,36)\",\"ticks\":\"outside\"}},\"type\":\"scattermapbox\"}],\"scatterpolargl\":[{\"marker\":{\"colorbar\":{\"outlinewidth\":1,\"tickcolor\":\"rgb(36,36,36)\",\"ticks\":\"outside\"}},\"type\":\"scatterpolargl\"}],\"scatterpolar\":[{\"marker\":{\"colorbar\":{\"outlinewidth\":1,\"tickcolor\":\"rgb(36,36,36)\",\"ticks\":\"outside\"}},\"type\":\"scatterpolar\"}],\"scatter\":[{\"fillpattern\":{\"fillmode\":\"overlay\",\"size\":10,\"solidity\":0.2},\"type\":\"scatter\"}],\"scatterternary\":[{\"marker\":{\"colorbar\":{\"outlinewidth\":1,\"tickcolor\":\"rgb(36,36,36)\",\"ticks\":\"outside\"}},\"type\":\"scatterternary\"}],\"surface\":[{\"colorbar\":{\"outlinewidth\":1,\"tickcolor\":\"rgb(36,36,36)\",\"ticks\":\"outside\"},\"colorscale\":[[0.0,\"#440154\"],[0.1111111111111111,\"#482878\"],[0.2222222222222222,\"#3e4989\"],[0.3333333333333333,\"#31688e\"],[0.4444444444444444,\"#26828e\"],[0.5555555555555556,\"#1f9e89\"],[0.6666666666666666,\"#35b779\"],[0.7777777777777778,\"#6ece58\"],[0.8888888888888888,\"#b5de2b\"],[1.0,\"#fde725\"]],\"type\":\"surface\"}],\"table\":[{\"cells\":{\"fill\":{\"color\":\"rgb(237,237,237)\"},\"line\":{\"color\":\"white\"}},\"header\":{\"fill\":{\"color\":\"rgb(217,217,217)\"},\"line\":{\"color\":\"white\"}},\"type\":\"table\"}]},\"layout\":{\"annotationdefaults\":{\"arrowhead\":0,\"arrowwidth\":1},\"autotypenumbers\":\"strict\",\"coloraxis\":{\"colorbar\":{\"outlinewidth\":1,\"tickcolor\":\"rgb(36,36,36)\",\"ticks\":\"outside\"}},\"colorscale\":{\"diverging\":[[0.0,\"rgb(103,0,31)\"],[0.1,\"rgb(178,24,43)\"],[0.2,\"rgb(214,96,77)\"],[0.3,\"rgb(244,165,130)\"],[0.4,\"rgb(253,219,199)\"],[0.5,\"rgb(247,247,247)\"],[0.6,\"rgb(209,229,240)\"],[0.7,\"rgb(146,197,222)\"],[0.8,\"rgb(67,147,195)\"],[0.9,\"rgb(33,102,172)\"],[1.0,\"rgb(5,48,97)\"]],\"sequential\":[[0.0,\"#440154\"],[0.1111111111111111,\"#482878\"],[0.2222222222222222,\"#3e4989\"],[0.3333333333333333,\"#31688e\"],[0.4444444444444444,\"#26828e\"],[0.5555555555555556,\"#1f9e89\"],[0.6666666666666666,\"#35b779\"],[0.7777777777777778,\"#6ece58\"],[0.8888888888888888,\"#b5de2b\"],[1.0,\"#fde725\"]],\"sequentialminus\":[[0.0,\"#440154\"],[0.1111111111111111,\"#482878\"],[0.2222222222222222,\"#3e4989\"],[0.3333333333333333,\"#31688e\"],[0.4444444444444444,\"#26828e\"],[0.5555555555555556,\"#1f9e89\"],[0.6666666666666666,\"#35b779\"],[0.7777777777777778,\"#6ece58\"],[0.8888888888888888,\"#b5de2b\"],[1.0,\"#fde725\"]]},\"colorway\":[\"#1F77B4\",\"#FF7F0E\",\"#2CA02C\",\"#D62728\",\"#9467BD\",\"#8C564B\",\"#E377C2\",\"#7F7F7F\",\"#BCBD22\",\"#17BECF\"],\"font\":{\"color\":\"rgb(36,36,36)\"},\"geo\":{\"bgcolor\":\"white\",\"lakecolor\":\"white\",\"landcolor\":\"white\",\"showlakes\":true,\"showland\":true,\"subunitcolor\":\"white\"},\"hoverlabel\":{\"align\":\"left\"},\"hovermode\":\"closest\",\"mapbox\":{\"style\":\"light\"},\"paper_bgcolor\":\"white\",\"plot_bgcolor\":\"white\",\"polar\":{\"angularaxis\":{\"gridcolor\":\"rgb(232,232,232)\",\"linecolor\":\"rgb(36,36,36)\",\"showgrid\":false,\"showline\":true,\"ticks\":\"outside\"},\"bgcolor\":\"white\",\"radialaxis\":{\"gridcolor\":\"rgb(232,232,232)\",\"linecolor\":\"rgb(36,36,36)\",\"showgrid\":false,\"showline\":true,\"ticks\":\"outside\"}},\"scene\":{\"xaxis\":{\"backgroundcolor\":\"white\",\"gridcolor\":\"rgb(232,232,232)\",\"gridwidth\":2,\"linecolor\":\"rgb(36,36,36)\",\"showbackground\":true,\"showgrid\":false,\"showline\":true,\"ticks\":\"outside\",\"zeroline\":false,\"zerolinecolor\":\"rgb(36,36,36)\"},\"yaxis\":{\"backgroundcolor\":\"white\",\"gridcolor\":\"rgb(232,232,232)\",\"gridwidth\":2,\"linecolor\":\"rgb(36,36,36)\",\"showbackground\":true,\"showgrid\":false,\"showline\":true,\"ticks\":\"outside\",\"zeroline\":false,\"zerolinecolor\":\"rgb(36,36,36)\"},\"zaxis\":{\"backgroundcolor\":\"white\",\"gridcolor\":\"rgb(232,232,232)\",\"gridwidth\":2,\"linecolor\":\"rgb(36,36,36)\",\"showbackground\":true,\"showgrid\":false,\"showline\":true,\"ticks\":\"outside\",\"zeroline\":false,\"zerolinecolor\":\"rgb(36,36,36)\"}},\"shapedefaults\":{\"fillcolor\":\"black\",\"line\":{\"width\":0},\"opacity\":0.3},\"ternary\":{\"aaxis\":{\"gridcolor\":\"rgb(232,232,232)\",\"linecolor\":\"rgb(36,36,36)\",\"showgrid\":false,\"showline\":true,\"ticks\":\"outside\"},\"baxis\":{\"gridcolor\":\"rgb(232,232,232)\",\"linecolor\":\"rgb(36,36,36)\",\"showgrid\":false,\"showline\":true,\"ticks\":\"outside\"},\"bgcolor\":\"white\",\"caxis\":{\"gridcolor\":\"rgb(232,232,232)\",\"linecolor\":\"rgb(36,36,36)\",\"showgrid\":false,\"showline\":true,\"ticks\":\"outside\"}},\"title\":{\"x\":0.05},\"xaxis\":{\"automargin\":true,\"gridcolor\":\"rgb(232,232,232)\",\"linecolor\":\"rgb(36,36,36)\",\"showgrid\":false,\"showline\":true,\"ticks\":\"outside\",\"title\":{\"standoff\":15},\"zeroline\":false,\"zerolinecolor\":\"rgb(36,36,36)\"},\"yaxis\":{\"automargin\":true,\"gridcolor\":\"rgb(232,232,232)\",\"linecolor\":\"rgb(36,36,36)\",\"showgrid\":false,\"showline\":true,\"ticks\":\"outside\",\"title\":{\"standoff\":15},\"zeroline\":false,\"zerolinecolor\":\"rgb(36,36,36)\"}}},\"title\":{\"text\":\"Continous Variable Distribution\"},\"height\":400,\"annotations\":[{\"showarrow\":false,\"text\":\"Male\",\"x\":0.18,\"y\":-0.2,\"font\":{\"size\":20}},{\"showarrow\":false,\"text\":\"Female\",\"x\":0.84,\"y\":-0.2,\"font\":{\"size\":20}}]},                        {\"responsive\": true}                    ).then(function(){\n",
       "                            \n",
       "var gd = document.getElementById('af89de17-7454-4bf7-b89a-718fc4c12c75');\n",
       "var x = new MutationObserver(function (mutations, observer) {{\n",
       "        var display = window.getComputedStyle(gd).display;\n",
       "        if (!display || display === 'none') {{\n",
       "            console.log([gd, 'removed!']);\n",
       "            Plotly.purge(gd);\n",
       "            observer.disconnect();\n",
       "        }}\n",
       "}});\n",
       "\n",
       "// Listen for the removal of the full notebook cells\n",
       "var notebookContainer = gd.closest('#notebook-container');\n",
       "if (notebookContainer) {{\n",
       "    x.observe(notebookContainer, {childList: true});\n",
       "}}\n",
       "\n",
       "// Listen for the clearing of the current output cell\n",
       "var outputEl = gd.closest('.output');\n",
       "if (outputEl) {{\n",
       "    x.observe(outputEl, {childList: true});\n",
       "}}\n",
       "\n",
       "                        })                };                });            </script>        </div>"
      ]
     },
     "metadata": {},
     "output_type": "display_data"
    }
   ],
   "source": [
    "education_colors=['#ACDF87', 'darkgreen', 'seagreen', '#68BB59']\n",
    "gender_by_Settlement = pd.DataFrame(df.groupby('Sex')['Settlement size'].value_counts())\n",
    "label=['Small City', 'Mid Sized City', 'Big City']\n",
    "education_colors=['#ACDF87', 'darkgreen', 'seagreen', '#68BB59']\n",
    "gender_by_education = pd.DataFrame(df.groupby('Sex')['Education'].value_counts())\n",
    "fig = make_subplots(rows=1,cols=2, specs=[[{'type':'domain'}, {'type':'domain'}]])\n",
    "fig.add_trace(\n",
    "    go.Pie(labels=label,\n",
    "           values=[int(gender_by_Settlement.loc[0,0]),int(gender_by_Settlement.loc[0,1]),\n",
    "                  int(gender_by_Settlement.loc[0,2])],\n",
    "           textinfo='percent+label+value',\n",
    "           name='Male',\n",
    "           marker_colors=education_colors\n",
    "          ),\n",
    "    row=1,col=1\n",
    ")\n",
    "fig.add_trace(\n",
    "    go.Pie(labels=label,\n",
    "           values=[int(gender_by_Settlement.loc[1,0]),int(gender_by_Settlement.loc[1,1]),\n",
    "                  int(gender_by_Settlement.loc[1,2])],\n",
    "           textinfo='percent+label+value',\n",
    "           name='Female',\n",
    "           marker_colors=education_colors\n",
    "          ),\n",
    "    row=1,col=2\n",
    ")\n",
    "\n",
    "fig.update_layout(\n",
    "    height=400,\n",
    "    title_text=\"Continous Variable Distribution\", \n",
    "    template='simple_white',\n",
    "     annotations=[dict(text='Male', x=0.18, y=-0.2, font_size=20, showarrow=False),\n",
    "                 dict(text='Female', x=0.84, y=-0.2, font_size=20, showarrow=False)])\n",
    "fig.update_traces(marker_line_color='black', \n",
    "                  marker_line_width=1.5, \n",
    "                  opacity=0.8)\n",
    "fig.show()"
   ]
  },
  {
   "cell_type": "code",
   "execution_count": 178,
   "id": "8ab7db1f",
   "metadata": {},
   "outputs": [
    {
     "data": {
      "application/vnd.plotly.v1+json": {
       "config": {
        "plotlyServerURL": "https://plot.ly"
       },
       "data": [
        {
         "domain": {
          "x": [
           0,
           0.45
          ],
          "y": [
           0,
           1
          ]
         },
         "labels": [
          "Unemployed",
          "Employeed",
          "high Quality Employee"
         ],
         "marker": {
          "colors": [
           "#ACDF87",
           "darkgreen",
           "seagreen",
           "#68BB59"
          ],
          "line": {
           "color": "black",
           "width": 1.5
          }
         },
         "name": "Male",
         "opacity": 0.8,
         "textinfo": "percent+label+value",
         "type": "pie",
         "values": [
          271,
          621,
          194
         ]
        },
        {
         "domain": {
          "x": [
           0.55,
           1
          ],
          "y": [
           0,
           1
          ]
         },
         "labels": [
          "Unemployed",
          "Employeed",
          "high Quality Employee"
         ],
         "marker": {
          "colors": [
           "#ACDF87",
           "darkgreen",
           "seagreen",
           "#68BB59"
          ],
          "line": {
           "color": "black",
           "width": 1.5
          }
         },
         "name": "Female",
         "opacity": 0.8,
         "textinfo": "percent+label+value",
         "type": "pie",
         "values": [
          362,
          492,
          60
         ]
        }
       ],
       "layout": {
        "annotations": [
         {
          "font": {
           "size": 20
          },
          "showarrow": false,
          "text": "Male",
          "x": 0.18,
          "y": -0.2
         },
         {
          "font": {
           "size": 20
          },
          "showarrow": false,
          "text": "Female",
          "x": 0.84,
          "y": -0.2
         }
        ],
        "height": 400,
        "template": {
         "data": {
          "bar": [
           {
            "error_x": {
             "color": "rgb(36,36,36)"
            },
            "error_y": {
             "color": "rgb(36,36,36)"
            },
            "marker": {
             "line": {
              "color": "white",
              "width": 0.5
             },
             "pattern": {
              "fillmode": "overlay",
              "size": 10,
              "solidity": 0.2
             }
            },
            "type": "bar"
           }
          ],
          "barpolar": [
           {
            "marker": {
             "line": {
              "color": "white",
              "width": 0.5
             },
             "pattern": {
              "fillmode": "overlay",
              "size": 10,
              "solidity": 0.2
             }
            },
            "type": "barpolar"
           }
          ],
          "carpet": [
           {
            "aaxis": {
             "endlinecolor": "rgb(36,36,36)",
             "gridcolor": "white",
             "linecolor": "white",
             "minorgridcolor": "white",
             "startlinecolor": "rgb(36,36,36)"
            },
            "baxis": {
             "endlinecolor": "rgb(36,36,36)",
             "gridcolor": "white",
             "linecolor": "white",
             "minorgridcolor": "white",
             "startlinecolor": "rgb(36,36,36)"
            },
            "type": "carpet"
           }
          ],
          "choropleth": [
           {
            "colorbar": {
             "outlinewidth": 1,
             "tickcolor": "rgb(36,36,36)",
             "ticks": "outside"
            },
            "type": "choropleth"
           }
          ],
          "contour": [
           {
            "colorbar": {
             "outlinewidth": 1,
             "tickcolor": "rgb(36,36,36)",
             "ticks": "outside"
            },
            "colorscale": [
             [
              0,
              "#440154"
             ],
             [
              0.1111111111111111,
              "#482878"
             ],
             [
              0.2222222222222222,
              "#3e4989"
             ],
             [
              0.3333333333333333,
              "#31688e"
             ],
             [
              0.4444444444444444,
              "#26828e"
             ],
             [
              0.5555555555555556,
              "#1f9e89"
             ],
             [
              0.6666666666666666,
              "#35b779"
             ],
             [
              0.7777777777777778,
              "#6ece58"
             ],
             [
              0.8888888888888888,
              "#b5de2b"
             ],
             [
              1,
              "#fde725"
             ]
            ],
            "type": "contour"
           }
          ],
          "contourcarpet": [
           {
            "colorbar": {
             "outlinewidth": 1,
             "tickcolor": "rgb(36,36,36)",
             "ticks": "outside"
            },
            "type": "contourcarpet"
           }
          ],
          "heatmap": [
           {
            "colorbar": {
             "outlinewidth": 1,
             "tickcolor": "rgb(36,36,36)",
             "ticks": "outside"
            },
            "colorscale": [
             [
              0,
              "#440154"
             ],
             [
              0.1111111111111111,
              "#482878"
             ],
             [
              0.2222222222222222,
              "#3e4989"
             ],
             [
              0.3333333333333333,
              "#31688e"
             ],
             [
              0.4444444444444444,
              "#26828e"
             ],
             [
              0.5555555555555556,
              "#1f9e89"
             ],
             [
              0.6666666666666666,
              "#35b779"
             ],
             [
              0.7777777777777778,
              "#6ece58"
             ],
             [
              0.8888888888888888,
              "#b5de2b"
             ],
             [
              1,
              "#fde725"
             ]
            ],
            "type": "heatmap"
           }
          ],
          "heatmapgl": [
           {
            "colorbar": {
             "outlinewidth": 1,
             "tickcolor": "rgb(36,36,36)",
             "ticks": "outside"
            },
            "colorscale": [
             [
              0,
              "#440154"
             ],
             [
              0.1111111111111111,
              "#482878"
             ],
             [
              0.2222222222222222,
              "#3e4989"
             ],
             [
              0.3333333333333333,
              "#31688e"
             ],
             [
              0.4444444444444444,
              "#26828e"
             ],
             [
              0.5555555555555556,
              "#1f9e89"
             ],
             [
              0.6666666666666666,
              "#35b779"
             ],
             [
              0.7777777777777778,
              "#6ece58"
             ],
             [
              0.8888888888888888,
              "#b5de2b"
             ],
             [
              1,
              "#fde725"
             ]
            ],
            "type": "heatmapgl"
           }
          ],
          "histogram": [
           {
            "marker": {
             "line": {
              "color": "white",
              "width": 0.6
             }
            },
            "type": "histogram"
           }
          ],
          "histogram2d": [
           {
            "colorbar": {
             "outlinewidth": 1,
             "tickcolor": "rgb(36,36,36)",
             "ticks": "outside"
            },
            "colorscale": [
             [
              0,
              "#440154"
             ],
             [
              0.1111111111111111,
              "#482878"
             ],
             [
              0.2222222222222222,
              "#3e4989"
             ],
             [
              0.3333333333333333,
              "#31688e"
             ],
             [
              0.4444444444444444,
              "#26828e"
             ],
             [
              0.5555555555555556,
              "#1f9e89"
             ],
             [
              0.6666666666666666,
              "#35b779"
             ],
             [
              0.7777777777777778,
              "#6ece58"
             ],
             [
              0.8888888888888888,
              "#b5de2b"
             ],
             [
              1,
              "#fde725"
             ]
            ],
            "type": "histogram2d"
           }
          ],
          "histogram2dcontour": [
           {
            "colorbar": {
             "outlinewidth": 1,
             "tickcolor": "rgb(36,36,36)",
             "ticks": "outside"
            },
            "colorscale": [
             [
              0,
              "#440154"
             ],
             [
              0.1111111111111111,
              "#482878"
             ],
             [
              0.2222222222222222,
              "#3e4989"
             ],
             [
              0.3333333333333333,
              "#31688e"
             ],
             [
              0.4444444444444444,
              "#26828e"
             ],
             [
              0.5555555555555556,
              "#1f9e89"
             ],
             [
              0.6666666666666666,
              "#35b779"
             ],
             [
              0.7777777777777778,
              "#6ece58"
             ],
             [
              0.8888888888888888,
              "#b5de2b"
             ],
             [
              1,
              "#fde725"
             ]
            ],
            "type": "histogram2dcontour"
           }
          ],
          "mesh3d": [
           {
            "colorbar": {
             "outlinewidth": 1,
             "tickcolor": "rgb(36,36,36)",
             "ticks": "outside"
            },
            "type": "mesh3d"
           }
          ],
          "parcoords": [
           {
            "line": {
             "colorbar": {
              "outlinewidth": 1,
              "tickcolor": "rgb(36,36,36)",
              "ticks": "outside"
             }
            },
            "type": "parcoords"
           }
          ],
          "pie": [
           {
            "automargin": true,
            "type": "pie"
           }
          ],
          "scatter": [
           {
            "fillpattern": {
             "fillmode": "overlay",
             "size": 10,
             "solidity": 0.2
            },
            "type": "scatter"
           }
          ],
          "scatter3d": [
           {
            "line": {
             "colorbar": {
              "outlinewidth": 1,
              "tickcolor": "rgb(36,36,36)",
              "ticks": "outside"
             }
            },
            "marker": {
             "colorbar": {
              "outlinewidth": 1,
              "tickcolor": "rgb(36,36,36)",
              "ticks": "outside"
             }
            },
            "type": "scatter3d"
           }
          ],
          "scattercarpet": [
           {
            "marker": {
             "colorbar": {
              "outlinewidth": 1,
              "tickcolor": "rgb(36,36,36)",
              "ticks": "outside"
             }
            },
            "type": "scattercarpet"
           }
          ],
          "scattergeo": [
           {
            "marker": {
             "colorbar": {
              "outlinewidth": 1,
              "tickcolor": "rgb(36,36,36)",
              "ticks": "outside"
             }
            },
            "type": "scattergeo"
           }
          ],
          "scattergl": [
           {
            "marker": {
             "colorbar": {
              "outlinewidth": 1,
              "tickcolor": "rgb(36,36,36)",
              "ticks": "outside"
             }
            },
            "type": "scattergl"
           }
          ],
          "scattermapbox": [
           {
            "marker": {
             "colorbar": {
              "outlinewidth": 1,
              "tickcolor": "rgb(36,36,36)",
              "ticks": "outside"
             }
            },
            "type": "scattermapbox"
           }
          ],
          "scatterpolar": [
           {
            "marker": {
             "colorbar": {
              "outlinewidth": 1,
              "tickcolor": "rgb(36,36,36)",
              "ticks": "outside"
             }
            },
            "type": "scatterpolar"
           }
          ],
          "scatterpolargl": [
           {
            "marker": {
             "colorbar": {
              "outlinewidth": 1,
              "tickcolor": "rgb(36,36,36)",
              "ticks": "outside"
             }
            },
            "type": "scatterpolargl"
           }
          ],
          "scatterternary": [
           {
            "marker": {
             "colorbar": {
              "outlinewidth": 1,
              "tickcolor": "rgb(36,36,36)",
              "ticks": "outside"
             }
            },
            "type": "scatterternary"
           }
          ],
          "surface": [
           {
            "colorbar": {
             "outlinewidth": 1,
             "tickcolor": "rgb(36,36,36)",
             "ticks": "outside"
            },
            "colorscale": [
             [
              0,
              "#440154"
             ],
             [
              0.1111111111111111,
              "#482878"
             ],
             [
              0.2222222222222222,
              "#3e4989"
             ],
             [
              0.3333333333333333,
              "#31688e"
             ],
             [
              0.4444444444444444,
              "#26828e"
             ],
             [
              0.5555555555555556,
              "#1f9e89"
             ],
             [
              0.6666666666666666,
              "#35b779"
             ],
             [
              0.7777777777777778,
              "#6ece58"
             ],
             [
              0.8888888888888888,
              "#b5de2b"
             ],
             [
              1,
              "#fde725"
             ]
            ],
            "type": "surface"
           }
          ],
          "table": [
           {
            "cells": {
             "fill": {
              "color": "rgb(237,237,237)"
             },
             "line": {
              "color": "white"
             }
            },
            "header": {
             "fill": {
              "color": "rgb(217,217,217)"
             },
             "line": {
              "color": "white"
             }
            },
            "type": "table"
           }
          ]
         },
         "layout": {
          "annotationdefaults": {
           "arrowhead": 0,
           "arrowwidth": 1
          },
          "autotypenumbers": "strict",
          "coloraxis": {
           "colorbar": {
            "outlinewidth": 1,
            "tickcolor": "rgb(36,36,36)",
            "ticks": "outside"
           }
          },
          "colorscale": {
           "diverging": [
            [
             0,
             "rgb(103,0,31)"
            ],
            [
             0.1,
             "rgb(178,24,43)"
            ],
            [
             0.2,
             "rgb(214,96,77)"
            ],
            [
             0.3,
             "rgb(244,165,130)"
            ],
            [
             0.4,
             "rgb(253,219,199)"
            ],
            [
             0.5,
             "rgb(247,247,247)"
            ],
            [
             0.6,
             "rgb(209,229,240)"
            ],
            [
             0.7,
             "rgb(146,197,222)"
            ],
            [
             0.8,
             "rgb(67,147,195)"
            ],
            [
             0.9,
             "rgb(33,102,172)"
            ],
            [
             1,
             "rgb(5,48,97)"
            ]
           ],
           "sequential": [
            [
             0,
             "#440154"
            ],
            [
             0.1111111111111111,
             "#482878"
            ],
            [
             0.2222222222222222,
             "#3e4989"
            ],
            [
             0.3333333333333333,
             "#31688e"
            ],
            [
             0.4444444444444444,
             "#26828e"
            ],
            [
             0.5555555555555556,
             "#1f9e89"
            ],
            [
             0.6666666666666666,
             "#35b779"
            ],
            [
             0.7777777777777778,
             "#6ece58"
            ],
            [
             0.8888888888888888,
             "#b5de2b"
            ],
            [
             1,
             "#fde725"
            ]
           ],
           "sequentialminus": [
            [
             0,
             "#440154"
            ],
            [
             0.1111111111111111,
             "#482878"
            ],
            [
             0.2222222222222222,
             "#3e4989"
            ],
            [
             0.3333333333333333,
             "#31688e"
            ],
            [
             0.4444444444444444,
             "#26828e"
            ],
            [
             0.5555555555555556,
             "#1f9e89"
            ],
            [
             0.6666666666666666,
             "#35b779"
            ],
            [
             0.7777777777777778,
             "#6ece58"
            ],
            [
             0.8888888888888888,
             "#b5de2b"
            ],
            [
             1,
             "#fde725"
            ]
           ]
          },
          "colorway": [
           "#1F77B4",
           "#FF7F0E",
           "#2CA02C",
           "#D62728",
           "#9467BD",
           "#8C564B",
           "#E377C2",
           "#7F7F7F",
           "#BCBD22",
           "#17BECF"
          ],
          "font": {
           "color": "rgb(36,36,36)"
          },
          "geo": {
           "bgcolor": "white",
           "lakecolor": "white",
           "landcolor": "white",
           "showlakes": true,
           "showland": true,
           "subunitcolor": "white"
          },
          "hoverlabel": {
           "align": "left"
          },
          "hovermode": "closest",
          "mapbox": {
           "style": "light"
          },
          "paper_bgcolor": "white",
          "plot_bgcolor": "white",
          "polar": {
           "angularaxis": {
            "gridcolor": "rgb(232,232,232)",
            "linecolor": "rgb(36,36,36)",
            "showgrid": false,
            "showline": true,
            "ticks": "outside"
           },
           "bgcolor": "white",
           "radialaxis": {
            "gridcolor": "rgb(232,232,232)",
            "linecolor": "rgb(36,36,36)",
            "showgrid": false,
            "showline": true,
            "ticks": "outside"
           }
          },
          "scene": {
           "xaxis": {
            "backgroundcolor": "white",
            "gridcolor": "rgb(232,232,232)",
            "gridwidth": 2,
            "linecolor": "rgb(36,36,36)",
            "showbackground": true,
            "showgrid": false,
            "showline": true,
            "ticks": "outside",
            "zeroline": false,
            "zerolinecolor": "rgb(36,36,36)"
           },
           "yaxis": {
            "backgroundcolor": "white",
            "gridcolor": "rgb(232,232,232)",
            "gridwidth": 2,
            "linecolor": "rgb(36,36,36)",
            "showbackground": true,
            "showgrid": false,
            "showline": true,
            "ticks": "outside",
            "zeroline": false,
            "zerolinecolor": "rgb(36,36,36)"
           },
           "zaxis": {
            "backgroundcolor": "white",
            "gridcolor": "rgb(232,232,232)",
            "gridwidth": 2,
            "linecolor": "rgb(36,36,36)",
            "showbackground": true,
            "showgrid": false,
            "showline": true,
            "ticks": "outside",
            "zeroline": false,
            "zerolinecolor": "rgb(36,36,36)"
           }
          },
          "shapedefaults": {
           "fillcolor": "black",
           "line": {
            "width": 0
           },
           "opacity": 0.3
          },
          "ternary": {
           "aaxis": {
            "gridcolor": "rgb(232,232,232)",
            "linecolor": "rgb(36,36,36)",
            "showgrid": false,
            "showline": true,
            "ticks": "outside"
           },
           "baxis": {
            "gridcolor": "rgb(232,232,232)",
            "linecolor": "rgb(36,36,36)",
            "showgrid": false,
            "showline": true,
            "ticks": "outside"
           },
           "bgcolor": "white",
           "caxis": {
            "gridcolor": "rgb(232,232,232)",
            "linecolor": "rgb(36,36,36)",
            "showgrid": false,
            "showline": true,
            "ticks": "outside"
           }
          },
          "title": {
           "x": 0.05
          },
          "xaxis": {
           "automargin": true,
           "gridcolor": "rgb(232,232,232)",
           "linecolor": "rgb(36,36,36)",
           "showgrid": false,
           "showline": true,
           "ticks": "outside",
           "title": {
            "standoff": 15
           },
           "zeroline": false,
           "zerolinecolor": "rgb(36,36,36)"
          },
          "yaxis": {
           "automargin": true,
           "gridcolor": "rgb(232,232,232)",
           "linecolor": "rgb(36,36,36)",
           "showgrid": false,
           "showline": true,
           "ticks": "outside",
           "title": {
            "standoff": 15
           },
           "zeroline": false,
           "zerolinecolor": "rgb(36,36,36)"
          }
         }
        },
        "title": {
         "text": "Continous Variable Distribution"
        }
       }
      },
      "text/html": [
       "<div>                            <div id=\"f1cbb26c-9d8f-4cf9-9bef-66904a8d7ba1\" class=\"plotly-graph-div\" style=\"height:400px; width:100%;\"></div>            <script type=\"text/javascript\">                require([\"plotly\"], function(Plotly) {                    window.PLOTLYENV=window.PLOTLYENV || {};                                    if (document.getElementById(\"f1cbb26c-9d8f-4cf9-9bef-66904a8d7ba1\")) {                    Plotly.newPlot(                        \"f1cbb26c-9d8f-4cf9-9bef-66904a8d7ba1\",                        [{\"labels\":[\"Unemployed\",\"Employeed\",\"high Quality Employee\"],\"marker\":{\"colors\":[\"#ACDF87\",\"darkgreen\",\"seagreen\",\"#68BB59\"],\"line\":{\"color\":\"black\",\"width\":1.5}},\"name\":\"Male\",\"textinfo\":\"percent+label+value\",\"values\":[271,621,194],\"type\":\"pie\",\"domain\":{\"x\":[0.0,0.45],\"y\":[0.0,1.0]},\"opacity\":0.8},{\"labels\":[\"Unemployed\",\"Employeed\",\"high Quality Employee\"],\"marker\":{\"colors\":[\"#ACDF87\",\"darkgreen\",\"seagreen\",\"#68BB59\"],\"line\":{\"color\":\"black\",\"width\":1.5}},\"name\":\"Female\",\"textinfo\":\"percent+label+value\",\"values\":[362,492,60],\"type\":\"pie\",\"domain\":{\"x\":[0.55,1.0],\"y\":[0.0,1.0]},\"opacity\":0.8}],                        {\"template\":{\"data\":{\"barpolar\":[{\"marker\":{\"line\":{\"color\":\"white\",\"width\":0.5},\"pattern\":{\"fillmode\":\"overlay\",\"size\":10,\"solidity\":0.2}},\"type\":\"barpolar\"}],\"bar\":[{\"error_x\":{\"color\":\"rgb(36,36,36)\"},\"error_y\":{\"color\":\"rgb(36,36,36)\"},\"marker\":{\"line\":{\"color\":\"white\",\"width\":0.5},\"pattern\":{\"fillmode\":\"overlay\",\"size\":10,\"solidity\":0.2}},\"type\":\"bar\"}],\"carpet\":[{\"aaxis\":{\"endlinecolor\":\"rgb(36,36,36)\",\"gridcolor\":\"white\",\"linecolor\":\"white\",\"minorgridcolor\":\"white\",\"startlinecolor\":\"rgb(36,36,36)\"},\"baxis\":{\"endlinecolor\":\"rgb(36,36,36)\",\"gridcolor\":\"white\",\"linecolor\":\"white\",\"minorgridcolor\":\"white\",\"startlinecolor\":\"rgb(36,36,36)\"},\"type\":\"carpet\"}],\"choropleth\":[{\"colorbar\":{\"outlinewidth\":1,\"tickcolor\":\"rgb(36,36,36)\",\"ticks\":\"outside\"},\"type\":\"choropleth\"}],\"contourcarpet\":[{\"colorbar\":{\"outlinewidth\":1,\"tickcolor\":\"rgb(36,36,36)\",\"ticks\":\"outside\"},\"type\":\"contourcarpet\"}],\"contour\":[{\"colorbar\":{\"outlinewidth\":1,\"tickcolor\":\"rgb(36,36,36)\",\"ticks\":\"outside\"},\"colorscale\":[[0.0,\"#440154\"],[0.1111111111111111,\"#482878\"],[0.2222222222222222,\"#3e4989\"],[0.3333333333333333,\"#31688e\"],[0.4444444444444444,\"#26828e\"],[0.5555555555555556,\"#1f9e89\"],[0.6666666666666666,\"#35b779\"],[0.7777777777777778,\"#6ece58\"],[0.8888888888888888,\"#b5de2b\"],[1.0,\"#fde725\"]],\"type\":\"contour\"}],\"heatmapgl\":[{\"colorbar\":{\"outlinewidth\":1,\"tickcolor\":\"rgb(36,36,36)\",\"ticks\":\"outside\"},\"colorscale\":[[0.0,\"#440154\"],[0.1111111111111111,\"#482878\"],[0.2222222222222222,\"#3e4989\"],[0.3333333333333333,\"#31688e\"],[0.4444444444444444,\"#26828e\"],[0.5555555555555556,\"#1f9e89\"],[0.6666666666666666,\"#35b779\"],[0.7777777777777778,\"#6ece58\"],[0.8888888888888888,\"#b5de2b\"],[1.0,\"#fde725\"]],\"type\":\"heatmapgl\"}],\"heatmap\":[{\"colorbar\":{\"outlinewidth\":1,\"tickcolor\":\"rgb(36,36,36)\",\"ticks\":\"outside\"},\"colorscale\":[[0.0,\"#440154\"],[0.1111111111111111,\"#482878\"],[0.2222222222222222,\"#3e4989\"],[0.3333333333333333,\"#31688e\"],[0.4444444444444444,\"#26828e\"],[0.5555555555555556,\"#1f9e89\"],[0.6666666666666666,\"#35b779\"],[0.7777777777777778,\"#6ece58\"],[0.8888888888888888,\"#b5de2b\"],[1.0,\"#fde725\"]],\"type\":\"heatmap\"}],\"histogram2dcontour\":[{\"colorbar\":{\"outlinewidth\":1,\"tickcolor\":\"rgb(36,36,36)\",\"ticks\":\"outside\"},\"colorscale\":[[0.0,\"#440154\"],[0.1111111111111111,\"#482878\"],[0.2222222222222222,\"#3e4989\"],[0.3333333333333333,\"#31688e\"],[0.4444444444444444,\"#26828e\"],[0.5555555555555556,\"#1f9e89\"],[0.6666666666666666,\"#35b779\"],[0.7777777777777778,\"#6ece58\"],[0.8888888888888888,\"#b5de2b\"],[1.0,\"#fde725\"]],\"type\":\"histogram2dcontour\"}],\"histogram2d\":[{\"colorbar\":{\"outlinewidth\":1,\"tickcolor\":\"rgb(36,36,36)\",\"ticks\":\"outside\"},\"colorscale\":[[0.0,\"#440154\"],[0.1111111111111111,\"#482878\"],[0.2222222222222222,\"#3e4989\"],[0.3333333333333333,\"#31688e\"],[0.4444444444444444,\"#26828e\"],[0.5555555555555556,\"#1f9e89\"],[0.6666666666666666,\"#35b779\"],[0.7777777777777778,\"#6ece58\"],[0.8888888888888888,\"#b5de2b\"],[1.0,\"#fde725\"]],\"type\":\"histogram2d\"}],\"histogram\":[{\"marker\":{\"line\":{\"color\":\"white\",\"width\":0.6}},\"type\":\"histogram\"}],\"mesh3d\":[{\"colorbar\":{\"outlinewidth\":1,\"tickcolor\":\"rgb(36,36,36)\",\"ticks\":\"outside\"},\"type\":\"mesh3d\"}],\"parcoords\":[{\"line\":{\"colorbar\":{\"outlinewidth\":1,\"tickcolor\":\"rgb(36,36,36)\",\"ticks\":\"outside\"}},\"type\":\"parcoords\"}],\"pie\":[{\"automargin\":true,\"type\":\"pie\"}],\"scatter3d\":[{\"line\":{\"colorbar\":{\"outlinewidth\":1,\"tickcolor\":\"rgb(36,36,36)\",\"ticks\":\"outside\"}},\"marker\":{\"colorbar\":{\"outlinewidth\":1,\"tickcolor\":\"rgb(36,36,36)\",\"ticks\":\"outside\"}},\"type\":\"scatter3d\"}],\"scattercarpet\":[{\"marker\":{\"colorbar\":{\"outlinewidth\":1,\"tickcolor\":\"rgb(36,36,36)\",\"ticks\":\"outside\"}},\"type\":\"scattercarpet\"}],\"scattergeo\":[{\"marker\":{\"colorbar\":{\"outlinewidth\":1,\"tickcolor\":\"rgb(36,36,36)\",\"ticks\":\"outside\"}},\"type\":\"scattergeo\"}],\"scattergl\":[{\"marker\":{\"colorbar\":{\"outlinewidth\":1,\"tickcolor\":\"rgb(36,36,36)\",\"ticks\":\"outside\"}},\"type\":\"scattergl\"}],\"scattermapbox\":[{\"marker\":{\"colorbar\":{\"outlinewidth\":1,\"tickcolor\":\"rgb(36,36,36)\",\"ticks\":\"outside\"}},\"type\":\"scattermapbox\"}],\"scatterpolargl\":[{\"marker\":{\"colorbar\":{\"outlinewidth\":1,\"tickcolor\":\"rgb(36,36,36)\",\"ticks\":\"outside\"}},\"type\":\"scatterpolargl\"}],\"scatterpolar\":[{\"marker\":{\"colorbar\":{\"outlinewidth\":1,\"tickcolor\":\"rgb(36,36,36)\",\"ticks\":\"outside\"}},\"type\":\"scatterpolar\"}],\"scatter\":[{\"fillpattern\":{\"fillmode\":\"overlay\",\"size\":10,\"solidity\":0.2},\"type\":\"scatter\"}],\"scatterternary\":[{\"marker\":{\"colorbar\":{\"outlinewidth\":1,\"tickcolor\":\"rgb(36,36,36)\",\"ticks\":\"outside\"}},\"type\":\"scatterternary\"}],\"surface\":[{\"colorbar\":{\"outlinewidth\":1,\"tickcolor\":\"rgb(36,36,36)\",\"ticks\":\"outside\"},\"colorscale\":[[0.0,\"#440154\"],[0.1111111111111111,\"#482878\"],[0.2222222222222222,\"#3e4989\"],[0.3333333333333333,\"#31688e\"],[0.4444444444444444,\"#26828e\"],[0.5555555555555556,\"#1f9e89\"],[0.6666666666666666,\"#35b779\"],[0.7777777777777778,\"#6ece58\"],[0.8888888888888888,\"#b5de2b\"],[1.0,\"#fde725\"]],\"type\":\"surface\"}],\"table\":[{\"cells\":{\"fill\":{\"color\":\"rgb(237,237,237)\"},\"line\":{\"color\":\"white\"}},\"header\":{\"fill\":{\"color\":\"rgb(217,217,217)\"},\"line\":{\"color\":\"white\"}},\"type\":\"table\"}]},\"layout\":{\"annotationdefaults\":{\"arrowhead\":0,\"arrowwidth\":1},\"autotypenumbers\":\"strict\",\"coloraxis\":{\"colorbar\":{\"outlinewidth\":1,\"tickcolor\":\"rgb(36,36,36)\",\"ticks\":\"outside\"}},\"colorscale\":{\"diverging\":[[0.0,\"rgb(103,0,31)\"],[0.1,\"rgb(178,24,43)\"],[0.2,\"rgb(214,96,77)\"],[0.3,\"rgb(244,165,130)\"],[0.4,\"rgb(253,219,199)\"],[0.5,\"rgb(247,247,247)\"],[0.6,\"rgb(209,229,240)\"],[0.7,\"rgb(146,197,222)\"],[0.8,\"rgb(67,147,195)\"],[0.9,\"rgb(33,102,172)\"],[1.0,\"rgb(5,48,97)\"]],\"sequential\":[[0.0,\"#440154\"],[0.1111111111111111,\"#482878\"],[0.2222222222222222,\"#3e4989\"],[0.3333333333333333,\"#31688e\"],[0.4444444444444444,\"#26828e\"],[0.5555555555555556,\"#1f9e89\"],[0.6666666666666666,\"#35b779\"],[0.7777777777777778,\"#6ece58\"],[0.8888888888888888,\"#b5de2b\"],[1.0,\"#fde725\"]],\"sequentialminus\":[[0.0,\"#440154\"],[0.1111111111111111,\"#482878\"],[0.2222222222222222,\"#3e4989\"],[0.3333333333333333,\"#31688e\"],[0.4444444444444444,\"#26828e\"],[0.5555555555555556,\"#1f9e89\"],[0.6666666666666666,\"#35b779\"],[0.7777777777777778,\"#6ece58\"],[0.8888888888888888,\"#b5de2b\"],[1.0,\"#fde725\"]]},\"colorway\":[\"#1F77B4\",\"#FF7F0E\",\"#2CA02C\",\"#D62728\",\"#9467BD\",\"#8C564B\",\"#E377C2\",\"#7F7F7F\",\"#BCBD22\",\"#17BECF\"],\"font\":{\"color\":\"rgb(36,36,36)\"},\"geo\":{\"bgcolor\":\"white\",\"lakecolor\":\"white\",\"landcolor\":\"white\",\"showlakes\":true,\"showland\":true,\"subunitcolor\":\"white\"},\"hoverlabel\":{\"align\":\"left\"},\"hovermode\":\"closest\",\"mapbox\":{\"style\":\"light\"},\"paper_bgcolor\":\"white\",\"plot_bgcolor\":\"white\",\"polar\":{\"angularaxis\":{\"gridcolor\":\"rgb(232,232,232)\",\"linecolor\":\"rgb(36,36,36)\",\"showgrid\":false,\"showline\":true,\"ticks\":\"outside\"},\"bgcolor\":\"white\",\"radialaxis\":{\"gridcolor\":\"rgb(232,232,232)\",\"linecolor\":\"rgb(36,36,36)\",\"showgrid\":false,\"showline\":true,\"ticks\":\"outside\"}},\"scene\":{\"xaxis\":{\"backgroundcolor\":\"white\",\"gridcolor\":\"rgb(232,232,232)\",\"gridwidth\":2,\"linecolor\":\"rgb(36,36,36)\",\"showbackground\":true,\"showgrid\":false,\"showline\":true,\"ticks\":\"outside\",\"zeroline\":false,\"zerolinecolor\":\"rgb(36,36,36)\"},\"yaxis\":{\"backgroundcolor\":\"white\",\"gridcolor\":\"rgb(232,232,232)\",\"gridwidth\":2,\"linecolor\":\"rgb(36,36,36)\",\"showbackground\":true,\"showgrid\":false,\"showline\":true,\"ticks\":\"outside\",\"zeroline\":false,\"zerolinecolor\":\"rgb(36,36,36)\"},\"zaxis\":{\"backgroundcolor\":\"white\",\"gridcolor\":\"rgb(232,232,232)\",\"gridwidth\":2,\"linecolor\":\"rgb(36,36,36)\",\"showbackground\":true,\"showgrid\":false,\"showline\":true,\"ticks\":\"outside\",\"zeroline\":false,\"zerolinecolor\":\"rgb(36,36,36)\"}},\"shapedefaults\":{\"fillcolor\":\"black\",\"line\":{\"width\":0},\"opacity\":0.3},\"ternary\":{\"aaxis\":{\"gridcolor\":\"rgb(232,232,232)\",\"linecolor\":\"rgb(36,36,36)\",\"showgrid\":false,\"showline\":true,\"ticks\":\"outside\"},\"baxis\":{\"gridcolor\":\"rgb(232,232,232)\",\"linecolor\":\"rgb(36,36,36)\",\"showgrid\":false,\"showline\":true,\"ticks\":\"outside\"},\"bgcolor\":\"white\",\"caxis\":{\"gridcolor\":\"rgb(232,232,232)\",\"linecolor\":\"rgb(36,36,36)\",\"showgrid\":false,\"showline\":true,\"ticks\":\"outside\"}},\"title\":{\"x\":0.05},\"xaxis\":{\"automargin\":true,\"gridcolor\":\"rgb(232,232,232)\",\"linecolor\":\"rgb(36,36,36)\",\"showgrid\":false,\"showline\":true,\"ticks\":\"outside\",\"title\":{\"standoff\":15},\"zeroline\":false,\"zerolinecolor\":\"rgb(36,36,36)\"},\"yaxis\":{\"automargin\":true,\"gridcolor\":\"rgb(232,232,232)\",\"linecolor\":\"rgb(36,36,36)\",\"showgrid\":false,\"showline\":true,\"ticks\":\"outside\",\"title\":{\"standoff\":15},\"zeroline\":false,\"zerolinecolor\":\"rgb(36,36,36)\"}}},\"title\":{\"text\":\"Continous Variable Distribution\"},\"height\":400,\"annotations\":[{\"showarrow\":false,\"text\":\"Male\",\"x\":0.18,\"y\":-0.2,\"font\":{\"size\":20}},{\"showarrow\":false,\"text\":\"Female\",\"x\":0.84,\"y\":-0.2,\"font\":{\"size\":20}}]},                        {\"responsive\": true}                    ).then(function(){\n",
       "                            \n",
       "var gd = document.getElementById('f1cbb26c-9d8f-4cf9-9bef-66904a8d7ba1');\n",
       "var x = new MutationObserver(function (mutations, observer) {{\n",
       "        var display = window.getComputedStyle(gd).display;\n",
       "        if (!display || display === 'none') {{\n",
       "            console.log([gd, 'removed!']);\n",
       "            Plotly.purge(gd);\n",
       "            observer.disconnect();\n",
       "        }}\n",
       "}});\n",
       "\n",
       "// Listen for the removal of the full notebook cells\n",
       "var notebookContainer = gd.closest('#notebook-container');\n",
       "if (notebookContainer) {{\n",
       "    x.observe(notebookContainer, {childList: true});\n",
       "}}\n",
       "\n",
       "// Listen for the clearing of the current output cell\n",
       "var outputEl = gd.closest('.output');\n",
       "if (outputEl) {{\n",
       "    x.observe(outputEl, {childList: true});\n",
       "}}\n",
       "\n",
       "                        })                };                });            </script>        </div>"
      ]
     },
     "metadata": {},
     "output_type": "display_data"
    }
   ],
   "source": [
    "education_colors=['#ACDF87', 'darkgreen', 'seagreen', '#68BB59']\n",
    "gender_by_Occupation = pd.DataFrame(df.groupby('Sex')['Occupation'].value_counts())\n",
    "label=['Unemployed','Employeed','high Quality Employee']\n",
    "education_colors=['#ACDF87', 'darkgreen', 'seagreen', '#68BB59']\n",
    "fig = make_subplots(rows=1,cols=2, specs=[[{'type':'domain'}, {'type':'domain'}]])\n",
    "fig.add_trace(\n",
    "    go.Pie(labels=label,\n",
    "           values=[int(gender_by_Occupation.loc[0,0]),int(gender_by_Occupation.loc[0,1]),\n",
    "                  int(gender_by_Occupation.loc[0,2])],\n",
    "           textinfo='percent+label+value',\n",
    "           name='Male',\n",
    "           marker_colors=education_colors\n",
    "          ),\n",
    "    row=1,col=1\n",
    ")\n",
    "fig.add_trace(\n",
    "    go.Pie(labels=label,\n",
    "           values=[int(gender_by_Occupation.loc[1,0]),int(gender_by_Occupation.loc[1,1]),\n",
    "                  int(gender_by_Occupation.loc[1,2])],\n",
    "           textinfo='percent+label+value',\n",
    "           name='Female',\n",
    "           marker_colors=education_colors\n",
    "          ),\n",
    "    row=1,col=2\n",
    ")\n",
    "\n",
    "fig.update_layout(\n",
    "    height=400,\n",
    "    title_text=\"Continous Variable Distribution\", \n",
    "    template='simple_white',\n",
    "     annotations=[dict(text='Male', x=0.18, y=-0.2, font_size=20, showarrow=False),\n",
    "                 dict(text='Female', x=0.84, y=-0.2, font_size=20, showarrow=False)])\n",
    "fig.update_traces(marker_line_color='black', \n",
    "                  marker_line_width=1.5, \n",
    "                  opacity=0.8)\n",
    "fig.show()"
   ]
  },
  {
   "cell_type": "code",
   "execution_count": 179,
   "id": "8fa26126",
   "metadata": {},
   "outputs": [
    {
     "data": {
      "application/vnd.plotly.v1+json": {
       "config": {
        "plotlyServerURL": "https://plot.ly"
       },
       "data": [
        {
         "marker": {
          "color": [
           "rgb(211, 242, 163)",
           "rgb(151, 225, 150)",
           "rgb(108, 192, 139)",
           "rgb(76, 155, 130)",
           "rgb(33, 122, 121)",
           "rgb(16, 89, 101)",
           "rgb(7, 64, 80)"
          ],
          "line": {
           "color": "black",
           "width": 1.5
          }
         },
         "name": "Sex",
         "opacity": 0.8,
         "text": [
          112850.047,
          127775.226
         ],
         "textfont": {
          "size": 10
         },
         "textposition": "inside",
         "type": "bar",
         "x": [
          "1",
          "0"
         ],
         "xaxis": "x",
         "y": [
          112850.04704595185,
          127775.2255985267
         ],
         "yaxis": "y"
        },
        {
         "marker": {
          "color": [
           "rgb(211, 242, 163)",
           "rgb(151, 225, 150)",
           "rgb(108, 192, 139)",
           "rgb(76, 155, 130)",
           "rgb(33, 122, 121)",
           "rgb(16, 89, 101)",
           "rgb(7, 64, 80)"
          ],
          "line": {
           "color": "black",
           "width": 1.5
          }
         },
         "name": "Education",
         "opacity": 0.8,
         "text": [
          115068.213,
          116367.72,
          145405.983,
          146818.333
         ],
         "textfont": {
          "size": 10
         },
         "textposition": "inside",
         "type": "bar",
         "x": [
          "0",
          "1",
          "2",
          "3"
         ],
         "xaxis": "x2",
         "y": [
          115068.21254355401,
          116367.72005772006,
          145405.98281786943,
          146818.33333333334
         ],
         "yaxis": "y2"
        },
        {
         "marker": {
          "color": [
           "rgb(211, 242, 163)",
           "rgb(151, 225, 150)",
           "rgb(108, 192, 139)",
           "rgb(76, 155, 130)",
           "rgb(33, 122, 121)",
           "rgb(16, 89, 101)",
           "rgb(7, 64, 80)"
          ],
          "line": {
           "color": "black",
           "width": 1.5
          }
         },
         "name": "Settlement",
         "opacity": 0.8,
         "text": [
          101061.788,
          137430.344,
          143889.985
         ],
         "textfont": {
          "size": 10
         },
         "textposition": "inside",
         "type": "bar",
         "x": [
          "0",
          "1",
          "2"
         ],
         "xaxis": "x3",
         "y": [
          101061.78766430738,
          137430.34375,
          143889.98501070664
         ],
         "yaxis": "y3"
        }
       ],
       "layout": {
        "height": 700,
        "template": {
         "data": {
          "bar": [
           {
            "error_x": {
             "color": "rgb(36,36,36)"
            },
            "error_y": {
             "color": "rgb(36,36,36)"
            },
            "marker": {
             "line": {
              "color": "white",
              "width": 0.5
             },
             "pattern": {
              "fillmode": "overlay",
              "size": 10,
              "solidity": 0.2
             }
            },
            "type": "bar"
           }
          ],
          "barpolar": [
           {
            "marker": {
             "line": {
              "color": "white",
              "width": 0.5
             },
             "pattern": {
              "fillmode": "overlay",
              "size": 10,
              "solidity": 0.2
             }
            },
            "type": "barpolar"
           }
          ],
          "carpet": [
           {
            "aaxis": {
             "endlinecolor": "rgb(36,36,36)",
             "gridcolor": "white",
             "linecolor": "white",
             "minorgridcolor": "white",
             "startlinecolor": "rgb(36,36,36)"
            },
            "baxis": {
             "endlinecolor": "rgb(36,36,36)",
             "gridcolor": "white",
             "linecolor": "white",
             "minorgridcolor": "white",
             "startlinecolor": "rgb(36,36,36)"
            },
            "type": "carpet"
           }
          ],
          "choropleth": [
           {
            "colorbar": {
             "outlinewidth": 1,
             "tickcolor": "rgb(36,36,36)",
             "ticks": "outside"
            },
            "type": "choropleth"
           }
          ],
          "contour": [
           {
            "colorbar": {
             "outlinewidth": 1,
             "tickcolor": "rgb(36,36,36)",
             "ticks": "outside"
            },
            "colorscale": [
             [
              0,
              "#440154"
             ],
             [
              0.1111111111111111,
              "#482878"
             ],
             [
              0.2222222222222222,
              "#3e4989"
             ],
             [
              0.3333333333333333,
              "#31688e"
             ],
             [
              0.4444444444444444,
              "#26828e"
             ],
             [
              0.5555555555555556,
              "#1f9e89"
             ],
             [
              0.6666666666666666,
              "#35b779"
             ],
             [
              0.7777777777777778,
              "#6ece58"
             ],
             [
              0.8888888888888888,
              "#b5de2b"
             ],
             [
              1,
              "#fde725"
             ]
            ],
            "type": "contour"
           }
          ],
          "contourcarpet": [
           {
            "colorbar": {
             "outlinewidth": 1,
             "tickcolor": "rgb(36,36,36)",
             "ticks": "outside"
            },
            "type": "contourcarpet"
           }
          ],
          "heatmap": [
           {
            "colorbar": {
             "outlinewidth": 1,
             "tickcolor": "rgb(36,36,36)",
             "ticks": "outside"
            },
            "colorscale": [
             [
              0,
              "#440154"
             ],
             [
              0.1111111111111111,
              "#482878"
             ],
             [
              0.2222222222222222,
              "#3e4989"
             ],
             [
              0.3333333333333333,
              "#31688e"
             ],
             [
              0.4444444444444444,
              "#26828e"
             ],
             [
              0.5555555555555556,
              "#1f9e89"
             ],
             [
              0.6666666666666666,
              "#35b779"
             ],
             [
              0.7777777777777778,
              "#6ece58"
             ],
             [
              0.8888888888888888,
              "#b5de2b"
             ],
             [
              1,
              "#fde725"
             ]
            ],
            "type": "heatmap"
           }
          ],
          "heatmapgl": [
           {
            "colorbar": {
             "outlinewidth": 1,
             "tickcolor": "rgb(36,36,36)",
             "ticks": "outside"
            },
            "colorscale": [
             [
              0,
              "#440154"
             ],
             [
              0.1111111111111111,
              "#482878"
             ],
             [
              0.2222222222222222,
              "#3e4989"
             ],
             [
              0.3333333333333333,
              "#31688e"
             ],
             [
              0.4444444444444444,
              "#26828e"
             ],
             [
              0.5555555555555556,
              "#1f9e89"
             ],
             [
              0.6666666666666666,
              "#35b779"
             ],
             [
              0.7777777777777778,
              "#6ece58"
             ],
             [
              0.8888888888888888,
              "#b5de2b"
             ],
             [
              1,
              "#fde725"
             ]
            ],
            "type": "heatmapgl"
           }
          ],
          "histogram": [
           {
            "marker": {
             "line": {
              "color": "white",
              "width": 0.6
             }
            },
            "type": "histogram"
           }
          ],
          "histogram2d": [
           {
            "colorbar": {
             "outlinewidth": 1,
             "tickcolor": "rgb(36,36,36)",
             "ticks": "outside"
            },
            "colorscale": [
             [
              0,
              "#440154"
             ],
             [
              0.1111111111111111,
              "#482878"
             ],
             [
              0.2222222222222222,
              "#3e4989"
             ],
             [
              0.3333333333333333,
              "#31688e"
             ],
             [
              0.4444444444444444,
              "#26828e"
             ],
             [
              0.5555555555555556,
              "#1f9e89"
             ],
             [
              0.6666666666666666,
              "#35b779"
             ],
             [
              0.7777777777777778,
              "#6ece58"
             ],
             [
              0.8888888888888888,
              "#b5de2b"
             ],
             [
              1,
              "#fde725"
             ]
            ],
            "type": "histogram2d"
           }
          ],
          "histogram2dcontour": [
           {
            "colorbar": {
             "outlinewidth": 1,
             "tickcolor": "rgb(36,36,36)",
             "ticks": "outside"
            },
            "colorscale": [
             [
              0,
              "#440154"
             ],
             [
              0.1111111111111111,
              "#482878"
             ],
             [
              0.2222222222222222,
              "#3e4989"
             ],
             [
              0.3333333333333333,
              "#31688e"
             ],
             [
              0.4444444444444444,
              "#26828e"
             ],
             [
              0.5555555555555556,
              "#1f9e89"
             ],
             [
              0.6666666666666666,
              "#35b779"
             ],
             [
              0.7777777777777778,
              "#6ece58"
             ],
             [
              0.8888888888888888,
              "#b5de2b"
             ],
             [
              1,
              "#fde725"
             ]
            ],
            "type": "histogram2dcontour"
           }
          ],
          "mesh3d": [
           {
            "colorbar": {
             "outlinewidth": 1,
             "tickcolor": "rgb(36,36,36)",
             "ticks": "outside"
            },
            "type": "mesh3d"
           }
          ],
          "parcoords": [
           {
            "line": {
             "colorbar": {
              "outlinewidth": 1,
              "tickcolor": "rgb(36,36,36)",
              "ticks": "outside"
             }
            },
            "type": "parcoords"
           }
          ],
          "pie": [
           {
            "automargin": true,
            "type": "pie"
           }
          ],
          "scatter": [
           {
            "fillpattern": {
             "fillmode": "overlay",
             "size": 10,
             "solidity": 0.2
            },
            "type": "scatter"
           }
          ],
          "scatter3d": [
           {
            "line": {
             "colorbar": {
              "outlinewidth": 1,
              "tickcolor": "rgb(36,36,36)",
              "ticks": "outside"
             }
            },
            "marker": {
             "colorbar": {
              "outlinewidth": 1,
              "tickcolor": "rgb(36,36,36)",
              "ticks": "outside"
             }
            },
            "type": "scatter3d"
           }
          ],
          "scattercarpet": [
           {
            "marker": {
             "colorbar": {
              "outlinewidth": 1,
              "tickcolor": "rgb(36,36,36)",
              "ticks": "outside"
             }
            },
            "type": "scattercarpet"
           }
          ],
          "scattergeo": [
           {
            "marker": {
             "colorbar": {
              "outlinewidth": 1,
              "tickcolor": "rgb(36,36,36)",
              "ticks": "outside"
             }
            },
            "type": "scattergeo"
           }
          ],
          "scattergl": [
           {
            "marker": {
             "colorbar": {
              "outlinewidth": 1,
              "tickcolor": "rgb(36,36,36)",
              "ticks": "outside"
             }
            },
            "type": "scattergl"
           }
          ],
          "scattermapbox": [
           {
            "marker": {
             "colorbar": {
              "outlinewidth": 1,
              "tickcolor": "rgb(36,36,36)",
              "ticks": "outside"
             }
            },
            "type": "scattermapbox"
           }
          ],
          "scatterpolar": [
           {
            "marker": {
             "colorbar": {
              "outlinewidth": 1,
              "tickcolor": "rgb(36,36,36)",
              "ticks": "outside"
             }
            },
            "type": "scatterpolar"
           }
          ],
          "scatterpolargl": [
           {
            "marker": {
             "colorbar": {
              "outlinewidth": 1,
              "tickcolor": "rgb(36,36,36)",
              "ticks": "outside"
             }
            },
            "type": "scatterpolargl"
           }
          ],
          "scatterternary": [
           {
            "marker": {
             "colorbar": {
              "outlinewidth": 1,
              "tickcolor": "rgb(36,36,36)",
              "ticks": "outside"
             }
            },
            "type": "scatterternary"
           }
          ],
          "surface": [
           {
            "colorbar": {
             "outlinewidth": 1,
             "tickcolor": "rgb(36,36,36)",
             "ticks": "outside"
            },
            "colorscale": [
             [
              0,
              "#440154"
             ],
             [
              0.1111111111111111,
              "#482878"
             ],
             [
              0.2222222222222222,
              "#3e4989"
             ],
             [
              0.3333333333333333,
              "#31688e"
             ],
             [
              0.4444444444444444,
              "#26828e"
             ],
             [
              0.5555555555555556,
              "#1f9e89"
             ],
             [
              0.6666666666666666,
              "#35b779"
             ],
             [
              0.7777777777777778,
              "#6ece58"
             ],
             [
              0.8888888888888888,
              "#b5de2b"
             ],
             [
              1,
              "#fde725"
             ]
            ],
            "type": "surface"
           }
          ],
          "table": [
           {
            "cells": {
             "fill": {
              "color": "rgb(237,237,237)"
             },
             "line": {
              "color": "white"
             }
            },
            "header": {
             "fill": {
              "color": "rgb(217,217,217)"
             },
             "line": {
              "color": "white"
             }
            },
            "type": "table"
           }
          ]
         },
         "layout": {
          "annotationdefaults": {
           "arrowhead": 0,
           "arrowwidth": 1
          },
          "autotypenumbers": "strict",
          "coloraxis": {
           "colorbar": {
            "outlinewidth": 1,
            "tickcolor": "rgb(36,36,36)",
            "ticks": "outside"
           }
          },
          "colorscale": {
           "diverging": [
            [
             0,
             "rgb(103,0,31)"
            ],
            [
             0.1,
             "rgb(178,24,43)"
            ],
            [
             0.2,
             "rgb(214,96,77)"
            ],
            [
             0.3,
             "rgb(244,165,130)"
            ],
            [
             0.4,
             "rgb(253,219,199)"
            ],
            [
             0.5,
             "rgb(247,247,247)"
            ],
            [
             0.6,
             "rgb(209,229,240)"
            ],
            [
             0.7,
             "rgb(146,197,222)"
            ],
            [
             0.8,
             "rgb(67,147,195)"
            ],
            [
             0.9,
             "rgb(33,102,172)"
            ],
            [
             1,
             "rgb(5,48,97)"
            ]
           ],
           "sequential": [
            [
             0,
             "#440154"
            ],
            [
             0.1111111111111111,
             "#482878"
            ],
            [
             0.2222222222222222,
             "#3e4989"
            ],
            [
             0.3333333333333333,
             "#31688e"
            ],
            [
             0.4444444444444444,
             "#26828e"
            ],
            [
             0.5555555555555556,
             "#1f9e89"
            ],
            [
             0.6666666666666666,
             "#35b779"
            ],
            [
             0.7777777777777778,
             "#6ece58"
            ],
            [
             0.8888888888888888,
             "#b5de2b"
            ],
            [
             1,
             "#fde725"
            ]
           ],
           "sequentialminus": [
            [
             0,
             "#440154"
            ],
            [
             0.1111111111111111,
             "#482878"
            ],
            [
             0.2222222222222222,
             "#3e4989"
            ],
            [
             0.3333333333333333,
             "#31688e"
            ],
            [
             0.4444444444444444,
             "#26828e"
            ],
            [
             0.5555555555555556,
             "#1f9e89"
            ],
            [
             0.6666666666666666,
             "#35b779"
            ],
            [
             0.7777777777777778,
             "#6ece58"
            ],
            [
             0.8888888888888888,
             "#b5de2b"
            ],
            [
             1,
             "#fde725"
            ]
           ]
          },
          "colorway": [
           "#1F77B4",
           "#FF7F0E",
           "#2CA02C",
           "#D62728",
           "#9467BD",
           "#8C564B",
           "#E377C2",
           "#7F7F7F",
           "#BCBD22",
           "#17BECF"
          ],
          "font": {
           "color": "rgb(36,36,36)"
          },
          "geo": {
           "bgcolor": "white",
           "lakecolor": "white",
           "landcolor": "white",
           "showlakes": true,
           "showland": true,
           "subunitcolor": "white"
          },
          "hoverlabel": {
           "align": "left"
          },
          "hovermode": "closest",
          "mapbox": {
           "style": "light"
          },
          "paper_bgcolor": "white",
          "plot_bgcolor": "white",
          "polar": {
           "angularaxis": {
            "gridcolor": "rgb(232,232,232)",
            "linecolor": "rgb(36,36,36)",
            "showgrid": false,
            "showline": true,
            "ticks": "outside"
           },
           "bgcolor": "white",
           "radialaxis": {
            "gridcolor": "rgb(232,232,232)",
            "linecolor": "rgb(36,36,36)",
            "showgrid": false,
            "showline": true,
            "ticks": "outside"
           }
          },
          "scene": {
           "xaxis": {
            "backgroundcolor": "white",
            "gridcolor": "rgb(232,232,232)",
            "gridwidth": 2,
            "linecolor": "rgb(36,36,36)",
            "showbackground": true,
            "showgrid": false,
            "showline": true,
            "ticks": "outside",
            "zeroline": false,
            "zerolinecolor": "rgb(36,36,36)"
           },
           "yaxis": {
            "backgroundcolor": "white",
            "gridcolor": "rgb(232,232,232)",
            "gridwidth": 2,
            "linecolor": "rgb(36,36,36)",
            "showbackground": true,
            "showgrid": false,
            "showline": true,
            "ticks": "outside",
            "zeroline": false,
            "zerolinecolor": "rgb(36,36,36)"
           },
           "zaxis": {
            "backgroundcolor": "white",
            "gridcolor": "rgb(232,232,232)",
            "gridwidth": 2,
            "linecolor": "rgb(36,36,36)",
            "showbackground": true,
            "showgrid": false,
            "showline": true,
            "ticks": "outside",
            "zeroline": false,
            "zerolinecolor": "rgb(36,36,36)"
           }
          },
          "shapedefaults": {
           "fillcolor": "black",
           "line": {
            "width": 0
           },
           "opacity": 0.3
          },
          "ternary": {
           "aaxis": {
            "gridcolor": "rgb(232,232,232)",
            "linecolor": "rgb(36,36,36)",
            "showgrid": false,
            "showline": true,
            "ticks": "outside"
           },
           "baxis": {
            "gridcolor": "rgb(232,232,232)",
            "linecolor": "rgb(36,36,36)",
            "showgrid": false,
            "showline": true,
            "ticks": "outside"
           },
           "bgcolor": "white",
           "caxis": {
            "gridcolor": "rgb(232,232,232)",
            "linecolor": "rgb(36,36,36)",
            "showgrid": false,
            "showline": true,
            "ticks": "outside"
           }
          },
          "title": {
           "x": 0.05
          },
          "xaxis": {
           "automargin": true,
           "gridcolor": "rgb(232,232,232)",
           "linecolor": "rgb(36,36,36)",
           "showgrid": false,
           "showline": true,
           "ticks": "outside",
           "title": {
            "standoff": 15
           },
           "zeroline": false,
           "zerolinecolor": "rgb(36,36,36)"
          },
          "yaxis": {
           "automargin": true,
           "gridcolor": "rgb(232,232,232)",
           "linecolor": "rgb(36,36,36)",
           "showgrid": false,
           "showline": true,
           "ticks": "outside",
           "title": {
            "standoff": 15
           },
           "zeroline": false,
           "zerolinecolor": "rgb(36,36,36)"
          }
         }
        },
        "title": {
         "text": "Income Comparision"
        },
        "xaxis": {
         "anchor": "y",
         "domain": [
          0,
          0.45
         ]
        },
        "xaxis2": {
         "anchor": "y2",
         "domain": [
          0.55,
          1
         ]
        },
        "xaxis3": {
         "anchor": "y3",
         "domain": [
          0,
          0.45
         ]
        },
        "xaxis4": {
         "anchor": "y4",
         "domain": [
          0.55,
          1
         ]
        },
        "yaxis": {
         "anchor": "x",
         "domain": [
          0.575,
          1
         ]
        },
        "yaxis2": {
         "anchor": "x2",
         "domain": [
          0.575,
          1
         ]
        },
        "yaxis3": {
         "anchor": "x3",
         "domain": [
          0,
          0.425
         ]
        },
        "yaxis4": {
         "anchor": "x4",
         "domain": [
          0,
          0.425
         ]
        }
       }
      },
      "text/html": [
       "<div>                            <div id=\"337a61bc-84ce-4f31-8a88-4b74468345f2\" class=\"plotly-graph-div\" style=\"height:700px; width:100%;\"></div>            <script type=\"text/javascript\">                require([\"plotly\"], function(Plotly) {                    window.PLOTLYENV=window.PLOTLYENV || {};                                    if (document.getElementById(\"337a61bc-84ce-4f31-8a88-4b74468345f2\")) {                    Plotly.newPlot(                        \"337a61bc-84ce-4f31-8a88-4b74468345f2\",                        [{\"marker\":{\"color\":[\"rgb(211, 242, 163)\",\"rgb(151, 225, 150)\",\"rgb(108, 192, 139)\",\"rgb(76, 155, 130)\",\"rgb(33, 122, 121)\",\"rgb(16, 89, 101)\",\"rgb(7, 64, 80)\"],\"line\":{\"color\":\"black\",\"width\":1.5}},\"name\":\"Sex\",\"text\":[112850.047,127775.226],\"textfont\":{\"size\":10},\"textposition\":\"inside\",\"x\":[\"1\",\"0\"],\"y\":[112850.04704595185,127775.2255985267],\"type\":\"bar\",\"xaxis\":\"x\",\"yaxis\":\"y\",\"opacity\":0.8},{\"marker\":{\"color\":[\"rgb(211, 242, 163)\",\"rgb(151, 225, 150)\",\"rgb(108, 192, 139)\",\"rgb(76, 155, 130)\",\"rgb(33, 122, 121)\",\"rgb(16, 89, 101)\",\"rgb(7, 64, 80)\"],\"line\":{\"color\":\"black\",\"width\":1.5}},\"name\":\"Education\",\"text\":[115068.213,116367.72,145405.983,146818.333],\"textfont\":{\"size\":10},\"textposition\":\"inside\",\"x\":[\"0\",\"1\",\"2\",\"3\"],\"y\":[115068.21254355401,116367.72005772006,145405.98281786943,146818.33333333334],\"type\":\"bar\",\"xaxis\":\"x2\",\"yaxis\":\"y2\",\"opacity\":0.8},{\"marker\":{\"color\":[\"rgb(211, 242, 163)\",\"rgb(151, 225, 150)\",\"rgb(108, 192, 139)\",\"rgb(76, 155, 130)\",\"rgb(33, 122, 121)\",\"rgb(16, 89, 101)\",\"rgb(7, 64, 80)\"],\"line\":{\"color\":\"black\",\"width\":1.5}},\"name\":\"Settlement\",\"text\":[101061.788,137430.344,143889.985],\"textfont\":{\"size\":10},\"textposition\":\"inside\",\"x\":[\"0\",\"1\",\"2\"],\"y\":[101061.78766430738,137430.34375,143889.98501070664],\"type\":\"bar\",\"xaxis\":\"x3\",\"yaxis\":\"y3\",\"opacity\":0.8}],                        {\"template\":{\"data\":{\"barpolar\":[{\"marker\":{\"line\":{\"color\":\"white\",\"width\":0.5},\"pattern\":{\"fillmode\":\"overlay\",\"size\":10,\"solidity\":0.2}},\"type\":\"barpolar\"}],\"bar\":[{\"error_x\":{\"color\":\"rgb(36,36,36)\"},\"error_y\":{\"color\":\"rgb(36,36,36)\"},\"marker\":{\"line\":{\"color\":\"white\",\"width\":0.5},\"pattern\":{\"fillmode\":\"overlay\",\"size\":10,\"solidity\":0.2}},\"type\":\"bar\"}],\"carpet\":[{\"aaxis\":{\"endlinecolor\":\"rgb(36,36,36)\",\"gridcolor\":\"white\",\"linecolor\":\"white\",\"minorgridcolor\":\"white\",\"startlinecolor\":\"rgb(36,36,36)\"},\"baxis\":{\"endlinecolor\":\"rgb(36,36,36)\",\"gridcolor\":\"white\",\"linecolor\":\"white\",\"minorgridcolor\":\"white\",\"startlinecolor\":\"rgb(36,36,36)\"},\"type\":\"carpet\"}],\"choropleth\":[{\"colorbar\":{\"outlinewidth\":1,\"tickcolor\":\"rgb(36,36,36)\",\"ticks\":\"outside\"},\"type\":\"choropleth\"}],\"contourcarpet\":[{\"colorbar\":{\"outlinewidth\":1,\"tickcolor\":\"rgb(36,36,36)\",\"ticks\":\"outside\"},\"type\":\"contourcarpet\"}],\"contour\":[{\"colorbar\":{\"outlinewidth\":1,\"tickcolor\":\"rgb(36,36,36)\",\"ticks\":\"outside\"},\"colorscale\":[[0.0,\"#440154\"],[0.1111111111111111,\"#482878\"],[0.2222222222222222,\"#3e4989\"],[0.3333333333333333,\"#31688e\"],[0.4444444444444444,\"#26828e\"],[0.5555555555555556,\"#1f9e89\"],[0.6666666666666666,\"#35b779\"],[0.7777777777777778,\"#6ece58\"],[0.8888888888888888,\"#b5de2b\"],[1.0,\"#fde725\"]],\"type\":\"contour\"}],\"heatmapgl\":[{\"colorbar\":{\"outlinewidth\":1,\"tickcolor\":\"rgb(36,36,36)\",\"ticks\":\"outside\"},\"colorscale\":[[0.0,\"#440154\"],[0.1111111111111111,\"#482878\"],[0.2222222222222222,\"#3e4989\"],[0.3333333333333333,\"#31688e\"],[0.4444444444444444,\"#26828e\"],[0.5555555555555556,\"#1f9e89\"],[0.6666666666666666,\"#35b779\"],[0.7777777777777778,\"#6ece58\"],[0.8888888888888888,\"#b5de2b\"],[1.0,\"#fde725\"]],\"type\":\"heatmapgl\"}],\"heatmap\":[{\"colorbar\":{\"outlinewidth\":1,\"tickcolor\":\"rgb(36,36,36)\",\"ticks\":\"outside\"},\"colorscale\":[[0.0,\"#440154\"],[0.1111111111111111,\"#482878\"],[0.2222222222222222,\"#3e4989\"],[0.3333333333333333,\"#31688e\"],[0.4444444444444444,\"#26828e\"],[0.5555555555555556,\"#1f9e89\"],[0.6666666666666666,\"#35b779\"],[0.7777777777777778,\"#6ece58\"],[0.8888888888888888,\"#b5de2b\"],[1.0,\"#fde725\"]],\"type\":\"heatmap\"}],\"histogram2dcontour\":[{\"colorbar\":{\"outlinewidth\":1,\"tickcolor\":\"rgb(36,36,36)\",\"ticks\":\"outside\"},\"colorscale\":[[0.0,\"#440154\"],[0.1111111111111111,\"#482878\"],[0.2222222222222222,\"#3e4989\"],[0.3333333333333333,\"#31688e\"],[0.4444444444444444,\"#26828e\"],[0.5555555555555556,\"#1f9e89\"],[0.6666666666666666,\"#35b779\"],[0.7777777777777778,\"#6ece58\"],[0.8888888888888888,\"#b5de2b\"],[1.0,\"#fde725\"]],\"type\":\"histogram2dcontour\"}],\"histogram2d\":[{\"colorbar\":{\"outlinewidth\":1,\"tickcolor\":\"rgb(36,36,36)\",\"ticks\":\"outside\"},\"colorscale\":[[0.0,\"#440154\"],[0.1111111111111111,\"#482878\"],[0.2222222222222222,\"#3e4989\"],[0.3333333333333333,\"#31688e\"],[0.4444444444444444,\"#26828e\"],[0.5555555555555556,\"#1f9e89\"],[0.6666666666666666,\"#35b779\"],[0.7777777777777778,\"#6ece58\"],[0.8888888888888888,\"#b5de2b\"],[1.0,\"#fde725\"]],\"type\":\"histogram2d\"}],\"histogram\":[{\"marker\":{\"line\":{\"color\":\"white\",\"width\":0.6}},\"type\":\"histogram\"}],\"mesh3d\":[{\"colorbar\":{\"outlinewidth\":1,\"tickcolor\":\"rgb(36,36,36)\",\"ticks\":\"outside\"},\"type\":\"mesh3d\"}],\"parcoords\":[{\"line\":{\"colorbar\":{\"outlinewidth\":1,\"tickcolor\":\"rgb(36,36,36)\",\"ticks\":\"outside\"}},\"type\":\"parcoords\"}],\"pie\":[{\"automargin\":true,\"type\":\"pie\"}],\"scatter3d\":[{\"line\":{\"colorbar\":{\"outlinewidth\":1,\"tickcolor\":\"rgb(36,36,36)\",\"ticks\":\"outside\"}},\"marker\":{\"colorbar\":{\"outlinewidth\":1,\"tickcolor\":\"rgb(36,36,36)\",\"ticks\":\"outside\"}},\"type\":\"scatter3d\"}],\"scattercarpet\":[{\"marker\":{\"colorbar\":{\"outlinewidth\":1,\"tickcolor\":\"rgb(36,36,36)\",\"ticks\":\"outside\"}},\"type\":\"scattercarpet\"}],\"scattergeo\":[{\"marker\":{\"colorbar\":{\"outlinewidth\":1,\"tickcolor\":\"rgb(36,36,36)\",\"ticks\":\"outside\"}},\"type\":\"scattergeo\"}],\"scattergl\":[{\"marker\":{\"colorbar\":{\"outlinewidth\":1,\"tickcolor\":\"rgb(36,36,36)\",\"ticks\":\"outside\"}},\"type\":\"scattergl\"}],\"scattermapbox\":[{\"marker\":{\"colorbar\":{\"outlinewidth\":1,\"tickcolor\":\"rgb(36,36,36)\",\"ticks\":\"outside\"}},\"type\":\"scattermapbox\"}],\"scatterpolargl\":[{\"marker\":{\"colorbar\":{\"outlinewidth\":1,\"tickcolor\":\"rgb(36,36,36)\",\"ticks\":\"outside\"}},\"type\":\"scatterpolargl\"}],\"scatterpolar\":[{\"marker\":{\"colorbar\":{\"outlinewidth\":1,\"tickcolor\":\"rgb(36,36,36)\",\"ticks\":\"outside\"}},\"type\":\"scatterpolar\"}],\"scatter\":[{\"fillpattern\":{\"fillmode\":\"overlay\",\"size\":10,\"solidity\":0.2},\"type\":\"scatter\"}],\"scatterternary\":[{\"marker\":{\"colorbar\":{\"outlinewidth\":1,\"tickcolor\":\"rgb(36,36,36)\",\"ticks\":\"outside\"}},\"type\":\"scatterternary\"}],\"surface\":[{\"colorbar\":{\"outlinewidth\":1,\"tickcolor\":\"rgb(36,36,36)\",\"ticks\":\"outside\"},\"colorscale\":[[0.0,\"#440154\"],[0.1111111111111111,\"#482878\"],[0.2222222222222222,\"#3e4989\"],[0.3333333333333333,\"#31688e\"],[0.4444444444444444,\"#26828e\"],[0.5555555555555556,\"#1f9e89\"],[0.6666666666666666,\"#35b779\"],[0.7777777777777778,\"#6ece58\"],[0.8888888888888888,\"#b5de2b\"],[1.0,\"#fde725\"]],\"type\":\"surface\"}],\"table\":[{\"cells\":{\"fill\":{\"color\":\"rgb(237,237,237)\"},\"line\":{\"color\":\"white\"}},\"header\":{\"fill\":{\"color\":\"rgb(217,217,217)\"},\"line\":{\"color\":\"white\"}},\"type\":\"table\"}]},\"layout\":{\"annotationdefaults\":{\"arrowhead\":0,\"arrowwidth\":1},\"autotypenumbers\":\"strict\",\"coloraxis\":{\"colorbar\":{\"outlinewidth\":1,\"tickcolor\":\"rgb(36,36,36)\",\"ticks\":\"outside\"}},\"colorscale\":{\"diverging\":[[0.0,\"rgb(103,0,31)\"],[0.1,\"rgb(178,24,43)\"],[0.2,\"rgb(214,96,77)\"],[0.3,\"rgb(244,165,130)\"],[0.4,\"rgb(253,219,199)\"],[0.5,\"rgb(247,247,247)\"],[0.6,\"rgb(209,229,240)\"],[0.7,\"rgb(146,197,222)\"],[0.8,\"rgb(67,147,195)\"],[0.9,\"rgb(33,102,172)\"],[1.0,\"rgb(5,48,97)\"]],\"sequential\":[[0.0,\"#440154\"],[0.1111111111111111,\"#482878\"],[0.2222222222222222,\"#3e4989\"],[0.3333333333333333,\"#31688e\"],[0.4444444444444444,\"#26828e\"],[0.5555555555555556,\"#1f9e89\"],[0.6666666666666666,\"#35b779\"],[0.7777777777777778,\"#6ece58\"],[0.8888888888888888,\"#b5de2b\"],[1.0,\"#fde725\"]],\"sequentialminus\":[[0.0,\"#440154\"],[0.1111111111111111,\"#482878\"],[0.2222222222222222,\"#3e4989\"],[0.3333333333333333,\"#31688e\"],[0.4444444444444444,\"#26828e\"],[0.5555555555555556,\"#1f9e89\"],[0.6666666666666666,\"#35b779\"],[0.7777777777777778,\"#6ece58\"],[0.8888888888888888,\"#b5de2b\"],[1.0,\"#fde725\"]]},\"colorway\":[\"#1F77B4\",\"#FF7F0E\",\"#2CA02C\",\"#D62728\",\"#9467BD\",\"#8C564B\",\"#E377C2\",\"#7F7F7F\",\"#BCBD22\",\"#17BECF\"],\"font\":{\"color\":\"rgb(36,36,36)\"},\"geo\":{\"bgcolor\":\"white\",\"lakecolor\":\"white\",\"landcolor\":\"white\",\"showlakes\":true,\"showland\":true,\"subunitcolor\":\"white\"},\"hoverlabel\":{\"align\":\"left\"},\"hovermode\":\"closest\",\"mapbox\":{\"style\":\"light\"},\"paper_bgcolor\":\"white\",\"plot_bgcolor\":\"white\",\"polar\":{\"angularaxis\":{\"gridcolor\":\"rgb(232,232,232)\",\"linecolor\":\"rgb(36,36,36)\",\"showgrid\":false,\"showline\":true,\"ticks\":\"outside\"},\"bgcolor\":\"white\",\"radialaxis\":{\"gridcolor\":\"rgb(232,232,232)\",\"linecolor\":\"rgb(36,36,36)\",\"showgrid\":false,\"showline\":true,\"ticks\":\"outside\"}},\"scene\":{\"xaxis\":{\"backgroundcolor\":\"white\",\"gridcolor\":\"rgb(232,232,232)\",\"gridwidth\":2,\"linecolor\":\"rgb(36,36,36)\",\"showbackground\":true,\"showgrid\":false,\"showline\":true,\"ticks\":\"outside\",\"zeroline\":false,\"zerolinecolor\":\"rgb(36,36,36)\"},\"yaxis\":{\"backgroundcolor\":\"white\",\"gridcolor\":\"rgb(232,232,232)\",\"gridwidth\":2,\"linecolor\":\"rgb(36,36,36)\",\"showbackground\":true,\"showgrid\":false,\"showline\":true,\"ticks\":\"outside\",\"zeroline\":false,\"zerolinecolor\":\"rgb(36,36,36)\"},\"zaxis\":{\"backgroundcolor\":\"white\",\"gridcolor\":\"rgb(232,232,232)\",\"gridwidth\":2,\"linecolor\":\"rgb(36,36,36)\",\"showbackground\":true,\"showgrid\":false,\"showline\":true,\"ticks\":\"outside\",\"zeroline\":false,\"zerolinecolor\":\"rgb(36,36,36)\"}},\"shapedefaults\":{\"fillcolor\":\"black\",\"line\":{\"width\":0},\"opacity\":0.3},\"ternary\":{\"aaxis\":{\"gridcolor\":\"rgb(232,232,232)\",\"linecolor\":\"rgb(36,36,36)\",\"showgrid\":false,\"showline\":true,\"ticks\":\"outside\"},\"baxis\":{\"gridcolor\":\"rgb(232,232,232)\",\"linecolor\":\"rgb(36,36,36)\",\"showgrid\":false,\"showline\":true,\"ticks\":\"outside\"},\"bgcolor\":\"white\",\"caxis\":{\"gridcolor\":\"rgb(232,232,232)\",\"linecolor\":\"rgb(36,36,36)\",\"showgrid\":false,\"showline\":true,\"ticks\":\"outside\"}},\"title\":{\"x\":0.05},\"xaxis\":{\"automargin\":true,\"gridcolor\":\"rgb(232,232,232)\",\"linecolor\":\"rgb(36,36,36)\",\"showgrid\":false,\"showline\":true,\"ticks\":\"outside\",\"title\":{\"standoff\":15},\"zeroline\":false,\"zerolinecolor\":\"rgb(36,36,36)\"},\"yaxis\":{\"automargin\":true,\"gridcolor\":\"rgb(232,232,232)\",\"linecolor\":\"rgb(36,36,36)\",\"showgrid\":false,\"showline\":true,\"ticks\":\"outside\",\"title\":{\"standoff\":15},\"zeroline\":false,\"zerolinecolor\":\"rgb(36,36,36)\"}}},\"xaxis\":{\"anchor\":\"y\",\"domain\":[0.0,0.45]},\"yaxis\":{\"anchor\":\"x\",\"domain\":[0.575,1.0]},\"xaxis2\":{\"anchor\":\"y2\",\"domain\":[0.55,1.0]},\"yaxis2\":{\"anchor\":\"x2\",\"domain\":[0.575,1.0]},\"xaxis3\":{\"anchor\":\"y3\",\"domain\":[0.0,0.45]},\"yaxis3\":{\"anchor\":\"x3\",\"domain\":[0.0,0.425]},\"xaxis4\":{\"anchor\":\"y4\",\"domain\":[0.55,1.0]},\"yaxis4\":{\"anchor\":\"x4\",\"domain\":[0.0,0.425]},\"title\":{\"text\":\"Income Comparision\"},\"height\":700},                        {\"responsive\": true}                    ).then(function(){\n",
       "                            \n",
       "var gd = document.getElementById('337a61bc-84ce-4f31-8a88-4b74468345f2');\n",
       "var x = new MutationObserver(function (mutations, observer) {{\n",
       "        var display = window.getComputedStyle(gd).display;\n",
       "        if (!display || display === 'none') {{\n",
       "            console.log([gd, 'removed!']);\n",
       "            Plotly.purge(gd);\n",
       "            observer.disconnect();\n",
       "        }}\n",
       "}});\n",
       "\n",
       "// Listen for the removal of the full notebook cells\n",
       "var notebookContainer = gd.closest('#notebook-container');\n",
       "if (notebookContainer) {{\n",
       "    x.observe(notebookContainer, {childList: true});\n",
       "}}\n",
       "\n",
       "// Listen for the clearing of the current output cell\n",
       "var outputEl = gd.closest('.output');\n",
       "if (outputEl) {{\n",
       "    x.observe(outputEl, {childList: true});\n",
       "}}\n",
       "\n",
       "                        })                };                });            </script>        </div>"
      ]
     },
     "metadata": {},
     "output_type": "display_data"
    }
   ],
   "source": [
    "n_rows=2 \n",
    "n_cols=2\n",
    "Sex_mean = df.groupby('Sex')['Income'].mean().sort_values(ascending=True)\n",
    "Education_mean = df.groupby('Education')['Income'].mean().sort_values(ascending=True)\n",
    "Settlement_mean = df.groupby('Settlement size')['Income'].mean().sort_values(ascending=True)\n",
    "labels=[Sex_mean,Education_mean,Settlement_mean]\n",
    "labels_value=['Sex','Education','Settlement']\n",
    "fig = make_subplots(rows=n_rows,cols=n_cols)\n",
    "for i,val in enumerate(labels_value):\n",
    "    fig.add_trace(\n",
    "        go.Bar( x=labels[i].index.astype('str'),\n",
    "                y=labels[i].values,\n",
    "                name=val,\n",
    "                text=np.round(labels[i].values,3),\n",
    "                textposition='inside',\n",
    "                marker_color=px.colors.sequential.Emrld,\n",
    "                textfont=dict(size=10)),\n",
    "                row=int(i/n_cols)+1 , col =int(i%n_cols)+1\n",
    "    )\n",
    "fig.update_layout(\n",
    "        height=700,\n",
    "        title_text='Income Comparision',\n",
    "        template='simple_white'\n",
    "    )\n",
    "fig.update_traces(\n",
    "    marker_line_color='black', \n",
    "    marker_line_width=1.5, \n",
    "    opacity=0.8)\n",
    "fig.show()\n",
    "    "
   ]
  },
  {
   "cell_type": "markdown",
   "id": "42c65f92",
   "metadata": {},
   "source": [
    "\n",
    "### CLUSTER MODEL"
   ]
  },
  {
   "cell_type": "code",
   "execution_count": 190,
   "id": "5b9f58c4",
   "metadata": {},
   "outputs": [],
   "source": [
    "from sklearn.cluster import KMeans\n",
    "from sklearn.metrics import silhouette_samples, silhouette_score\n",
    "from sklearn.preprocessing import PowerTransformer , MinMaxScaler\n",
    "from scipy import stats\n",
    "import matplotlib.cm as cm"
   ]
  },
  {
   "cell_type": "code",
   "execution_count": 181,
   "id": "2325c7d2",
   "metadata": {},
   "outputs": [],
   "source": [
    "def normality_test(feature):\n",
    "    return stats.normaltest(feature)[1]"
   ]
  },
  {
   "cell_type": "code",
   "execution_count": 182,
   "id": "d184f85c",
   "metadata": {},
   "outputs": [],
   "source": [
    "def power_log_transform(feature):\n",
    "    \n",
    "    #power transform\n",
    "    powerT = PowerTransformer().fit_transform(feature.to_numpy().reshape(-1,1))\n",
    "    Power_normality = normality_test(powerT.flatten())\n",
    "    \n",
    "    # Log Transform\n",
    "    LogT = np.log(feature)\n",
    "    Log_normality = normality_test(LogT)\n",
    "    return Power_normality , Log_normality"
   ]
  },
  {
   "cell_type": "code",
   "execution_count": 183,
   "id": "7172ec2d",
   "metadata": {
    "scrolled": true
   },
   "outputs": [
    {
     "name": "stdout",
     "output_type": "stream",
     "text": [
      "The Normal Distribution Value for Income is: 2.5009638879187734e-98\n",
      "The Power Distribution Value for Income is: 8.921729867143389e-07\n",
      "The Log Distribution Value for Income is: 9.41366371618838e-08\n"
     ]
    }
   ],
   "source": [
    "## Income Transform\n",
    "Normal_Dist = normality_test(df['Income'])\n",
    "Power_Dist , Log_Dist = power_log_transform(df['Income'])\n",
    "\n",
    "print(f'The Normal Distribution Value for Income is: {Normal_Dist}')\n",
    "print(f'The Power Distribution Value for Income is: {Power_Dist}')\n",
    "print(f'The Log Distribution Value for Income is: {Log_Dist}')"
   ]
  },
  {
   "cell_type": "markdown",
   "id": "29760511",
   "metadata": {},
   "source": [
    "### From the analysis, original, power transformed, and log transformed income distributions do NOT have normal distributions as their p-value is smaller than 0.05. However, since power transformed income distribution has the largest p-value compared to other distributions, I will power transform income distribution in preprocessing section."
   ]
  },
  {
   "cell_type": "code",
   "execution_count": 184,
   "id": "d77d7774",
   "metadata": {},
   "outputs": [
    {
     "name": "stdout",
     "output_type": "stream",
     "text": [
      "The Normal Distribution Value for Age is: 3.3428344869999675e-56\n",
      "The Power Distribution Value for Age is: 9.92408801400393e-36\n",
      "The Log Distribution Value for Age is: 7.519702564848323e-25\n"
     ]
    }
   ],
   "source": [
    "## Age Transform\n",
    "Normal_Dist = normality_test(df['Age'])\n",
    "Power_Dist , Log_Dist = power_log_transform(df['Age'])\n",
    "\n",
    "print(f'The Normal Distribution Value for Age is: {Normal_Dist}')\n",
    "print(f'The Power Distribution Value for Age is: {Power_Dist}')\n",
    "print(f'The Log Distribution Value for Age is: {Log_Dist}')"
   ]
  },
  {
   "cell_type": "markdown",
   "id": "991734f1",
   "metadata": {},
   "source": [
    "### From the analysis, original, power transformed, and log transformed age distributions do NOT have normal distributions as their p-value is smaller than 0.05. However, since log transformed age distribution has the largest p-value compared to other distributions, I will log transform age distribution in preprocessing section."
   ]
  },
  {
   "cell_type": "code",
   "execution_count": 185,
   "id": "37d669e1",
   "metadata": {},
   "outputs": [],
   "source": [
    "def PreProcess(df):\n",
    "    \n",
    "    X_features = df.copy() \n",
    "    \n",
    "    # Power Transform Income, Log Transform Age \n",
    "    power_income = PowerTransformer().fit_transform(df['Income'].to_numpy().reshape(-1,1))\n",
    "    power_income = pd.Series(data=power_income.flatten(), index=list(range(len(power_income.flatten()))))\n",
    "    log_age = np.log(df['Age'])\n",
    "    df['Power_Income'] = power_income\n",
    "    df['Log_Age'] = log_age\n",
    "    X_features = df.drop(columns=['Income', 'Age'], inplace=False)\n",
    "    X_features.dropna(inplace=True)\n",
    "    # MinMax Scaling\n",
    "    scaler = MinMaxScaler()\n",
    "    X_features = scaler.fit_transform(X_features)\n",
    "    \n",
    "    return X_features "
   ]
  },
  {
   "cell_type": "code",
   "execution_count": 186,
   "id": "269c24ad",
   "metadata": {},
   "outputs": [
    {
     "name": "stdout",
     "output_type": "stream",
     "text": [
      "      Sex  Marital status  Age  Education  Income  Occupation  \\\n",
      "0       0               0   67          2  124670           1   \n",
      "1       1               1   22          1  150773           1   \n",
      "2       0               0   49          1   89210           0   \n",
      "3       0               0   45          1  171565           1   \n",
      "4       0               0   53          1  149031           1   \n",
      "...   ...             ...  ...        ...     ...         ...   \n",
      "1995    1               0   47          1  123525           0   \n",
      "1996    1               1   27          1  117744           1   \n",
      "1997    0               0   31          0   86400           0   \n",
      "1998    1               1   24          1   97968           0   \n",
      "1999    0               0   25          0   68416           0   \n",
      "\n",
      "      Settlement size  Power_Income   Log_Age  \n",
      "0                   2      0.239545  4.204693  \n",
      "1                   2      0.869781  3.091042  \n",
      "2                   0     -0.846121  3.891820  \n",
      "3                   1      1.303766  3.806662  \n",
      "4                   1      0.830970  3.970292  \n",
      "...               ...           ...       ...  \n",
      "1995                0      0.209208  3.850148  \n",
      "1996                0      0.051991  3.295837  \n",
      "1997                0     -0.948374  3.433987  \n",
      "1998                0     -0.545364  3.178054  \n",
      "1999                0     -1.685848  3.218876  \n",
      "\n",
      "[2000 rows x 9 columns]\n"
     ]
    }
   ],
   "source": [
    "X_features = PreProcess(df)\n",
    "print(df)"
   ]
  },
  {
   "cell_type": "code",
   "execution_count": 191,
   "id": "13d63fe3",
   "metadata": {},
   "outputs": [],
   "source": [
    "def visualize_silhouette(model, cluster_lists, X_features):\n",
    "\n",
    "    n_cols = len(cluster_lists)\n",
    "    \n",
    "    fig, axs = plt.subplots(figsize=(4*n_cols,4), nrows=1, ncols=n_cols)\n",
    "    \n",
    "    for ind, n_cluster in enumerate(cluster_lists): \n",
    "        \n",
    "        if (model=='GMM'):\n",
    "            cluster =  GaussianMixture(n_components=n_cluster, random_state=0)\n",
    "            cluster_labels = cluster.fit_predict(X_features)\n",
    "        elif (model=='KMeans'):\n",
    "            cluster = KMeans(n_clusters=n_cluster, n_init=10, max_iter=500, random_state=0)\n",
    "            cluster_labels = cluster.fit_predict(X_features)\n",
    "\n",
    "        sil_avg = silhouette_score(X_features, cluster_labels)\n",
    "        sil_values = silhouette_samples(X_features, cluster_labels)\n",
    "        \n",
    "        y_lower = 10\n",
    "        axs[ind].set_title('Number of Cluster: '+str(n_cluster) + ' Silhouette Score: '+ str(round(sil_avg,3)),\n",
    "                           fontsize=10)\n",
    "        axs[ind].set_xlabel('The silhouette coefficient value')\n",
    "        \n",
    "        for i in range(n_cluster):\n",
    "            ith_cluster_sil_values = sil_values[cluster_labels==i]\n",
    "            ith_cluster_sil_values.sort() \n",
    "            \n",
    "            size_cluster_i = ith_cluster_sil_values.shape[0]\n",
    "            y_upper = y_lower + size_cluster_i \n",
    "            \n",
    "            color=  cm.nipy_spectral(float(i)/n_cluster)\n",
    "            axs[ind].fill_betweenx(\n",
    "            np.arange(y_lower, y_upper),\n",
    "            0,\n",
    "            ith_cluster_sil_values,\n",
    "            facecolor=color,\n",
    "            edgecolor=color,\n",
    "            alpha=0.7,\n",
    "        )\n",
    "            y_lower = y_upper + 10 \n",
    "        axs[ind].axvline(x=sil_avg, color=\"red\", linestyle=\"--\") "
   ]
  },
  {
   "cell_type": "code",
   "execution_count": 192,
   "id": "4360802c",
   "metadata": {},
   "outputs": [],
   "source": [
    "def evaluate(model_labels):\n",
    "    sil_avg = silhouette_score(X_features, model_labels)\n",
    "    return sil_avg"
   ]
  },
  {
   "cell_type": "code",
   "execution_count": 193,
   "id": "eea75c4e",
   "metadata": {},
   "outputs": [
    {
     "data": {
      "image/png": "[encoded data removed]",
      "text/plain": [
       "<Figure size 1200x400 with 3 Axes>"
      ]
     },
     "metadata": {},
     "output_type": "display_data"
    },
    {
     "data": {
      "image/png": "[encoded data removed]",
      "text/plain": [
       "<Figure size 1200x400 with 3 Axes>"
      ]
     },
     "metadata": {},
     "output_type": "display_data"
    }
   ],
   "source": [
    "visualize_silhouette('KMeans', [3,4,5], X_features)\n",
    "visualize_silhouette('KMeans', [6,7,8], X_features)"
   ]
  },
  {
   "cell_type": "markdown",
   "id": "0ba92abd",
   "metadata": {},
   "source": [
    "### The Perfect K value is 7 as it has the Best Sillhouette Score"
   ]
  },
  {
   "cell_type": "code",
   "execution_count": 194,
   "id": "389221b5",
   "metadata": {},
   "outputs": [],
   "source": [
    "kmeans = KMeans(n_clusters=7, n_init=10, max_iter=500, random_state=0)\n",
    "kmeans_labels = kmeans.fit_predict(X_features)\n",
    "df['kmeans_labels'] = kmeans_labels"
   ]
  },
  {
   "cell_type": "code",
   "execution_count": 195,
   "id": "1e7374d4",
   "metadata": {},
   "outputs": [
    {
     "name": "stdout",
     "output_type": "stream",
     "text": [
      "   Sex  Marital status  Age  Education  Income  Occupation  Settlement size  \\\n",
      "0    0               0   67          2  124670           1                2   \n",
      "1    1               1   22          1  150773           1                2   \n",
      "2    0               0   49          1   89210           0                0   \n",
      "3    0               0   45          1  171565           1                1   \n",
      "4    0               0   53          1  149031           1                1   \n",
      "\n",
      "   Power_Income   Log_Age  kmeans_labels  \n",
      "0      0.239545  4.204693              6  \n",
      "1      0.869781  3.091042              4  \n",
      "2     -0.846121  3.891820              0  \n",
      "3      1.303766  3.806662              6  \n",
      "4      0.830970  3.970292              6  \n"
     ]
    }
   ],
   "source": [
    "print(df.head())"
   ]
  },
  {
   "cell_type": "code",
   "execution_count": null,
   "id": "dec3e58a",
   "metadata": {},
   "outputs": [],
   "source": []
  }
 ],
 "metadata": {
  "kernelspec": {
   "display_name": "Python 3 (ipykernel)",
   "language": "python",
   "name": "python3"
  },
  "language_info": {
   "codemirror_mode": {
    "name": "ipython",
    "version": 3
   },
   "file_extension": ".py",
   "mimetype": "text/x-python",
   "name": "python",
   "nbconvert_exporter": "python",
   "pygments_lexer": "ipython3",
   "version": "3.10.6"
  }
 },
 "nbformat": 4,
 "nbformat_minor": 5
}
